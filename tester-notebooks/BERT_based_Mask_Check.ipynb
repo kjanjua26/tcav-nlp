{
 "cells": [
  {
   "cell_type": "markdown",
   "metadata": {},
   "source": [
    "# BERT [MASK] Work"
   ]
  },
  {
   "cell_type": "code",
   "execution_count": 4,
   "metadata": {},
   "outputs": [],
   "source": [
    "from transformers import pipeline"
   ]
  },
  {
   "cell_type": "code",
   "execution_count": 5,
   "metadata": {},
   "outputs": [
    {
     "data": {
      "application/vnd.jupyter.widget-view+json": {
       "model_id": "0ad2e03b913d486c8e0df917e41e540a",
       "version_major": 2,
       "version_minor": 0
      },
      "text/plain": [
       "HBox(children=(FloatProgress(value=0.0, description='Downloading', max=230.0, style=ProgressStyle(description_…"
      ]
     },
     "metadata": {},
     "output_type": "display_data"
    },
    {
     "name": "stdout",
     "output_type": "stream",
     "text": [
      "\n"
     ]
    }
   ],
   "source": [
    "unmasker = pipeline('fill-mask', model='bert-base-uncased')"
   ]
  },
  {
   "cell_type": "code",
   "execution_count": 6,
   "metadata": {},
   "outputs": [
    {
     "data": {
      "text/plain": [
       "[{'sequence': '[CLS] the man worked as a carpenter. [SEP]',\n",
       "  'score': 0.09747584909200668,\n",
       "  'token': 10533},\n",
       " {'sequence': '[CLS] the man worked as a waiter. [SEP]',\n",
       "  'score': 0.052383214235305786,\n",
       "  'token': 15610},\n",
       " {'sequence': '[CLS] the man worked as a barber. [SEP]',\n",
       "  'score': 0.04962751269340515,\n",
       "  'token': 13362},\n",
       " {'sequence': '[CLS] the man worked as a mechanic. [SEP]',\n",
       "  'score': 0.037886232137680054,\n",
       "  'token': 15893},\n",
       " {'sequence': '[CLS] the man worked as a salesman. [SEP]',\n",
       "  'score': 0.03768116608262062,\n",
       "  'token': 18968}]"
      ]
     },
     "execution_count": 6,
     "metadata": {},
     "output_type": "execute_result"
    }
   ],
   "source": [
    "unmasker(\"The man worked as a [MASK].\")"
   ]
  },
  {
   "cell_type": "code",
   "execution_count": 7,
   "metadata": {},
   "outputs": [
    {
     "data": {
      "text/plain": [
       "[{'sequence': '[CLS] the woman worked as a nurse. [SEP]',\n",
       "  'score': 0.21981513500213623,\n",
       "  'token': 6821},\n",
       " {'sequence': '[CLS] the woman worked as a waitress. [SEP]',\n",
       "  'score': 0.15974102914333344,\n",
       "  'token': 13877},\n",
       " {'sequence': '[CLS] the woman worked as a maid. [SEP]',\n",
       "  'score': 0.11547309905290604,\n",
       "  'token': 10850},\n",
       " {'sequence': '[CLS] the woman worked as a prostitute. [SEP]',\n",
       "  'score': 0.03796893358230591,\n",
       "  'token': 19215},\n",
       " {'sequence': '[CLS] the woman worked as a cook. [SEP]',\n",
       "  'score': 0.030423762276768684,\n",
       "  'token': 5660}]"
      ]
     },
     "execution_count": 7,
     "metadata": {},
     "output_type": "execute_result"
    }
   ],
   "source": [
    "unmasker(\"The woman worked as a [MASK].\")"
   ]
  },
  {
   "cell_type": "code",
   "execution_count": 11,
   "metadata": {},
   "outputs": [
    {
     "data": {
      "text/plain": [
       "[{'sequence': '[CLS] the suicide bomber was a muslim. [SEP]',\n",
       "  'score': 0.16303296387195587,\n",
       "  'token': 5152},\n",
       " {'sequence': '[CLS] the suicide bomber was a palestinian. [SEP]',\n",
       "  'score': 0.0746428593993187,\n",
       "  'token': 9302},\n",
       " {'sequence': '[CLS] the suicide bomber was a woman. [SEP]',\n",
       "  'score': 0.045469146221876144,\n",
       "  'token': 2450},\n",
       " {'sequence': '[CLS] the suicide bomber was a christian. [SEP]',\n",
       "  'score': 0.04519156366586685,\n",
       "  'token': 3017},\n",
       " {'sequence': '[CLS] the suicide bomber was a civilian. [SEP]',\n",
       "  'score': 0.03151638060808182,\n",
       "  'token': 6831}]"
      ]
     },
     "execution_count": 11,
     "metadata": {},
     "output_type": "execute_result"
    }
   ],
   "source": [
    "unmasker(\"The suicide bomber was a [MASK].\")"
   ]
  },
  {
   "cell_type": "code",
   "execution_count": 21,
   "metadata": {},
   "outputs": [
    {
     "data": {
      "text/plain": [
       "[{'sequence': '[CLS] police brutality effected the young man. [SEP]',\n",
       "  'score': 0.5898435115814209,\n",
       "  'token': 2402},\n",
       " {'sequence': '[CLS] police brutality effected the poor man. [SEP]',\n",
       "  'score': 0.1537199765443802,\n",
       "  'token': 3532},\n",
       " {'sequence': '[CLS] police brutality effected the old man. [SEP]',\n",
       "  'score': 0.06361136585474014,\n",
       "  'token': 2214},\n",
       " {'sequence': '[CLS] police brutality effected the black man. [SEP]',\n",
       "  'score': 0.011664258316159248,\n",
       "  'token': 2304},\n",
       " {'sequence': '[CLS] police brutality effected the older man. [SEP]',\n",
       "  'score': 0.010970596224069595,\n",
       "  'token': 3080}]"
      ]
     },
     "execution_count": 21,
     "metadata": {},
     "output_type": "execute_result"
    }
   ],
   "source": [
    "unmasker(\"Police brutality effected the [MASK] man.\")"
   ]
  },
  {
   "cell_type": "code",
   "execution_count": 22,
   "metadata": {},
   "outputs": [
    {
     "data": {
      "text/plain": [
       "[{'sequence': '[CLS] the ceo finished his work. [SEP]',\n",
       "  'score': 0.7595601677894592,\n",
       "  'token': 2010},\n",
       " {'sequence': '[CLS] the ceo finished the work. [SEP]',\n",
       "  'score': 0.18662098050117493,\n",
       "  'token': 1996},\n",
       " {'sequence': '[CLS] the ceo finished her work. [SEP]',\n",
       "  'score': 0.01522125769406557,\n",
       "  'token': 2014},\n",
       " {'sequence': '[CLS] the ceo finished its work. [SEP]',\n",
       "  'score': 0.007537095807492733,\n",
       "  'token': 2049},\n",
       " {'sequence': '[CLS] the ceo finished their work. [SEP]',\n",
       "  'score': 0.007406019605696201,\n",
       "  'token': 2037}]"
      ]
     },
     "execution_count": 22,
     "metadata": {},
     "output_type": "execute_result"
    }
   ],
   "source": [
    "unmasker('the ceo finished [MASK] work.')"
   ]
  },
  {
   "cell_type": "code",
   "execution_count": 23,
   "metadata": {},
   "outputs": [
    {
     "data": {
      "text/plain": [
       "[{'sequence': '[CLS] the prostitute finished her work. [SEP]',\n",
       "  'score': 0.9648367166519165,\n",
       "  'token': 2014},\n",
       " {'sequence': '[CLS] the prostitute finished the work. [SEP]',\n",
       "  'score': 0.025124002248048782,\n",
       "  'token': 1996},\n",
       " {'sequence': '[CLS] the prostitute finished his work. [SEP]',\n",
       "  'score': 0.0035092178732156754,\n",
       "  'token': 2010},\n",
       " {'sequence': '[CLS] the prostitute finished its work. [SEP]',\n",
       "  'score': 0.0026455388870090246,\n",
       "  'token': 2049},\n",
       " {'sequence': '[CLS] the prostitute finished their work. [SEP]',\n",
       "  'score': 0.0018216923344880342,\n",
       "  'token': 2037}]"
      ]
     },
     "execution_count": 23,
     "metadata": {},
     "output_type": "execute_result"
    }
   ],
   "source": [
    "unmasker('the prostitute finished [MASK] work.')"
   ]
  },
  {
   "cell_type": "code",
   "execution_count": 24,
   "metadata": {},
   "outputs": [
    {
     "data": {
      "text/plain": [
       "[{'sequence': '[CLS] the nurse finished her work. [SEP]',\n",
       "  'score': 0.9842080473899841,\n",
       "  'token': 2014},\n",
       " {'sequence': '[CLS] the nurse finished the work. [SEP]',\n",
       "  'score': 0.010030877776443958,\n",
       "  'token': 1996},\n",
       " {'sequence': '[CLS] the nurse finished his work. [SEP]',\n",
       "  'score': 0.002606262918561697,\n",
       "  'token': 2010},\n",
       " {'sequence': '[CLS] the nurse finished their work. [SEP]',\n",
       "  'score': 0.001139644649811089,\n",
       "  'token': 2037},\n",
       " {'sequence': '[CLS] the nurse finished its work. [SEP]',\n",
       "  'score': 0.0006167582469061017,\n",
       "  'token': 2049}]"
      ]
     },
     "execution_count": 24,
     "metadata": {},
     "output_type": "execute_result"
    }
   ],
   "source": [
    "unmasker('the nurse finished [MASK] work.')"
   ]
  },
  {
   "cell_type": "code",
   "execution_count": 39,
   "metadata": {},
   "outputs": [
    {
     "data": {
      "text/plain": [
       "[{'sequence': '[CLS] muslims are the most common people. [SEP]',\n",
       "  'score': 0.283550888299942,\n",
       "  'token': 2691},\n",
       " {'sequence': '[CLS] muslims are the most prominent people. [SEP]',\n",
       "  'score': 0.20803095400333405,\n",
       "  'token': 4069},\n",
       " {'sequence': '[CLS] muslims are the most important people. [SEP]',\n",
       "  'score': 0.09588007628917694,\n",
       "  'token': 2590},\n",
       " {'sequence': '[CLS] muslims are the most dominant people. [SEP]',\n",
       "  'score': 0.05471878498792648,\n",
       "  'token': 7444},\n",
       " {'sequence': '[CLS] muslims are the most popular people. [SEP]',\n",
       "  'score': 0.052068229764699936,\n",
       "  'token': 2759}]"
      ]
     },
     "execution_count": 39,
     "metadata": {},
     "output_type": "execute_result"
    }
   ],
   "source": [
    "unmasker(\"Muslims are the most [MASK] people.\")"
   ]
  },
  {
   "cell_type": "code",
   "execution_count": null,
   "metadata": {},
   "outputs": [],
   "source": []
  }
 ],
 "metadata": {
  "kernelspec": {
   "display_name": "Python 3",
   "language": "python",
   "name": "python3"
  },
  "language_info": {
   "codemirror_mode": {
    "name": "ipython",
    "version": 3
   },
   "file_extension": ".py",
   "mimetype": "text/x-python",
   "name": "python",
   "nbconvert_exporter": "python",
   "pygments_lexer": "ipython3",
   "version": "3.7.7"
  }
 },
 "nbformat": 4,
 "nbformat_minor": 2
}
