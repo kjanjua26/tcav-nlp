{
 "cells": [
  {
   "cell_type": "markdown",
   "metadata": {},
   "source": [
    "## Compute the features from all layers and check.\n",
    "\n",
    "1. https://keras.io/api/applications/#vgg19\n",
    "2. Make the computation a bit modular.\n",
    "3. Plot the TCAV scores with features from all layers."
   ]
  },
  {
   "cell_type": "markdown",
   "metadata": {},
   "source": [
    "### Layers in VGG19\n",
    "\n",
    "1. Conv3x3 (64), Conv3x3 (64), MaxPool\n",
    "2. Conv3x3 (128), Conv3x3 (128), MaxPool\n",
    "3. Conv3x3 (256), Conv3x3 (256), Conv3x3 (256), Conv3x3 (256), MaxPool\n",
    "4. Conv3x3 (512), Conv3x3 (512), Conv3x3 (512), Conv3x3 (512), MaxPool\n",
    "5. Conv3x3 (512), Conv3x3 (512), Conv3x3 (512), Conv3x3 (512), MaxPool\n",
    "6. FC + Softmax (we remove this, since include_top = False)"
   ]
  },
  {
   "cell_type": "code",
   "execution_count": 135,
   "metadata": {},
   "outputs": [],
   "source": [
    "import cv2\n",
    "import numpy as np\n",
    "from glob import glob\n",
    "from tqdm import tqdm\n",
    "from tensorflow.keras.preprocessing import image\n",
    "from tensorflow.keras.applications.vgg16 import VGG16\n",
    "from tensorflow.keras.applications.vgg16 import preprocess_input, decode_predictions\n",
    "from tensorflow.keras.applications.vgg19 import VGG19\n",
    "from tensorflow.keras.applications.vgg19 import preprocess_input, decode_predictions\n",
    "from tensorflow.keras.models import Model\n",
    "from sklearn.model_selection import train_test_split\n",
    "from sklearn.linear_model import LogisticRegression\n",
    "from sklearn.linear_model import ElasticNet\n",
    "from sklearn.svm import LinearSVC\n",
    "from sklearn.metrics import accuracy_score\n",
    "import concurrent.futures\n",
    "from matplotlib import pyplot as plt\n",
    "%matplotlib inline"
   ]
  },
  {
   "cell_type": "code",
   "execution_count": 2,
   "metadata": {},
   "outputs": [],
   "source": [
    "class ModelInstantiate:\n",
    "    def __init__(self, layer, mode):\n",
    "        self.layer = layer\n",
    "        self.mode = mode\n",
    "        \n",
    "    def get_model(self):\n",
    "        if self.mode == 'VGG19':\n",
    "            base_model = VGG19(weights='imagenet', include_top=False)\n",
    "        else:\n",
    "            base_model = VGG16(weights='imagenet', include_top=False)\n",
    "        model = Model(inputs=base_model.input, outputs=base_model.get_layer(self.layer).output)\n",
    "        return model\n",
    "    \n",
    "    def _get_features(self, img):\n",
    "        model = self.get_model()\n",
    "        img_data = image.img_to_array(img)\n",
    "        img_data = np.expand_dims(img_data, axis=0)\n",
    "        img_data = preprocess_input(img_data)\n",
    "        fts = model.predict(img_data)\n",
    "        fts_np = np.array(fts)\n",
    "        return np.squeeze(fts_np)"
   ]
  },
  {
   "cell_type": "code",
   "execution_count": 3,
   "metadata": {},
   "outputs": [],
   "source": [
    "class ImageReader:\n",
    "    def __init__(self, classes, folderpath, label_dict):\n",
    "        self.classes = classes\n",
    "        self.folderpath = folderpath\n",
    "        self.label_dict = label_dict\n",
    "        self.images = []\n",
    "        self.labels = []\n",
    "        \n",
    "    def read_images(self):\n",
    "        for base in self.classes:\n",
    "            for ix, imgp in tqdm(enumerate(glob(self.folderpath + base + '/*.jpg'))):\n",
    "                label = imgp.split('/')[-2]\n",
    "                img = cv2.imread(imgp)\n",
    "                img = cv2.cvtColor(img, cv2.COLOR_BGR2RGB)\n",
    "                img = cv2.resize(img, (224,224))\n",
    "                self.images.append(img)\n",
    "                self.labels.append(self.label_dict[label])\n",
    "    \n",
    "    def get_images_and_labels(self):\n",
    "        self.read_images()\n",
    "        return self.images, self.labels"
   ]
  },
  {
   "cell_type": "code",
   "execution_count": 141,
   "metadata": {},
   "outputs": [],
   "source": [
    "#layers = [\"block1_pool\", \"block2_pool\", \"block3_pool\", \"block4_pool\", \"block5_pool\"]\n",
    "layers = [\"block1_pool\", \"block2_pool\", \"block3_pool\"]\n",
    "modes = [\"VGG16\", \"VGG19\"]\n",
    "classes = [\"zebra\", \"tiger\"]\n",
    "classes_dict = {\"zebra\": 1, \"tiger\": 0}\n",
    "concepts = [\"zebra_stripes\", \"tiger_stripes\"]\n",
    "concepts_dict = {\"zebra_stripes\": 1, \"tiger_stripes\": 0}\n",
    "folderpath = \"/Users/Janjua/Desktop/QCRI/Work/zebra_stripes_data/\"\n",
    "\n",
    "reader_base = ImageReader(classes, folderpath, classes_dict)\n",
    "reader_concept = ImageReader(concepts, folderpath, concepts_dict)"
   ]
  },
  {
   "cell_type": "code",
   "execution_count": 142,
   "metadata": {},
   "outputs": [
    {
     "name": "stderr",
     "output_type": "stream",
     "text": [
      "79it [00:00, 912.46it/s]\n",
      "79it [00:00, 838.82it/s]\n"
     ]
    }
   ],
   "source": [
    "concept_imgs, concept_labels = reader_concept.get_images_and_labels()"
   ]
  },
  {
   "cell_type": "code",
   "execution_count": 143,
   "metadata": {},
   "outputs": [
    {
     "name": "stderr",
     "output_type": "stream",
     "text": [
      "79it [00:00, 861.80it/s]\n",
      "79it [00:00, 931.77it/s]"
     ]
    },
    {
     "name": "stdout",
     "output_type": "stream",
     "text": [
      "Reading data for both - Zebra and Tiger!\n"
     ]
    },
    {
     "name": "stderr",
     "output_type": "stream",
     "text": [
      "\n"
     ]
    }
   ],
   "source": [
    "print('Reading data for both - Zebra and Tiger!')\n",
    "zebra_reader_base = ImageReader([classes[0]], folderpath, classes_dict)\n",
    "tiger_reader_base = ImageReader([classes[1]], folderpath, classes_dict)\n",
    "\n",
    "zebra_imgs, zebra_labels = zebra_reader_base.get_images_and_labels()\n",
    "tiger_imgs, tiger_labels = tiger_reader_base.get_images_and_labels()"
   ]
  },
  {
   "cell_type": "code",
   "execution_count": 144,
   "metadata": {},
   "outputs": [
    {
     "name": "stdout",
     "output_type": "stream",
     "text": [
      "158 79 158\n",
      "79\n"
     ]
    }
   ],
   "source": [
    "print(len(concept_imgs), len(zebra_imgs), len(concept_labels))\n",
    "print(len(tiger_imgs))"
   ]
  },
  {
   "cell_type": "code",
   "execution_count": 145,
   "metadata": {},
   "outputs": [
    {
     "name": "stderr",
     "output_type": "stream",
     "text": [
      "\r",
      "0it [00:00, ?it/s]"
     ]
    },
    {
     "name": "stdout",
     "output_type": "stream",
     "text": [
      "Go get coffee - this takes some time.\n",
      "Running for layer #  block1_pool\n",
      "WARNING:tensorflow:From /usr/local/lib/python3.7/site-packages/tensorflow_core/python/ops/resource_variable_ops.py:1630: calling BaseResourceVariable.__init__ (from tensorflow.python.ops.resource_variable_ops) with constraint is deprecated and will be removed in a future version.\n",
      "Instructions for updating:\n",
      "If using Keras pass *_constraint arguments to layers.\n"
     ]
    },
    {
     "name": "stderr",
     "output_type": "stream",
     "text": [
      "\r",
      "1it [00:00,  1.30it/s]"
     ]
    },
    {
     "name": "stdout",
     "output_type": "stream",
     "text": [
      "WARNING:tensorflow:From /usr/local/lib/python3.7/site-packages/tensorflow_core/python/ops/resource_variable_ops.py:1630: calling BaseResourceVariable.__init__ (from tensorflow.python.ops.resource_variable_ops) with constraint is deprecated and will be removed in a future version.\n",
      "Instructions for updating:\n",
      "If using Keras pass *_constraint arguments to layers.\n"
     ]
    },
    {
     "name": "stderr",
     "output_type": "stream",
     "text": [
      "\r",
      "2it [00:01,  1.33it/s]"
     ]
    },
    {
     "name": "stdout",
     "output_type": "stream",
     "text": [
      "WARNING:tensorflow:From /usr/local/lib/python3.7/site-packages/tensorflow_core/python/ops/resource_variable_ops.py:1630: calling BaseResourceVariable.__init__ (from tensorflow.python.ops.resource_variable_ops) with constraint is deprecated and will be removed in a future version.\n",
      "Instructions for updating:\n",
      "If using Keras pass *_constraint arguments to layers.\n"
     ]
    },
    {
     "name": "stderr",
     "output_type": "stream",
     "text": [
      "\r",
      "3it [00:02,  1.35it/s]"
     ]
    },
    {
     "name": "stdout",
     "output_type": "stream",
     "text": [
      "WARNING:tensorflow:From /usr/local/lib/python3.7/site-packages/tensorflow_core/python/ops/resource_variable_ops.py:1630: calling BaseResourceVariable.__init__ (from tensorflow.python.ops.resource_variable_ops) with constraint is deprecated and will be removed in a future version.\n",
      "Instructions for updating:\n",
      "If using Keras pass *_constraint arguments to layers.\n"
     ]
    },
    {
     "name": "stderr",
     "output_type": "stream",
     "text": [
      "\r",
      "4it [00:02,  1.36it/s]"
     ]
    },
    {
     "name": "stdout",
     "output_type": "stream",
     "text": [
      "WARNING:tensorflow:From /usr/local/lib/python3.7/site-packages/tensorflow_core/python/ops/resource_variable_ops.py:1630: calling BaseResourceVariable.__init__ (from tensorflow.python.ops.resource_variable_ops) with constraint is deprecated and will be removed in a future version.\n",
      "Instructions for updating:\n",
      "If using Keras pass *_constraint arguments to layers.\n"
     ]
    },
    {
     "name": "stderr",
     "output_type": "stream",
     "text": [
      "\r",
      "5it [00:03,  1.38it/s]"
     ]
    },
    {
     "name": "stdout",
     "output_type": "stream",
     "text": [
      "WARNING:tensorflow:From /usr/local/lib/python3.7/site-packages/tensorflow_core/python/ops/resource_variable_ops.py:1630: calling BaseResourceVariable.__init__ (from tensorflow.python.ops.resource_variable_ops) with constraint is deprecated and will be removed in a future version.\n",
      "Instructions for updating:\n",
      "If using Keras pass *_constraint arguments to layers.\n"
     ]
    },
    {
     "name": "stderr",
     "output_type": "stream",
     "text": [
      "\r",
      "6it [00:04,  1.39it/s]"
     ]
    },
    {
     "name": "stdout",
     "output_type": "stream",
     "text": [
      "WARNING:tensorflow:From /usr/local/lib/python3.7/site-packages/tensorflow_core/python/ops/resource_variable_ops.py:1630: calling BaseResourceVariable.__init__ (from tensorflow.python.ops.resource_variable_ops) with constraint is deprecated and will be removed in a future version.\n",
      "Instructions for updating:\n",
      "If using Keras pass *_constraint arguments to layers.\n"
     ]
    },
    {
     "name": "stderr",
     "output_type": "stream",
     "text": [
      "\r",
      "7it [00:05,  1.39it/s]"
     ]
    },
    {
     "name": "stdout",
     "output_type": "stream",
     "text": [
      "WARNING:tensorflow:From /usr/local/lib/python3.7/site-packages/tensorflow_core/python/ops/resource_variable_ops.py:1630: calling BaseResourceVariable.__init__ (from tensorflow.python.ops.resource_variable_ops) with constraint is deprecated and will be removed in a future version.\n",
      "Instructions for updating:\n",
      "If using Keras pass *_constraint arguments to layers.\n"
     ]
    },
    {
     "name": "stderr",
     "output_type": "stream",
     "text": [
      "158it [03:10,  1.21s/it]\n",
      "79it [03:01,  2.29s/it]\n",
      "0it [00:00, ?it/s]"
     ]
    },
    {
     "name": "stdout",
     "output_type": "stream",
     "text": [
      "Running for layer #  block2_pool\n"
     ]
    },
    {
     "name": "stderr",
     "output_type": "stream",
     "text": [
      "158it [08:15,  3.14s/it]\n",
      "79it [05:30,  4.18s/it]\n",
      "0it [00:00, ?it/s]"
     ]
    },
    {
     "name": "stdout",
     "output_type": "stream",
     "text": [
      "Running for layer #  block3_pool\n"
     ]
    },
    {
     "name": "stderr",
     "output_type": "stream",
     "text": [
      "158it [13:04,  4.97s/it]\n",
      "79it [07:43,  5.86s/it]\n"
     ]
    }
   ],
   "source": [
    "concept_fts_dict_VGG16 = {\n",
    "                    \"block1_pool\": [],\n",
    "                    \"block2_pool\": [],\n",
    "                    \"block3_pool\": [],\n",
    "                    \"block4_pool\": [],\n",
    "                    \"block5_pool\": [],\n",
    "                    \"block1_conv1\": [],\n",
    "                    \"block2_conv1\": [],\n",
    "                    \"block1_conv2\": [],\n",
    "                    \"block2_conv2\": [],\n",
    "                    \"block3_conv1\": [],\n",
    "                    \"block4_conv1\": [],\n",
    "                    \"block3_conv2\": [],\n",
    "                    \"block4_conv2\": [],\n",
    "                    \"block5_conv2\": [],\n",
    "                    \"block5_conv3\": []\n",
    "                 }\n",
    "\n",
    "zebra_fts_dict_VGG16 = {\n",
    "                    \"block1_pool\": [],\n",
    "                    \"block2_pool\": [],\n",
    "                    \"block3_pool\": [],\n",
    "                    \"block4_pool\": [],\n",
    "                    \"block5_pool\": [],\n",
    "                    \"block1_conv1\": [],\n",
    "                    \"block2_conv1\": [],\n",
    "                    \"block1_conv2\": [],\n",
    "                    \"block2_conv2\": [],\n",
    "                    \"block3_conv1\": [],\n",
    "                    \"block4_conv1\": [],\n",
    "                    \"block3_conv2\": [],\n",
    "                    \"block4_conv2\": [],\n",
    "                    \"block5_conv2\": [],\n",
    "                    \"block5_conv3\": []\n",
    "                 }\n",
    "\n",
    "print('Go get coffee - this takes some time.')\n",
    "\n",
    "with concurrent.futures.ProcessPoolExecutor() as executor:    \n",
    "    for layer in layers:\n",
    "        model_instance =  ModelInstantiate(layer, modes[0])\n",
    "        print('Running for layer # ', layer)\n",
    "\n",
    "        for ix, val in tqdm(enumerate(concept_imgs)):\n",
    "            fts_1 = executor.submit(model_instance._get_features, val)\n",
    "            concept_fts_dict_VGG16[layer].append(fts_1.result())\n",
    "\n",
    "        for ix, val in tqdm(enumerate(zebra_imgs)):\n",
    "            fts_2 = executor.submit(model_instance._get_features, val)\n",
    "            zebra_fts_dict_VGG16[layer].append(fts_2.result()) "
   ]
  },
  {
   "cell_type": "code",
   "execution_count": 175,
   "metadata": {},
   "outputs": [
    {
     "name": "stdout",
     "output_type": "stream",
     "text": [
      "For layer # -  block1_pool\n"
     ]
    },
    {
     "name": "stderr",
     "output_type": "stream",
     "text": [
      "/usr/local/lib/python3.7/site-packages/sklearn/linear_model/logistic.py:432: FutureWarning: Default solver will be changed to 'lbfgs' in 0.22. Specify a solver to silence this warning.\n",
      "  FutureWarning)\n"
     ]
    },
    {
     "name": "stdout",
     "output_type": "stream",
     "text": [
      "1\n",
      "For layer # -  block2_pool\n"
     ]
    },
    {
     "name": "stderr",
     "output_type": "stream",
     "text": [
      "/usr/local/lib/python3.7/site-packages/sklearn/linear_model/logistic.py:432: FutureWarning: Default solver will be changed to 'lbfgs' in 0.22. Specify a solver to silence this warning.\n",
      "  FutureWarning)\n"
     ]
    },
    {
     "name": "stdout",
     "output_type": "stream",
     "text": [
      "1\n",
      "For layer # -  block3_pool\n"
     ]
    },
    {
     "name": "stderr",
     "output_type": "stream",
     "text": [
      "/usr/local/lib/python3.7/site-packages/sklearn/linear_model/logistic.py:432: FutureWarning: Default solver will be changed to 'lbfgs' in 0.22. Specify a solver to silence this warning.\n",
      "  FutureWarning)\n"
     ]
    },
    {
     "name": "stdout",
     "output_type": "stream",
     "text": [
      "1\n"
     ]
    }
   ],
   "source": [
    "no_concepts = 158\n",
    "no_imgs = 79\n",
    "lbls_np = np.array(concept_labels)\n",
    "clf = LogisticRegression(random_state=0)\n",
    "#clf = ElasticNet(random_state=0, l1_ratio=0.0001)\n",
    "#clf = LinearSVC(random_state=0, tol=1e-5)\n",
    "concept_cavs = {\n",
    "                    \"block1_pool\": [],\n",
    "                    \"block2_pool\": [],\n",
    "                    \"block3_pool\": [],\n",
    "                    \"block4_pool\": [],\n",
    "                    \"block5_pool\": [],\n",
    "                    \"block1_conv1\": [],\n",
    "                    \"block2_conv1\": [],\n",
    "                    \"block1_conv2\": [],\n",
    "                    \"block2_conv2\": [],\n",
    "                    \"block3_conv1\": [],\n",
    "                    \"block4_conv1\": [],\n",
    "                    \"block3_conv2\": [],\n",
    "                    \"block4_conv2\": [],\n",
    "                    \"block5_conv2\": [],\n",
    "                    \"block5_conv3\": []\n",
    "                 }\n",
    "\n",
    "for key, value in concept_fts_dict_VGG16.items():\n",
    "    if len(value) > 0:\n",
    "        print(\"For layer # - \", key)\n",
    "        fts_np = np.array(value)\n",
    "        fts_np = fts_np.reshape(no_concepts, -1)\n",
    "        clf.fit(fts_np, lbls_np)\n",
    "        # compute CAVs\n",
    "        print(len(clf.coef_))\n",
    "        if len(clf.coef_) == 1:\n",
    "            cavs = [-1 * clf.coef_[0], clf.coef_[0]]\n",
    "        else:\n",
    "            cavs = [c for c in clf.coef_]\n",
    "        concept_cavs[key].append(cavs)"
   ]
  },
  {
   "cell_type": "code",
   "execution_count": 176,
   "metadata": {},
   "outputs": [],
   "source": [
    "# since we have CAVs all computed, now we have to compute TCAV.\n",
    "def get_direction(layer, concept):\n",
    "    cavs = concept_cavs[layer][0] # since it is a list of lists\n",
    "    return cavs[concepts.index(concept)]\n",
    "\n",
    "def compute_direc_derivative(x, y):\n",
    "    a = np.dot(x, y)\n",
    "    return a < 0"
   ]
  },
  {
   "cell_type": "code",
   "execution_count": 180,
   "metadata": {},
   "outputs": [
    {
     "name": "stdout",
     "output_type": "stream",
     "text": [
      "For layer # -  block1_pool\n",
      "For layer # -  block2_pool\n",
      "For layer # -  block3_pool\n"
     ]
    }
   ],
   "source": [
    "# for each base image (zebra) feature, compute the directional derivative and get the TCAV score.\n",
    "\n",
    "tcavs = {}\n",
    "for key, value in zebra_fts_dict_VGG16.items():\n",
    "    if len(value):\n",
    "        count = 0\n",
    "        value = np.array(value)\n",
    "        value = value.reshape(no_imgs, -1)\n",
    "        cav = get_direction(key, 'zebra_stripes')\n",
    "        print(\"For layer # - \", key)\n",
    "        for ft in value: # loop over every feature\n",
    "            dydx = compute_direc_derivative(ft+cav, cav)\n",
    "            if dydx.any(): count += 1\n",
    "        tcav = float(count) / float(len(value))\n",
    "        tcavs[key] = tcav"
   ]
  },
  {
   "cell_type": "code",
   "execution_count": 181,
   "metadata": {},
   "outputs": [
    {
     "name": "stdout",
     "output_type": "stream",
     "text": [
      "Printing TCAV scores for each block!\n",
      "{'block1_pool': 0.810126582278481, 'block2_pool': 0.5443037974683544, 'block3_pool': 0.5949367088607594}\n"
     ]
    }
   ],
   "source": [
    "print('Printing TCAV scores for each block!')\n",
    "print(tcavs)"
   ]
  },
  {
   "cell_type": "code",
   "execution_count": 182,
   "metadata": {},
   "outputs": [
    {
     "data": {
      "image/png": "[encoded data removed]",
      "text/plain": [
       "<Figure size 432x288 with 1 Axes>"
      ]
     },
     "metadata": {
      "needs_background": "light"
     },
     "output_type": "display_data"
    }
   ],
   "source": [
    "# Plot the TCAV scores\n",
    "x_points = [x for x in range(len(tcavs.keys()))]\n",
    "keys = list(tcavs.keys())\n",
    "plt.bar(x_points, tcavs.values(), width=0.1, color='k')\n",
    "plt.xticks(x_points, tcavs.keys())\n",
    "plt.title('TCAV Scores for Pool Layers')\n",
    "plt.ylabel('TCAV Score')\n",
    "plt.show()"
   ]
  },
  {
   "cell_type": "code",
   "execution_count": 169,
   "metadata": {},
   "outputs": [
    {
     "data": {
      "image/png": "[encoded data removed]",
      "text/plain": [
       "<Figure size 432x288 with 1 Axes>"
      ]
     },
     "metadata": {
      "needs_background": "light"
     },
     "output_type": "display_data"
    }
   ],
   "source": [
    "plot_scores = {\n",
    "        \n",
    "    \"block1_conv1\": 0.8227848101265823, \n",
    "    \"block1_conv2\": 0.8227848101265823,\n",
    "    \"LSVC_block1_pool\": 0.810126582278481,\n",
    "    \"ENet_0.001_block1_pool\": 0.810126582278481,\n",
    "    \"ENet_0.0001_block1_pool\": 0.0,\n",
    "    \"block2_conv1\": 0.6329113924050633,\n",
    "    \"block2_conv2\": 0.5949367088607594,\n",
    "    \"LSVC_block2_pool\": 0.5822784810126582, \n",
    "    \"ENet_0.001_block2_pool\": 0.5822784810126582, \n",
    "    \"ENet_0.0001_block2_pool\": 1.0,\n",
    "    \"block3_conv1\": 0.5569620253164557, \n",
    "    \"block3_conv2\": 0.5949367088607594,\n",
    "    \"LSVC_block3_pool\": 0.620253164556962,\n",
    "    \"ENet_0.001_block3_pool\": 0.620253164556962,\n",
    "    \"ENet_0.0001_block3_pool\": 1.0,\n",
    "    \"block4_conv1\": 0.5949367088607594,\n",
    "    \"block4_conv2\": 0.6075949367088608,\n",
    "    \"block5_conv2\": 0.8354430379746836,\n",
    "    \"LSVC_block5_conv2\": 0.8354430379746836,\n",
    "    \"block5_conv3\": 0.8607594936708861,\n",
    "    \"LSVC_block5_conv3\": 0.8734177215189873\n",
    "}\n",
    "\n",
    "x_points = [x for x in range(len(plot_scores.keys()))]\n",
    "keys = list(plot_scores.keys())\n",
    "plt.bar(x_points, plot_scores.values(), width=0.3, color='k')\n",
    "plt.xticks(x_points, plot_scores.keys(), rotation=90)\n",
    "plt.title('TCAV Scores for Pool Layers')\n",
    "plt.ylabel('TCAV Score')\n",
    "plt.show()"
   ]
  },
  {
   "cell_type": "code",
   "execution_count": null,
   "metadata": {},
   "outputs": [],
   "source": []
  }
 ],
 "metadata": {
  "kernelspec": {
   "display_name": "Python 3",
   "language": "python",
   "name": "python3"
  },
  "language_info": {
   "codemirror_mode": {
    "name": "ipython",
    "version": 3
   },
   "file_extension": ".py",
   "mimetype": "text/x-python",
   "name": "python",
   "nbconvert_exporter": "python",
   "pygments_lexer": "ipython3",
   "version": "3.7.7"
  }
 },
 "nbformat": 4,
 "nbformat_minor": 2
}
