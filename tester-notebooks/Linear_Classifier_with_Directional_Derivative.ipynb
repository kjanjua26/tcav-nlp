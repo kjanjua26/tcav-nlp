{
 "cells": [
  {
   "cell_type": "markdown",
   "metadata": {},
   "source": [
    "## Linear Classifer on PoS tagged data - Pseudo data test\n",
    "\n",
    "Use the pseudo data `data.csv` generated to run a linear classifier on the embeddings and draw the boundary to check it and possibly compute a directional derivative as well."
   ]
  },
  {
   "cell_type": "code",
   "execution_count": 114,
   "metadata": {},
   "outputs": [],
   "source": [
    "import pandas as pd\n",
    "import numpy as np\n",
    "from tensorflow.keras.utils import to_categorical\n",
    "import ast\n",
    "from sklearn.model_selection import train_test_split"
   ]
  },
  {
   "cell_type": "code",
   "execution_count": 97,
   "metadata": {},
   "outputs": [],
   "source": [
    "data = open('data.txt', 'r')\n",
    "lines = data.readlines()"
   ]
  },
  {
   "cell_type": "code",
   "execution_count": 99,
   "metadata": {},
   "outputs": [
    {
     "ename": "ValueError",
     "evalue": "not enough values to unpack (expected 3, got 2)",
     "output_type": "error",
     "traceback": [
      "\u001b[0;31m---------------------------------------------------------------------------\u001b[0m",
      "\u001b[0;31mValueError\u001b[0m                                Traceback (most recent call last)",
      "\u001b[0;32m<ipython-input-99-7227ec50d273>\u001b[0m in \u001b[0;36m<module>\u001b[0;34m\u001b[0m\n\u001b[1;32m      1\u001b[0m \u001b[0mfeatures\u001b[0m\u001b[0;34m,\u001b[0m \u001b[0mlabels\u001b[0m \u001b[0;34m=\u001b[0m \u001b[0;34m[\u001b[0m\u001b[0;34m]\u001b[0m\u001b[0;34m,\u001b[0m \u001b[0;34m[\u001b[0m\u001b[0;34m]\u001b[0m\u001b[0;34m\u001b[0m\u001b[0;34m\u001b[0m\u001b[0m\n\u001b[1;32m      2\u001b[0m \u001b[0;32mfor\u001b[0m \u001b[0mline\u001b[0m \u001b[0;32min\u001b[0m \u001b[0mlines\u001b[0m\u001b[0;34m:\u001b[0m\u001b[0;34m\u001b[0m\u001b[0;34m\u001b[0m\u001b[0m\n\u001b[0;32m----> 3\u001b[0;31m     \u001b[0mname\u001b[0m\u001b[0;34m,\u001b[0m \u001b[0membed\u001b[0m\u001b[0;34m,\u001b[0m \u001b[0mlabel\u001b[0m \u001b[0;34m=\u001b[0m \u001b[0mline\u001b[0m\u001b[0;34m.\u001b[0m\u001b[0msplit\u001b[0m\u001b[0;34m(\u001b[0m\u001b[0;34m';'\u001b[0m\u001b[0;34m)\u001b[0m\u001b[0;34m\u001b[0m\u001b[0;34m\u001b[0m\u001b[0m\n\u001b[0m\u001b[1;32m      4\u001b[0m     \u001b[0membed\u001b[0m \u001b[0;34m=\u001b[0m \u001b[0mast\u001b[0m\u001b[0;34m.\u001b[0m\u001b[0mliteral_eval\u001b[0m\u001b[0;34m(\u001b[0m\u001b[0membed\u001b[0m\u001b[0;34m)\u001b[0m\u001b[0;34m\u001b[0m\u001b[0;34m\u001b[0m\u001b[0m\n\u001b[1;32m      5\u001b[0m     \u001b[0mfeatures\u001b[0m\u001b[0;34m.\u001b[0m\u001b[0mappend\u001b[0m\u001b[0;34m(\u001b[0m\u001b[0membed\u001b[0m\u001b[0;34m)\u001b[0m\u001b[0;34m\u001b[0m\u001b[0;34m\u001b[0m\u001b[0m\n",
      "\u001b[0;31mValueError\u001b[0m: not enough values to unpack (expected 3, got 2)"
     ]
    }
   ],
   "source": [
    "features, labels = [], []\n",
    "for line in lines:\n",
    "    name, embed, label = line.split(';')\n",
    "    embed = ast.literal_eval(embed)\n",
    "    features.append(embed)\n",
    "    labels.append(int(label))"
   ]
  },
  {
   "cell_type": "code",
   "execution_count": 100,
   "metadata": {},
   "outputs": [
    {
     "name": "stdout",
     "output_type": "stream",
     "text": [
      "44 44\n"
     ]
    }
   ],
   "source": [
    "print(len(features), len(labels))"
   ]
  },
  {
   "cell_type": "code",
   "execution_count": 101,
   "metadata": {},
   "outputs": [
    {
     "name": "stdout",
     "output_type": "stream",
     "text": [
      "[0, 0, 0, 1, 0, 0, 0, 0, 0, 0, 1, 0, 0, 0, 0, 0, 0, 0, 0, 0, 1, 0, 0, 0, 0, 0, 0, 0, 0, 1, 0, 0, 0, 0, 0, 0, 0, 0, 1, 0, 0, 0, 0, 0]\n"
     ]
    }
   ],
   "source": [
    "print(labels)"
   ]
  },
  {
   "cell_type": "code",
   "execution_count": 102,
   "metadata": {},
   "outputs": [
    {
     "name": "stdout",
     "output_type": "stream",
     "text": [
      "0 [-0.37874600291252136, -0.0703376978635788, -0.36608144640922546, -0.10915069282054901, -0.24549156427383423]\n",
      "0 [-0.06094054505228996, -0.39486756920814514, -0.5337704420089722, 0.17299635708332062, 0.2710832357406616]\n"
     ]
    }
   ],
   "source": [
    "print(labels[0], features[0][:5])\n",
    "print(labels[1], features[1][:5])"
   ]
  },
  {
   "cell_type": "code",
   "execution_count": 113,
   "metadata": {},
   "outputs": [
    {
     "name": "stdout",
     "output_type": "stream",
     "text": [
      "(44, 768) (44,)\n"
     ]
    }
   ],
   "source": [
    "fts = np.array(features)\n",
    "lbls = np.array(labels)\n",
    "print(fts.shape, lbls.shape)"
   ]
  },
  {
   "cell_type": "code",
   "execution_count": 104,
   "metadata": {},
   "outputs": [
    {
     "name": "stdout",
     "output_type": "stream",
     "text": [
      "(44, 2)\n"
     ]
    }
   ],
   "source": [
    "lbl = to_categorical(lbls, 2)\n",
    "print(lbl.shape)"
   ]
  },
  {
   "cell_type": "code",
   "execution_count": 105,
   "metadata": {},
   "outputs": [],
   "source": [
    "from sklearn.linear_model import SGDClassifier\n",
    "from sklearn.linear_model import LogisticRegression\n",
    "clf = LogisticRegression(random_state=0)"
   ]
  },
  {
   "cell_type": "code",
   "execution_count": 106,
   "metadata": {},
   "outputs": [
    {
     "name": "stderr",
     "output_type": "stream",
     "text": [
      "/usr/local/lib/python3.7/site-packages/sklearn/linear_model/logistic.py:432: FutureWarning: Default solver will be changed to 'lbfgs' in 0.22. Specify a solver to silence this warning.\n",
      "  FutureWarning)\n"
     ]
    },
    {
     "data": {
      "text/plain": [
       "LogisticRegression(C=1.0, class_weight=None, dual=False, fit_intercept=True,\n",
       "                   intercept_scaling=1, l1_ratio=None, max_iter=100,\n",
       "                   multi_class='warn', n_jobs=None, penalty='l2',\n",
       "                   random_state=0, solver='warn', tol=0.0001, verbose=0,\n",
       "                   warm_start=False)"
      ]
     },
     "execution_count": 106,
     "metadata": {},
     "output_type": "execute_result"
    }
   ],
   "source": [
    "clf.fit(fts, lbls)"
   ]
  },
  {
   "cell_type": "code",
   "execution_count": 107,
   "metadata": {},
   "outputs": [],
   "source": [
    "import matplotlib.pyplot as plt\n",
    "%matplotlib inline"
   ]
  },
  {
   "cell_type": "code",
   "execution_count": 109,
   "metadata": {},
   "outputs": [],
   "source": [
    "yhat = clf.predict(fts)"
   ]
  },
  {
   "cell_type": "code",
   "execution_count": 110,
   "metadata": {},
   "outputs": [
    {
     "data": {
      "text/plain": [
       "array([0, 0, 0, 1, 0, 0, 0, 0, 0, 0, 1, 0, 0, 0, 0, 0, 0, 0, 0, 0, 1, 0,\n",
       "       0, 0, 0, 0, 0, 0, 0, 1, 0, 0, 0, 0, 0, 0, 0, 0, 1, 0, 0, 0, 0, 0])"
      ]
     },
     "execution_count": 110,
     "metadata": {},
     "output_type": "execute_result"
    }
   ],
   "source": [
    "yhat"
   ]
  },
  {
   "cell_type": "code",
   "execution_count": 111,
   "metadata": {},
   "outputs": [],
   "source": [
    "from sklearn.metrics import accuracy_score"
   ]
  },
  {
   "cell_type": "code",
   "execution_count": 112,
   "metadata": {},
   "outputs": [
    {
     "data": {
      "text/plain": [
       "1.0"
      ]
     },
     "execution_count": 112,
     "metadata": {},
     "output_type": "execute_result"
    }
   ],
   "source": [
    "accuracy_score(lbls, yhat)"
   ]
  },
  {
   "cell_type": "code",
   "execution_count": 115,
   "metadata": {},
   "outputs": [],
   "source": [
    "X_train, X_test, y_train, y_test = train_test_split(fts, lbls, test_size=0.33, random_state=42)"
   ]
  },
  {
   "cell_type": "code",
   "execution_count": 116,
   "metadata": {},
   "outputs": [
    {
     "name": "stderr",
     "output_type": "stream",
     "text": [
      "/usr/local/lib/python3.7/site-packages/sklearn/linear_model/logistic.py:432: FutureWarning: Default solver will be changed to 'lbfgs' in 0.22. Specify a solver to silence this warning.\n",
      "  FutureWarning)\n"
     ]
    },
    {
     "data": {
      "text/plain": [
       "LogisticRegression(C=1.0, class_weight=None, dual=False, fit_intercept=True,\n",
       "                   intercept_scaling=1, l1_ratio=None, max_iter=100,\n",
       "                   multi_class='warn', n_jobs=None, penalty='l2',\n",
       "                   random_state=0, solver='warn', tol=0.0001, verbose=0,\n",
       "                   warm_start=False)"
      ]
     },
     "execution_count": 116,
     "metadata": {},
     "output_type": "execute_result"
    }
   ],
   "source": [
    "clf = LogisticRegression(random_state=0)\n",
    "clf.fit(X_train, y_train)"
   ]
  },
  {
   "cell_type": "code",
   "execution_count": 118,
   "metadata": {},
   "outputs": [],
   "source": [
    "y_test_pred = clf.predict(X_test)"
   ]
  },
  {
   "cell_type": "code",
   "execution_count": 119,
   "metadata": {},
   "outputs": [
    {
     "data": {
      "text/plain": [
       "0.9333333333333333"
      ]
     },
     "execution_count": 119,
     "metadata": {},
     "output_type": "execute_result"
    }
   ],
   "source": [
    "accuracy_score(y_test, y_test_pred)"
   ]
  },
  {
   "cell_type": "code",
   "execution_count": 122,
   "metadata": {},
   "outputs": [],
   "source": [
    "X = fts\n",
    "y = lbls"
   ]
  },
  {
   "cell_type": "code",
   "execution_count": 130,
   "metadata": {},
   "outputs": [
    {
     "name": "stdout",
     "output_type": "stream",
     "text": [
      "(10, 768)\n",
      "(10,)\n"
     ]
    }
   ],
   "source": [
    "print(X_train[:10].shape)\n",
    "print(y_train[:10].shape)"
   ]
  },
  {
   "cell_type": "code",
   "execution_count": 141,
   "metadata": {},
   "outputs": [
    {
     "data": {
      "image/png": "[encoded data removed]",
      "text/plain": [
       "<Figure size 432x288 with 1 Axes>"
      ]
     },
     "metadata": {
      "needs_background": "light"
     },
     "output_type": "display_data"
    }
   ],
   "source": [
    "for class_value in range(2):\n",
    "    row_ix = np.where(lbls == class_value)\n",
    "    plt.scatter(fts[row_ix, 0], fts[row_ix, 1])\n",
    "plt.show()"
   ]
  },
  {
   "cell_type": "code",
   "execution_count": 149,
   "metadata": {},
   "outputs": [],
   "source": [
    "cavs = [-1 * clf.coef_[0], clf.coef_[0]]"
   ]
  },
  {
   "cell_type": "code",
   "execution_count": 165,
   "metadata": {},
   "outputs": [],
   "source": [
    "# check this in directional derivative\n",
    "# cavs[0] -> no noun\n",
    "# cavs[1] -> noun - bank\n",
    "\n",
    "if len(clf.coef_) == 1:\n",
    "    # if there were only two labels, the concept is assigned to label 0 by\n",
    "    # default. So we flip the coef_ to reflect this.\n",
    "    cavs = [-1 * clf.coef_[0], clf.coef_[0]]\n",
    "else:\n",
    "    cavs = [c for c in lm.coef_]"
   ]
  },
  {
   "cell_type": "code",
   "execution_count": 170,
   "metadata": {},
   "outputs": [
    {
     "name": "stdout",
     "output_type": "stream",
     "text": [
      "[-2.16106035e-02  2.03222574e-02 -2.23952191e-02  1.36623318e-02\n",
      " -3.41200915e-02 -4.56970769e-02  1.48990035e-02  1.15190635e-02\n",
      " -1.17806912e-02  1.32394765e-02  3.32520789e-02 -4.26966158e-03\n",
      "  1.93503776e-02  5.53191543e-02 -3.54755849e-02  1.24747662e-02\n",
      "  4.06659293e-03 -5.10078960e-02 -2.67716860e-02 -6.77888864e-03\n",
      "  3.17684080e-02 -2.43507717e-02 -2.07131683e-03  5.33490343e-03\n",
      "  2.69318808e-02  8.47773075e-03 -6.14528010e-02  2.52278335e-02\n",
      "  2.79877552e-03 -2.40325014e-02 -7.11106891e-03 -2.81666955e-02\n",
      " -3.81545703e-03 -5.94492233e-03 -8.50036348e-03 -5.73307204e-02\n",
      "  4.58032360e-02 -3.41017066e-02 -2.31996433e-02  5.32673921e-03\n",
      " -4.04647501e-02  2.83807965e-02 -3.18274894e-03  4.68956464e-03\n",
      "  1.51348096e-02 -1.88495529e-02 -1.81321602e-03 -5.73092701e-02\n",
      "  5.90530965e-02 -6.15840118e-03 -5.32943475e-03 -4.61680964e-02\n",
      " -3.10485582e-02  1.32821252e-02  2.68735452e-02  2.72809093e-02\n",
      " -3.13821354e-02 -2.23303149e-02 -1.64805069e-02  7.84150092e-03\n",
      "  2.53720380e-02 -6.52453164e-02 -6.19972224e-02  1.34821856e-02\n",
      "  3.12317365e-02  5.37638213e-02 -2.84969523e-03  2.06370993e-02\n",
      " -7.97854736e-02 -1.03282611e-01 -3.75057954e-02 -1.60285608e-01\n",
      "  3.15002345e-02  1.17505879e-02 -1.28154864e-03  2.73745717e-02\n",
      "  6.05531512e-02  3.51179077e-03 -2.95183928e-02 -1.02739027e-02\n",
      "  1.69924556e-02  1.72772014e-01  2.37602148e-02  5.26414805e-02\n",
      " -8.18263383e-03  2.75211295e-02 -2.84944438e-02  4.58641812e-03\n",
      "  5.26141897e-03  7.69094114e-03  2.13513883e-02 -1.34752505e-02\n",
      "  1.70966528e-02 -8.32859944e-03  1.28449826e-02 -1.44987337e-02\n",
      "  5.14823094e-02  1.63292896e-02 -4.89230210e-03  2.87306057e-02\n",
      "  3.28302986e-02  3.77614563e-02  4.36390787e-02  2.20723832e-02\n",
      "  5.14113170e-03 -4.40457115e-04  3.71159757e-02  7.00540621e-02\n",
      "  1.98488175e-02 -1.94142210e-02  3.39697597e-02 -1.00131515e-02\n",
      " -3.89881757e-02 -1.88912696e-02  1.84144384e-02  3.57680526e-02\n",
      "  3.77831835e-02  2.00716570e-03 -5.31883529e-02  6.29066996e-03\n",
      "  4.91334513e-02 -7.80429630e-02  2.92675122e-03 -1.05609335e-02\n",
      " -1.82738977e-02  1.38678840e-03 -1.33708308e-02  2.09159313e-03\n",
      "  3.25935011e-02  4.49764349e-02  1.22345000e-02  7.61860842e-02\n",
      "  1.64465116e-02 -1.86665292e-02 -5.25736140e-02 -1.90767378e-02\n",
      "  2.99832028e-02 -1.19957952e-02 -7.12434027e-02 -2.38757759e-02\n",
      "  1.52007955e-02 -2.22923100e-04 -4.49910559e-03 -1.34199769e-01\n",
      " -2.45008113e-03  3.05613826e-02  6.23821327e-02 -4.79893210e-02\n",
      "  7.99466816e-02  1.84831426e-02  3.67944075e-02 -2.12136058e-02\n",
      "  8.40747665e-04 -4.54888317e-03 -2.83910033e-02 -4.65358919e-02\n",
      " -2.17733301e-03  7.96443389e-03  1.16352609e-01  3.02420451e-02\n",
      "  1.50372467e-02  1.31288390e-02 -2.09242918e-02 -4.94209005e-02\n",
      "  8.88588745e-02  1.13487995e-01 -4.66765257e-02  6.99492383e-02\n",
      "  4.21222322e-02  6.52385285e-02  2.02127137e-02  1.86614194e-02\n",
      "  3.70421127e-02 -4.34205334e-02 -1.22004704e-01 -4.36008180e-02\n",
      "  1.47279431e-02  4.70060048e-02  3.52615674e-02  1.24358702e-02\n",
      " -2.42989596e-01 -1.52819295e-02  8.64090335e-03 -1.43085028e-02\n",
      " -8.82513251e-03  4.76046609e-02 -7.26454325e-02 -3.61324327e-02\n",
      " -8.94235555e-02 -4.65454296e-02 -3.61489151e-02  5.79612679e-02\n",
      " -5.51123495e-02 -3.00387653e-02  9.26590016e-02 -2.74674412e-02\n",
      " -1.93282663e-02 -2.41645614e-02  2.38842527e-02  6.68377269e-03\n",
      " -2.63735865e-04  4.94335775e-02 -4.87730883e-03 -2.67199025e-03\n",
      "  1.62398329e-02  2.39903116e-02  5.72485521e-02 -5.93432522e-02\n",
      "  3.35537381e-02  2.42112443e-02 -5.86353945e-02  4.30638557e-02\n",
      "  2.00214556e-02 -3.09201848e-02  4.64958403e-02 -1.31266420e-02\n",
      "  1.68051545e-02 -1.22146529e-02  1.40294872e-02 -3.19896023e-02\n",
      "  5.71119437e-02  5.49975927e-02  5.59872721e-02 -3.07366640e-03\n",
      " -1.37149955e-02  7.63067138e-03 -2.57463547e-02  1.25398644e-02\n",
      "  1.56958114e-02 -1.00412292e-02  2.28283994e-02 -5.65636926e-02\n",
      " -1.91897617e-02 -2.68304420e-02 -3.45663710e-02 -3.94567648e-03\n",
      "  6.39586237e-02  8.39940469e-03 -3.40610864e-02 -6.31341098e-02\n",
      " -5.28129756e-04 -1.21788478e-02  1.02512333e-01  1.44130113e-02\n",
      "  3.56054328e-02 -5.11028524e-02  4.01774723e-03  1.64408935e-02\n",
      "  5.87494392e-03 -4.28294707e-02 -2.44006603e-02 -3.52166106e-02\n",
      "  5.22346917e-02 -2.26133874e-02 -3.67079139e-02 -2.15775585e-02\n",
      " -1.35231469e-02  5.20746381e-02  8.15998579e-02  6.18400875e-03\n",
      " -6.26895242e-02  3.08505669e-03  2.38981683e-02 -4.69860309e-02\n",
      " -3.53270209e-02  1.45847018e-02  1.05953278e-02  2.84922307e-04\n",
      "  1.37403702e-03 -4.58699053e-02 -4.71846256e-03 -2.82096003e-02\n",
      " -1.24049553e-03 -9.52716881e-02 -6.04084544e-02 -3.97026703e-02\n",
      "  1.50203268e-02  3.53941073e-02 -6.49785524e-02 -6.71904952e-02\n",
      "  4.06413761e-02 -2.00210195e-02 -6.14370511e-02 -6.65332995e-04\n",
      " -6.02827189e-03  9.76925287e-03  7.40269056e-03 -1.16060317e-01\n",
      " -8.10125921e-03 -1.69868427e-02 -4.93049986e-02 -2.02873531e-03\n",
      " -8.98591809e-03 -2.57587072e-02  6.33114139e-02  5.98605700e-03\n",
      "  1.01533745e-02 -1.45908682e-02  2.92715082e-02 -1.46473547e-02\n",
      " -4.69272666e-02  2.16017088e-02 -1.93940711e-02  1.44363082e-02\n",
      "  3.82179612e-02 -6.64790909e-02 -1.75688771e-02 -2.42178896e-02\n",
      " -2.28206441e-01 -3.28819301e-02  5.40558040e-03 -6.29833305e-02\n",
      "  3.52714812e-02  3.36475073e-02 -6.31568318e-03  3.35481269e-05\n",
      "  7.61959500e-03 -6.97553615e-03  7.52206018e-02 -8.35857284e-03\n",
      " -1.60991125e-02 -1.22392020e-02  1.59864087e-02 -3.24158695e-03\n",
      "  5.05173169e-02 -3.03186411e-02  1.94942639e-02  6.09480404e-02\n",
      "  3.87275368e-02 -5.37958180e-02 -2.75294988e-03 -3.47653803e-02\n",
      "  4.69084690e-02 -1.98961950e-02  1.86021912e-02  3.50547167e-03\n",
      " -3.69147591e-02 -6.00406821e-04  1.42066902e-03 -7.73694958e-02\n",
      " -2.14792340e-03 -1.37634667e-02  4.90990819e-03  1.15813222e-02\n",
      "  1.79503493e-02  5.77514900e-03  5.57287153e-03 -1.13071250e-02\n",
      " -1.59791916e-02 -5.25145731e-02  4.65274619e-02  4.56348365e-02\n",
      "  6.38093176e-02 -2.37508574e-02 -1.97248948e-02 -6.10779439e-02\n",
      "  1.75305187e-02  7.57371435e-03 -2.67490992e-02  1.06459011e-03\n",
      " -5.42914127e-03  2.00218765e-02 -5.34633654e-02 -3.11766101e-02\n",
      "  6.77727754e-03 -6.48359813e-03 -1.08030447e-01 -4.62501637e-03\n",
      "  2.50285006e-02 -6.45030125e-02 -4.73731623e-04  5.03933395e-02\n",
      "  3.62655252e-02 -1.61057853e-02  2.42239921e-02  7.78873888e-02\n",
      " -5.99659186e-03  2.53485982e-03 -8.18287212e-03  6.58769897e-02\n",
      " -6.13379354e-02  1.72979328e-04 -5.51130986e-02 -2.01437652e-02\n",
      "  8.07937316e-03  2.79136822e-02  4.07098927e-02 -6.82163322e-02\n",
      " -5.50736405e-04 -6.55371701e-03  3.66967182e-02 -2.03128039e-02\n",
      "  7.19242957e-03 -6.12947375e-02  3.90168919e-02 -1.54444071e-02\n",
      "  2.31692347e-02 -2.55675273e-02  2.63816693e-02 -5.66494867e-02\n",
      "  2.90038795e-03  7.06155007e-03 -1.40111298e-02 -3.84103371e-02\n",
      "  1.69201020e-02 -6.08363423e-02  8.20815979e-03  8.90359975e-03\n",
      " -1.57532221e-03 -1.14753401e-01  4.16299653e-02 -3.11753029e-03\n",
      "  6.89164176e-02  4.24027668e-02 -1.06414718e-01  3.56985459e-02\n",
      "  1.18845869e-02 -8.90985098e-02 -2.00856907e-02 -5.34155485e-02\n",
      "  1.07053755e-02  4.59743294e-02 -2.62084088e-02 -1.34768113e-02\n",
      "  8.84143839e-02  1.66520032e-01 -4.78720536e-02  5.28292163e-02\n",
      "  7.81749231e-02  7.96098521e-02  6.31132397e-02  6.59041312e-02\n",
      " -1.15081457e-02  4.11620765e-02 -2.16590862e-03  3.17031286e-03\n",
      " -1.10317394e-02 -9.28797290e-04 -5.24333563e-02 -1.21225004e-02\n",
      "  1.47517319e-02 -1.71392421e-02  9.30265989e-03  1.95507333e-02\n",
      " -5.26143395e-02 -9.11703475e-02  8.79947871e-02  4.47497309e-02\n",
      " -5.27691075e-02  1.69310143e-02 -1.82282547e-02 -3.62955752e-02\n",
      " -2.15121024e-02  6.82730245e-03  2.90941942e-02  5.86254034e-03\n",
      "  2.50379465e-02  7.13841344e-02 -4.69839648e-02 -3.89830340e-02\n",
      " -1.42746473e-02 -2.65614816e-02 -4.73238180e-02 -9.31987644e-03\n",
      "  3.01250571e-02  5.58928660e-02  2.36840665e-02 -1.90568732e-02\n",
      " -6.17747069e-03  2.10551217e-02  1.96002235e-02  3.90845589e-02\n",
      "  5.91626190e-02 -3.94142987e-02  7.35054979e-02  5.00736153e-02\n",
      " -1.76703995e-02  8.76831254e-02  1.26224874e-02  3.60490952e-02\n",
      " -3.51385367e-03 -3.69482109e-02 -1.97933131e-02  6.24967125e-02\n",
      " -4.82877143e-04 -3.82189131e-03 -4.36188423e-02  7.44981016e-03\n",
      " -6.72024340e-03 -6.98072976e-02 -2.86761869e-03  4.50759818e-02\n",
      " -9.41592564e-03  2.20082030e-02 -1.29360548e-02 -4.11237779e-02\n",
      "  2.54848093e-02  2.31419637e-02  2.42313354e-02 -3.77879578e-02\n",
      " -4.24965082e-02 -1.96504787e-02 -5.89159007e-02 -2.42226873e-04\n",
      "  4.42471686e-02 -7.73579147e-02  5.05208994e-02  3.05643674e-02\n",
      "  1.05084611e-01 -3.19734144e-02 -4.15338485e-03  2.18453051e-02\n",
      " -1.85684478e-02 -2.83491220e-02  1.08332509e-02 -2.88748016e-02\n",
      "  4.30830382e-03  7.37580116e-03  6.36947907e-02  2.17925783e-02\n",
      "  1.82235829e-02 -9.62907757e-03  1.73686135e-02  4.41909200e-02\n",
      " -1.25897966e-02  1.11305330e-02 -5.50608440e-02  5.25797233e-02\n",
      " -1.33511138e-01 -2.97235141e-02  2.21640999e-02  1.64640398e-02\n",
      "  1.44517563e-03 -6.28047035e-02 -6.42138815e-03 -4.78359372e-02\n",
      " -4.74014785e-02 -5.05503230e-02  1.23382576e-02 -7.10074002e-03\n",
      "  3.75448206e-02  6.80661516e-03  4.98862126e-02  3.60031137e-02\n",
      "  4.08416060e-02  6.81316898e-02 -2.19870317e-02  4.35833510e-02\n",
      "  3.55566414e-03  3.70737706e-02 -2.26976855e-02  5.25856296e-02\n",
      "  9.61740444e-03  3.87957702e-02 -7.38298554e-03 -3.94030145e-02\n",
      "  1.15437998e-02 -4.05575515e-02 -8.59906722e-02 -1.11361716e-02\n",
      " -2.87374467e-02 -4.79033776e-02  4.12432229e-02 -5.84928874e-02\n",
      " -8.23918800e-03 -5.01913680e-03 -1.62074000e-03 -4.03511640e-02\n",
      " -5.62662473e-02 -2.17900143e-02  4.25709998e-02 -2.22067597e-02\n",
      "  3.17772734e-02 -3.62463809e-02  1.91242232e-02 -2.35833615e-02\n",
      "  3.22305192e-02  3.71106321e-03 -6.03854498e-02  5.80783046e-02\n",
      "  8.64035286e-04  3.80773509e-02 -8.31852146e-03 -6.13803009e-02\n",
      "  8.66723465e-02 -8.27536904e-02 -3.76861760e-03 -3.71766414e-02\n",
      "  2.11563729e-02  6.32515172e-03 -3.88114151e-03 -3.18843763e-02\n",
      " -1.19016368e-02  2.97679309e-03 -3.23335973e-03  4.61310555e-02\n",
      " -1.51412226e-02  2.30446344e-02  2.61924018e-02 -8.09557895e-03\n",
      "  9.54747249e-03  2.93662935e-02  3.13746395e-04  1.53184094e-02\n",
      "  1.29691287e-02  1.00174614e-01 -3.53771899e-02 -3.23783773e-02\n",
      "  3.26449375e-02  1.53122478e-02 -1.22901100e-02 -1.13382067e-02\n",
      " -1.44726723e-02  4.11633558e-02 -5.42047164e-02 -3.56824298e-02\n",
      " -1.45936707e-02 -1.29601709e-02 -9.23368446e-03  3.42380117e-02\n",
      " -6.36397528e-03  1.09153621e-02 -4.42681547e-02 -4.11909937e-02\n",
      "  2.01897002e-02 -5.80995111e-02  1.71444165e-02  2.58947441e-02\n",
      "  5.37494524e-02 -7.02415670e-02  3.93682233e-02 -3.09749100e-02\n",
      "  3.41655532e-02  6.01841124e-02 -4.05153002e-02 -3.74321007e-02\n",
      " -5.91938611e-02  2.10720021e-02  1.05042090e-02 -2.88920917e-02\n",
      "  1.18831071e-02  3.59791161e-02 -2.40001909e-02 -6.30877860e-02\n",
      "  4.25535027e-02 -1.38564093e-02  2.83064770e-02 -1.13990010e-02\n",
      " -8.75101938e-03  2.94111428e-02  3.89164939e-02 -7.95473848e-02\n",
      "  3.29395977e-02  3.75587936e-02  2.52546462e-02 -7.49497165e-02\n",
      " -3.29290020e-02 -3.36866182e-02 -2.81454103e-03  2.92664673e-02\n",
      "  4.02668622e-02  7.14819539e-02  7.17126658e-02 -4.32392063e-02\n",
      " -7.48251921e-03  6.24266076e-02  3.81870629e-02  1.80203992e-02\n",
      "  3.70430881e-02  3.31244292e-02 -2.14068581e-02 -5.15044957e-02\n",
      "  1.67413027e-02 -1.50722137e-02  1.52678147e-02 -4.31595433e-02\n",
      " -3.04112295e-02 -1.28517256e-02  4.77055460e-02  3.66043233e-02\n",
      " -1.02752940e-01 -9.35788547e-02  1.15007729e-02  6.56153693e-02\n",
      "  6.69167791e-02 -8.12443642e-03 -3.62446969e-02  9.10268012e-02\n",
      "  3.10042991e-02  1.76671213e-03 -4.94741524e-03 -3.97595455e-02\n",
      "  1.57555767e-02  5.64038678e-02 -1.75196774e-03 -2.86087097e-02\n",
      "  2.48262506e-02 -3.52365407e-02 -2.10730046e-02 -1.58816982e-02\n",
      "  1.69619320e-02 -4.40569775e-02 -4.59928069e-02  3.55200157e-03\n",
      "  3.76041541e-02  1.90509599e-04  4.78722143e-02  4.51966388e-02\n",
      "  7.97530717e-03  5.98475342e-03 -5.16363772e-02  5.51825935e-02\n",
      " -2.47959769e-02 -1.42591496e-02 -5.26311599e-02  5.57136440e-02\n",
      "  4.95423167e-03 -5.48847567e-03  7.40375428e-03  7.52023768e-02\n",
      " -9.87412895e-02 -2.19207504e-02  5.36500036e-02  2.89659978e-02\n",
      " -1.08757456e-02  1.61863497e-02 -2.25591004e-02  1.10413519e-02\n",
      "  1.45627688e-03  3.97405177e-02  4.04996597e-03  1.16148446e-01\n",
      "  4.51862562e-02  1.04500683e-02  1.83490053e-02  1.42790958e-02\n",
      " -3.36017928e-03 -3.04354627e-02  7.71355213e-02 -3.59558469e-02\n",
      " -3.48674508e-03 -1.00574787e-01  2.53737337e-02  2.28984031e-02\n",
      " -5.81778792e-02 -1.38873261e-02  9.38719915e-03 -2.33897222e-02\n",
      "  3.89285399e-02  1.24824832e-02  2.18265861e-02 -3.79075224e-02\n",
      " -1.99682993e-01 -2.02591237e-02 -4.60424061e-02 -5.75693900e-02\n",
      "  3.38920404e-03 -5.83471051e-02 -2.77480099e-02  9.30309297e-03\n",
      "  5.27229300e-02 -3.56628757e-02 -6.02921379e-02  1.26763070e-02\n",
      "  9.93077498e-03 -5.88525632e-03  2.60648118e-02 -1.19568351e-02]\n",
      "======================================================================\n",
      "[ 2.16106035e-02 -2.03222574e-02  2.23952191e-02 -1.36623318e-02\n",
      "  3.41200915e-02  4.56970769e-02 -1.48990035e-02 -1.15190635e-02\n",
      "  1.17806912e-02 -1.32394765e-02 -3.32520789e-02  4.26966158e-03\n",
      " -1.93503776e-02 -5.53191543e-02  3.54755849e-02 -1.24747662e-02\n",
      " -4.06659293e-03  5.10078960e-02  2.67716860e-02  6.77888864e-03\n",
      " -3.17684080e-02  2.43507717e-02  2.07131683e-03 -5.33490343e-03\n",
      " -2.69318808e-02 -8.47773075e-03  6.14528010e-02 -2.52278335e-02\n",
      " -2.79877552e-03  2.40325014e-02  7.11106891e-03  2.81666955e-02\n",
      "  3.81545703e-03  5.94492233e-03  8.50036348e-03  5.73307204e-02\n",
      " -4.58032360e-02  3.41017066e-02  2.31996433e-02 -5.32673921e-03\n",
      "  4.04647501e-02 -2.83807965e-02  3.18274894e-03 -4.68956464e-03\n",
      " -1.51348096e-02  1.88495529e-02  1.81321602e-03  5.73092701e-02\n",
      " -5.90530965e-02  6.15840118e-03  5.32943475e-03  4.61680964e-02\n",
      "  3.10485582e-02 -1.32821252e-02 -2.68735452e-02 -2.72809093e-02\n",
      "  3.13821354e-02  2.23303149e-02  1.64805069e-02 -7.84150092e-03\n",
      " -2.53720380e-02  6.52453164e-02  6.19972224e-02 -1.34821856e-02\n",
      " -3.12317365e-02 -5.37638213e-02  2.84969523e-03 -2.06370993e-02\n",
      "  7.97854736e-02  1.03282611e-01  3.75057954e-02  1.60285608e-01\n",
      " -3.15002345e-02 -1.17505879e-02  1.28154864e-03 -2.73745717e-02\n",
      " -6.05531512e-02 -3.51179077e-03  2.95183928e-02  1.02739027e-02\n",
      " -1.69924556e-02 -1.72772014e-01 -2.37602148e-02 -5.26414805e-02\n",
      "  8.18263383e-03 -2.75211295e-02  2.84944438e-02 -4.58641812e-03\n",
      " -5.26141897e-03 -7.69094114e-03 -2.13513883e-02  1.34752505e-02\n",
      " -1.70966528e-02  8.32859944e-03 -1.28449826e-02  1.44987337e-02\n",
      " -5.14823094e-02 -1.63292896e-02  4.89230210e-03 -2.87306057e-02\n",
      " -3.28302986e-02 -3.77614563e-02 -4.36390787e-02 -2.20723832e-02\n",
      " -5.14113170e-03  4.40457115e-04 -3.71159757e-02 -7.00540621e-02\n",
      " -1.98488175e-02  1.94142210e-02 -3.39697597e-02  1.00131515e-02\n",
      "  3.89881757e-02  1.88912696e-02 -1.84144384e-02 -3.57680526e-02\n",
      " -3.77831835e-02 -2.00716570e-03  5.31883529e-02 -6.29066996e-03\n",
      " -4.91334513e-02  7.80429630e-02 -2.92675122e-03  1.05609335e-02\n",
      "  1.82738977e-02 -1.38678840e-03  1.33708308e-02 -2.09159313e-03\n",
      " -3.25935011e-02 -4.49764349e-02 -1.22345000e-02 -7.61860842e-02\n",
      " -1.64465116e-02  1.86665292e-02  5.25736140e-02  1.90767378e-02\n",
      " -2.99832028e-02  1.19957952e-02  7.12434027e-02  2.38757759e-02\n",
      " -1.52007955e-02  2.22923100e-04  4.49910559e-03  1.34199769e-01\n",
      "  2.45008113e-03 -3.05613826e-02 -6.23821327e-02  4.79893210e-02\n",
      " -7.99466816e-02 -1.84831426e-02 -3.67944075e-02  2.12136058e-02\n",
      " -8.40747665e-04  4.54888317e-03  2.83910033e-02  4.65358919e-02\n",
      "  2.17733301e-03 -7.96443389e-03 -1.16352609e-01 -3.02420451e-02\n",
      " -1.50372467e-02 -1.31288390e-02  2.09242918e-02  4.94209005e-02\n",
      " -8.88588745e-02 -1.13487995e-01  4.66765257e-02 -6.99492383e-02\n",
      " -4.21222322e-02 -6.52385285e-02 -2.02127137e-02 -1.86614194e-02\n",
      " -3.70421127e-02  4.34205334e-02  1.22004704e-01  4.36008180e-02\n",
      " -1.47279431e-02 -4.70060048e-02 -3.52615674e-02 -1.24358702e-02\n",
      "  2.42989596e-01  1.52819295e-02 -8.64090335e-03  1.43085028e-02\n",
      "  8.82513251e-03 -4.76046609e-02  7.26454325e-02  3.61324327e-02\n",
      "  8.94235555e-02  4.65454296e-02  3.61489151e-02 -5.79612679e-02\n",
      "  5.51123495e-02  3.00387653e-02 -9.26590016e-02  2.74674412e-02\n",
      "  1.93282663e-02  2.41645614e-02 -2.38842527e-02 -6.68377269e-03\n",
      "  2.63735865e-04 -4.94335775e-02  4.87730883e-03  2.67199025e-03\n",
      " -1.62398329e-02 -2.39903116e-02 -5.72485521e-02  5.93432522e-02\n",
      " -3.35537381e-02 -2.42112443e-02  5.86353945e-02 -4.30638557e-02\n",
      " -2.00214556e-02  3.09201848e-02 -4.64958403e-02  1.31266420e-02\n",
      " -1.68051545e-02  1.22146529e-02 -1.40294872e-02  3.19896023e-02\n",
      " -5.71119437e-02 -5.49975927e-02 -5.59872721e-02  3.07366640e-03\n",
      "  1.37149955e-02 -7.63067138e-03  2.57463547e-02 -1.25398644e-02\n",
      " -1.56958114e-02  1.00412292e-02 -2.28283994e-02  5.65636926e-02\n",
      "  1.91897617e-02  2.68304420e-02  3.45663710e-02  3.94567648e-03\n",
      " -6.39586237e-02 -8.39940469e-03  3.40610864e-02  6.31341098e-02\n",
      "  5.28129756e-04  1.21788478e-02 -1.02512333e-01 -1.44130113e-02\n",
      " -3.56054328e-02  5.11028524e-02 -4.01774723e-03 -1.64408935e-02\n",
      " -5.87494392e-03  4.28294707e-02  2.44006603e-02  3.52166106e-02\n",
      " -5.22346917e-02  2.26133874e-02  3.67079139e-02  2.15775585e-02\n",
      "  1.35231469e-02 -5.20746381e-02 -8.15998579e-02 -6.18400875e-03\n",
      "  6.26895242e-02 -3.08505669e-03 -2.38981683e-02  4.69860309e-02\n",
      "  3.53270209e-02 -1.45847018e-02 -1.05953278e-02 -2.84922307e-04\n",
      " -1.37403702e-03  4.58699053e-02  4.71846256e-03  2.82096003e-02\n",
      "  1.24049553e-03  9.52716881e-02  6.04084544e-02  3.97026703e-02\n",
      " -1.50203268e-02 -3.53941073e-02  6.49785524e-02  6.71904952e-02\n",
      " -4.06413761e-02  2.00210195e-02  6.14370511e-02  6.65332995e-04\n",
      "  6.02827189e-03 -9.76925287e-03 -7.40269056e-03  1.16060317e-01\n",
      "  8.10125921e-03  1.69868427e-02  4.93049986e-02  2.02873531e-03\n",
      "  8.98591809e-03  2.57587072e-02 -6.33114139e-02 -5.98605700e-03\n",
      " -1.01533745e-02  1.45908682e-02 -2.92715082e-02  1.46473547e-02\n",
      "  4.69272666e-02 -2.16017088e-02  1.93940711e-02 -1.44363082e-02\n",
      " -3.82179612e-02  6.64790909e-02  1.75688771e-02  2.42178896e-02\n",
      "  2.28206441e-01  3.28819301e-02 -5.40558040e-03  6.29833305e-02\n",
      " -3.52714812e-02 -3.36475073e-02  6.31568318e-03 -3.35481269e-05\n",
      " -7.61959500e-03  6.97553615e-03 -7.52206018e-02  8.35857284e-03\n",
      "  1.60991125e-02  1.22392020e-02 -1.59864087e-02  3.24158695e-03\n",
      " -5.05173169e-02  3.03186411e-02 -1.94942639e-02 -6.09480404e-02\n",
      " -3.87275368e-02  5.37958180e-02  2.75294988e-03  3.47653803e-02\n",
      " -4.69084690e-02  1.98961950e-02 -1.86021912e-02 -3.50547167e-03\n",
      "  3.69147591e-02  6.00406821e-04 -1.42066902e-03  7.73694958e-02\n",
      "  2.14792340e-03  1.37634667e-02 -4.90990819e-03 -1.15813222e-02\n",
      " -1.79503493e-02 -5.77514900e-03 -5.57287153e-03  1.13071250e-02\n",
      "  1.59791916e-02  5.25145731e-02 -4.65274619e-02 -4.56348365e-02\n",
      " -6.38093176e-02  2.37508574e-02  1.97248948e-02  6.10779439e-02\n",
      " -1.75305187e-02 -7.57371435e-03  2.67490992e-02 -1.06459011e-03\n",
      "  5.42914127e-03 -2.00218765e-02  5.34633654e-02  3.11766101e-02\n",
      " -6.77727754e-03  6.48359813e-03  1.08030447e-01  4.62501637e-03\n",
      " -2.50285006e-02  6.45030125e-02  4.73731623e-04 -5.03933395e-02\n",
      " -3.62655252e-02  1.61057853e-02 -2.42239921e-02 -7.78873888e-02\n",
      "  5.99659186e-03 -2.53485982e-03  8.18287212e-03 -6.58769897e-02\n",
      "  6.13379354e-02 -1.72979328e-04  5.51130986e-02  2.01437652e-02\n",
      " -8.07937316e-03 -2.79136822e-02 -4.07098927e-02  6.82163322e-02\n",
      "  5.50736405e-04  6.55371701e-03 -3.66967182e-02  2.03128039e-02\n",
      " -7.19242957e-03  6.12947375e-02 -3.90168919e-02  1.54444071e-02\n",
      " -2.31692347e-02  2.55675273e-02 -2.63816693e-02  5.66494867e-02\n",
      " -2.90038795e-03 -7.06155007e-03  1.40111298e-02  3.84103371e-02\n",
      " -1.69201020e-02  6.08363423e-02 -8.20815979e-03 -8.90359975e-03\n",
      "  1.57532221e-03  1.14753401e-01 -4.16299653e-02  3.11753029e-03\n",
      " -6.89164176e-02 -4.24027668e-02  1.06414718e-01 -3.56985459e-02\n",
      " -1.18845869e-02  8.90985098e-02  2.00856907e-02  5.34155485e-02\n",
      " -1.07053755e-02 -4.59743294e-02  2.62084088e-02  1.34768113e-02\n",
      " -8.84143839e-02 -1.66520032e-01  4.78720536e-02 -5.28292163e-02\n",
      " -7.81749231e-02 -7.96098521e-02 -6.31132397e-02 -6.59041312e-02\n",
      "  1.15081457e-02 -4.11620765e-02  2.16590862e-03 -3.17031286e-03\n",
      "  1.10317394e-02  9.28797290e-04  5.24333563e-02  1.21225004e-02\n",
      " -1.47517319e-02  1.71392421e-02 -9.30265989e-03 -1.95507333e-02\n",
      "  5.26143395e-02  9.11703475e-02 -8.79947871e-02 -4.47497309e-02\n",
      "  5.27691075e-02 -1.69310143e-02  1.82282547e-02  3.62955752e-02\n",
      "  2.15121024e-02 -6.82730245e-03 -2.90941942e-02 -5.86254034e-03\n",
      " -2.50379465e-02 -7.13841344e-02  4.69839648e-02  3.89830340e-02\n",
      "  1.42746473e-02  2.65614816e-02  4.73238180e-02  9.31987644e-03\n",
      " -3.01250571e-02 -5.58928660e-02 -2.36840665e-02  1.90568732e-02\n",
      "  6.17747069e-03 -2.10551217e-02 -1.96002235e-02 -3.90845589e-02\n",
      " -5.91626190e-02  3.94142987e-02 -7.35054979e-02 -5.00736153e-02\n",
      "  1.76703995e-02 -8.76831254e-02 -1.26224874e-02 -3.60490952e-02\n",
      "  3.51385367e-03  3.69482109e-02  1.97933131e-02 -6.24967125e-02\n",
      "  4.82877143e-04  3.82189131e-03  4.36188423e-02 -7.44981016e-03\n",
      "  6.72024340e-03  6.98072976e-02  2.86761869e-03 -4.50759818e-02\n",
      "  9.41592564e-03 -2.20082030e-02  1.29360548e-02  4.11237779e-02\n",
      " -2.54848093e-02 -2.31419637e-02 -2.42313354e-02  3.77879578e-02\n",
      "  4.24965082e-02  1.96504787e-02  5.89159007e-02  2.42226873e-04\n",
      " -4.42471686e-02  7.73579147e-02 -5.05208994e-02 -3.05643674e-02\n",
      " -1.05084611e-01  3.19734144e-02  4.15338485e-03 -2.18453051e-02\n",
      "  1.85684478e-02  2.83491220e-02 -1.08332509e-02  2.88748016e-02\n",
      " -4.30830382e-03 -7.37580116e-03 -6.36947907e-02 -2.17925783e-02\n",
      " -1.82235829e-02  9.62907757e-03 -1.73686135e-02 -4.41909200e-02\n",
      "  1.25897966e-02 -1.11305330e-02  5.50608440e-02 -5.25797233e-02\n",
      "  1.33511138e-01  2.97235141e-02 -2.21640999e-02 -1.64640398e-02\n",
      " -1.44517563e-03  6.28047035e-02  6.42138815e-03  4.78359372e-02\n",
      "  4.74014785e-02  5.05503230e-02 -1.23382576e-02  7.10074002e-03\n",
      " -3.75448206e-02 -6.80661516e-03 -4.98862126e-02 -3.60031137e-02\n",
      " -4.08416060e-02 -6.81316898e-02  2.19870317e-02 -4.35833510e-02\n",
      " -3.55566414e-03 -3.70737706e-02  2.26976855e-02 -5.25856296e-02\n",
      " -9.61740444e-03 -3.87957702e-02  7.38298554e-03  3.94030145e-02\n",
      " -1.15437998e-02  4.05575515e-02  8.59906722e-02  1.11361716e-02\n",
      "  2.87374467e-02  4.79033776e-02 -4.12432229e-02  5.84928874e-02\n",
      "  8.23918800e-03  5.01913680e-03  1.62074000e-03  4.03511640e-02\n",
      "  5.62662473e-02  2.17900143e-02 -4.25709998e-02  2.22067597e-02\n",
      " -3.17772734e-02  3.62463809e-02 -1.91242232e-02  2.35833615e-02\n",
      " -3.22305192e-02 -3.71106321e-03  6.03854498e-02 -5.80783046e-02\n",
      " -8.64035286e-04 -3.80773509e-02  8.31852146e-03  6.13803009e-02\n",
      " -8.66723465e-02  8.27536904e-02  3.76861760e-03  3.71766414e-02\n",
      " -2.11563729e-02 -6.32515172e-03  3.88114151e-03  3.18843763e-02\n",
      "  1.19016368e-02 -2.97679309e-03  3.23335973e-03 -4.61310555e-02\n",
      "  1.51412226e-02 -2.30446344e-02 -2.61924018e-02  8.09557895e-03\n",
      " -9.54747249e-03 -2.93662935e-02 -3.13746395e-04 -1.53184094e-02\n",
      " -1.29691287e-02 -1.00174614e-01  3.53771899e-02  3.23783773e-02\n",
      " -3.26449375e-02 -1.53122478e-02  1.22901100e-02  1.13382067e-02\n",
      "  1.44726723e-02 -4.11633558e-02  5.42047164e-02  3.56824298e-02\n",
      "  1.45936707e-02  1.29601709e-02  9.23368446e-03 -3.42380117e-02\n",
      "  6.36397528e-03 -1.09153621e-02  4.42681547e-02  4.11909937e-02\n",
      " -2.01897002e-02  5.80995111e-02 -1.71444165e-02 -2.58947441e-02\n",
      " -5.37494524e-02  7.02415670e-02 -3.93682233e-02  3.09749100e-02\n",
      " -3.41655532e-02 -6.01841124e-02  4.05153002e-02  3.74321007e-02\n",
      "  5.91938611e-02 -2.10720021e-02 -1.05042090e-02  2.88920917e-02\n",
      " -1.18831071e-02 -3.59791161e-02  2.40001909e-02  6.30877860e-02\n",
      " -4.25535027e-02  1.38564093e-02 -2.83064770e-02  1.13990010e-02\n",
      "  8.75101938e-03 -2.94111428e-02 -3.89164939e-02  7.95473848e-02\n",
      " -3.29395977e-02 -3.75587936e-02 -2.52546462e-02  7.49497165e-02\n",
      "  3.29290020e-02  3.36866182e-02  2.81454103e-03 -2.92664673e-02\n",
      " -4.02668622e-02 -7.14819539e-02 -7.17126658e-02  4.32392063e-02\n",
      "  7.48251921e-03 -6.24266076e-02 -3.81870629e-02 -1.80203992e-02\n",
      " -3.70430881e-02 -3.31244292e-02  2.14068581e-02  5.15044957e-02\n",
      " -1.67413027e-02  1.50722137e-02 -1.52678147e-02  4.31595433e-02\n",
      "  3.04112295e-02  1.28517256e-02 -4.77055460e-02 -3.66043233e-02\n",
      "  1.02752940e-01  9.35788547e-02 -1.15007729e-02 -6.56153693e-02\n",
      " -6.69167791e-02  8.12443642e-03  3.62446969e-02 -9.10268012e-02\n",
      " -3.10042991e-02 -1.76671213e-03  4.94741524e-03  3.97595455e-02\n",
      " -1.57555767e-02 -5.64038678e-02  1.75196774e-03  2.86087097e-02\n",
      " -2.48262506e-02  3.52365407e-02  2.10730046e-02  1.58816982e-02\n",
      " -1.69619320e-02  4.40569775e-02  4.59928069e-02 -3.55200157e-03\n",
      " -3.76041541e-02 -1.90509599e-04 -4.78722143e-02 -4.51966388e-02\n",
      " -7.97530717e-03 -5.98475342e-03  5.16363772e-02 -5.51825935e-02\n",
      "  2.47959769e-02  1.42591496e-02  5.26311599e-02 -5.57136440e-02\n",
      " -4.95423167e-03  5.48847567e-03 -7.40375428e-03 -7.52023768e-02\n",
      "  9.87412895e-02  2.19207504e-02 -5.36500036e-02 -2.89659978e-02\n",
      "  1.08757456e-02 -1.61863497e-02  2.25591004e-02 -1.10413519e-02\n",
      " -1.45627688e-03 -3.97405177e-02 -4.04996597e-03 -1.16148446e-01\n",
      " -4.51862562e-02 -1.04500683e-02 -1.83490053e-02 -1.42790958e-02\n",
      "  3.36017928e-03  3.04354627e-02 -7.71355213e-02  3.59558469e-02\n",
      "  3.48674508e-03  1.00574787e-01 -2.53737337e-02 -2.28984031e-02\n",
      "  5.81778792e-02  1.38873261e-02 -9.38719915e-03  2.33897222e-02\n",
      " -3.89285399e-02 -1.24824832e-02 -2.18265861e-02  3.79075224e-02\n",
      "  1.99682993e-01  2.02591237e-02  4.60424061e-02  5.75693900e-02\n",
      " -3.38920404e-03  5.83471051e-02  2.77480099e-02 -9.30309297e-03\n",
      " -5.27229300e-02  3.56628757e-02  6.02921379e-02 -1.26763070e-02\n",
      " -9.93077498e-03  5.88525632e-03 -2.60648118e-02  1.19568351e-02]\n",
      "======================================================================\n"
     ]
    }
   ],
   "source": [
    "for ix in cavs:\n",
    "    print(ix)\n",
    "    print('='*70)"
   ]
  },
  {
   "cell_type": "code",
   "execution_count": 173,
   "metadata": {},
   "outputs": [],
   "source": [
    "# compute the directional derivative - \\partial{class_acts}/{concept_cav}\n",
    "\n",
    "concepts = ['noun']\n",
    "def get_direction(concept):\n",
    "    return cavs[concepts.index(concept)]"
   ]
  },
  {
   "cell_type": "code",
   "execution_count": 174,
   "metadata": {},
   "outputs": [],
   "source": [
    "direc = get_direction('noun')"
   ]
  },
  {
   "cell_type": "code",
   "execution_count": 191,
   "metadata": {},
   "outputs": [
    {
     "name": "stdout",
     "output_type": "stream",
     "text": [
      "[-0.10725261  0.11119931  0.07953276  0.11941066] 0\n",
      "[ 0.79170519 -0.51132411 -0.03086021 -0.06428905] 1\n"
     ]
    }
   ],
   "source": [
    "print(X_train[0][:4], y_train[0])\n",
    "print(X_train[8][:4], y_train[8])"
   ]
  },
  {
   "cell_type": "code",
   "execution_count": 206,
   "metadata": {},
   "outputs": [],
   "source": [
    "def compute_direc_derivative(x,y):\n",
    "    a = np.dot(x, y)\n",
    "    return a < 0"
   ]
  },
  {
   "cell_type": "code",
   "execution_count": 207,
   "metadata": {},
   "outputs": [],
   "source": [
    "pos_dydx = compute_direc_derivative(X_train[8], direc)\n",
    "neg_dydx = compute_direc_derivative(X_train[0], direc)"
   ]
  },
  {
   "cell_type": "code",
   "execution_count": 208,
   "metadata": {},
   "outputs": [
    {
     "data": {
      "text/plain": [
       "True"
      ]
     },
     "execution_count": 208,
     "metadata": {},
     "output_type": "execute_result"
    }
   ],
   "source": [
    "pos_dydx"
   ]
  },
  {
   "cell_type": "code",
   "execution_count": 209,
   "metadata": {},
   "outputs": [
    {
     "data": {
      "text/plain": [
       "False"
      ]
     },
     "execution_count": 209,
     "metadata": {},
     "output_type": "execute_result"
    }
   ],
   "source": [
    "neg_dydx"
   ]
  },
  {
   "cell_type": "code",
   "execution_count": 215,
   "metadata": {},
   "outputs": [],
   "source": [
    "scores = []\n",
    "count = 0\n",
    "\n",
    "for i, ix in enumerate(X_train):\n",
    "    lab = y_train[i]\n",
    "    dydx = compute_direc_derivative(ix, direc)\n",
    "    if dydx:\n",
    "        count += 1\n",
    "        \n",
    "tcav = float(count) / float(len(X_test))\n",
    "neg = 1 - tcav"
   ]
  },
  {
   "cell_type": "code",
   "execution_count": 221,
   "metadata": {},
   "outputs": [
    {
     "name": "stdout",
     "output_type": "stream",
     "text": [
      "TCAV:  0.26666666666666666\n",
      "Not:  0.7333333333333334\n"
     ]
    }
   ],
   "source": [
    "print('TCAV: ', tcav)\n",
    "print('Not: ', neg)\n",
    "tcavs = {'noun': tcav, 'other': neg}"
   ]
  },
  {
   "cell_type": "code",
   "execution_count": 222,
   "metadata": {},
   "outputs": [
    {
     "data": {
      "text/plain": [
       "{'noun': 0.26666666666666666, 'other': 0.7333333333333334}"
      ]
     },
     "execution_count": 222,
     "metadata": {},
     "output_type": "execute_result"
    }
   ],
   "source": [
    "tcavs"
   ]
  },
  {
   "cell_type": "code",
   "execution_count": 225,
   "metadata": {},
   "outputs": [
    {
     "data": {
      "image/png": "[encoded data removed]",
      "text/plain": [
       "<Figure size 720x360 with 1 Axes>"
      ]
     },
     "metadata": {
      "needs_background": "light"
     },
     "output_type": "display_data"
    }
   ],
   "source": [
    "fig = plt.figure(figsize = (10, 5)) \n",
    "  \n",
    "plt.bar(list(tcavs.keys()), list(tcavs.values()), color ='maroon', width = 0.2) \n",
    "  \n",
    "plt.xlabel(\"Concepts\") \n",
    "plt.ylabel(\"Scores\") \n",
    "plt.title(\"TCAV-NLP\") \n",
    "plt.show() "
   ]
  },
  {
   "cell_type": "code",
   "execution_count": null,
   "metadata": {},
   "outputs": [],
   "source": []
  }
 ],
 "metadata": {
  "kernelspec": {
   "display_name": "Python 3",
   "language": "python",
   "name": "python3"
  },
  "language_info": {
   "codemirror_mode": {
    "name": "ipython",
    "version": 3
   },
   "file_extension": ".py",
   "mimetype": "text/x-python",
   "name": "python",
   "nbconvert_exporter": "python",
   "pygments_lexer": "ipython3",
   "version": "3.7.7"
  }
 },
 "nbformat": 4,
 "nbformat_minor": 2
}
