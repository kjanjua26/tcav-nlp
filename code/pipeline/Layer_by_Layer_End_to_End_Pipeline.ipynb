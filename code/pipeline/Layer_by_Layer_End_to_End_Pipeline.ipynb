{
 "cells": [
  {
   "cell_type": "code",
   "execution_count": 1,
   "metadata": {},
   "outputs": [],
   "source": [
    "import h5py\n",
    "from tqdm import tqdm\n",
    "import numpy as np\n",
    "import torch\n",
    "import json\n",
    "import os, sys\n",
    "from sklearn import linear_model\n",
    "from typing import List\n",
    "import html\n",
    "\n",
    "sys.path.append(\"/Users/Janjua/Desktop/QCRI/Work/aux_classifier/\")\n",
    "import aux_classifier.extraction as extraction\n",
    "import aux_classifier.data_loader as data_loader\n",
    "import aux_classifier.utils as utils\n",
    "\n",
    "from IPython.core.display import display, HTML\n",
    "import matplotlib.pyplot as plt\n",
    "%matplotlib inline"
   ]
  },
  {
   "cell_type": "code",
   "execution_count": 2,
   "metadata": {},
   "outputs": [],
   "source": [
    "# concept data loading\n",
    "base_data_path = \"/Users/Janjua/Desktop/QCRI/Work/data/\"\n",
    "acts = os.path.join(base_data_path, \"subsample_concept_acts.json\")\n",
    "concept_sents = os.path.join(base_data_path, \"subsample.in\")\n",
    "concept_labels = os.path.join(base_data_path, \"subsample_label.in\")\n",
    "base_acts_path = os.path.join(base_data_path, \"extractions-professions-mask.json\")\n",
    "base_sents = os.path.join(base_data_path, \"masks.txt\")\n",
    "male = str(1)\n",
    "female = str(0)"
   ]
  },
  {
   "cell_type": "code",
   "execution_count": 3,
   "metadata": {},
   "outputs": [
    {
     "name": "stdout",
     "output_type": "stream",
     "text": [
      "Loading json activations from /Users/Janjua/Desktop/QCRI/Work/data/subsample_concept_acts.json...\n",
      "1000 13.0\n"
     ]
    }
   ],
   "source": [
    "activations, num_layers = data_loader.load_activations(acts, 768)"
   ]
  },
  {
   "cell_type": "code",
   "execution_count": 4,
   "metadata": {},
   "outputs": [
    {
     "name": "stdout",
     "output_type": "stream",
     "text": [
      "Loading json activations from /Users/Janjua/Desktop/QCRI/Work/data/extractions-professions-mask.json...\n",
      "194 13.0\n"
     ]
    }
   ],
   "source": [
    "base_acts, base_num_layers = data_loader.load_activations(base_acts_path, 768)"
   ]
  },
  {
   "cell_type": "code",
   "execution_count": 5,
   "metadata": {},
   "outputs": [
    {
     "name": "stdout",
     "output_type": "stream",
     "text": [
      "(14, 9984) (10, 9984)\n",
      "Num Layers:  13  Acts Len:  1000\n"
     ]
    }
   ],
   "source": [
    "print(activations[0].shape, activations[1].shape)\n",
    "print('Num Layers: ', num_layers, ' Acts Len: ', len(activations))"
   ]
  },
  {
   "cell_type": "code",
   "execution_count": 6,
   "metadata": {},
   "outputs": [],
   "source": [
    "def segregate_acts_for_each_layer(acts, num_layers):\n",
    "    \"\"\"\n",
    "    Separate acts for each layer - 1 to 13.\n",
    "    Args\n",
    "        acts (list): contains the activations\n",
    "    Returns\n",
    "        bottlenecks (dict): contains layer-wise acts.\n",
    "    \"\"\"\n",
    "    bottleneck = {str(k+1): [] for k in range(num_layers)}\n",
    "    np_acts = np.array(acts)\n",
    "    nrof_samples = np_acts.shape[0]\n",
    "\n",
    "    for ix, sample in enumerate(acts):\n",
    "        sample = np.reshape(sample, (-1, 13, 768)) # reshape to each layer.\n",
    "        sample = sample.transpose(1, 0, 2) # it is (-1, 13, 768), we want it to be (13, -1, 768)\n",
    "        for layer_no, act in enumerate(sample):\n",
    "            bottleneck[str(layer_no+1)].append(act)\n",
    "    return bottleneck"
   ]
  },
  {
   "cell_type": "code",
   "execution_count": 7,
   "metadata": {},
   "outputs": [
    {
     "name": "stderr",
     "output_type": "stream",
     "text": [
      "/usr/local/lib/python3.7/site-packages/ipykernel_launcher.py:10: VisibleDeprecationWarning: Creating an ndarray from ragged nested sequences (which is a list-or-tuple of lists-or-tuples-or ndarrays with different lengths or shapes) is deprecated. If you meant to do this, you must specify 'dtype=object' when creating the ndarray\n",
      "  # Remove the CWD from sys.path while we load stuff.\n"
     ]
    }
   ],
   "source": [
    "base_bottleneck = segregate_acts_for_each_layer(base_acts, base_num_layers)\n",
    "concept_bottleneck = segregate_acts_for_each_layer(activations, num_layers)"
   ]
  },
  {
   "cell_type": "code",
   "execution_count": 8,
   "metadata": {},
   "outputs": [],
   "source": [
    "def get_tokens_for_each_layer(activations, sents, labels, max_sentence_l):\n",
    "    \"\"\"\n",
    "    Segregates the tokens for each layer.\n",
    "    Args\n",
    "        activations (dict): contains the activations for each layer.\n",
    "        sents (list): path where the sentences are stored\n",
    "        labels (list): the labels of the sentences\n",
    "        max_sentence_l (int): the maximum length of a sentence\n",
    "    \"\"\"\n",
    "    \n",
    "    bottleneck_tokens = {}\n",
    "    for k, v in activations.items():\n",
    "        tokens = data_loader.load_data(concept_sents,\n",
    "                                       concept_labels,\n",
    "                                       v, max_sentence_l)\n",
    "        bottleneck_tokens[k] = tokens\n",
    "\n",
    "    return bottleneck_tokens"
   ]
  },
  {
   "cell_type": "code",
   "execution_count": 9,
   "metadata": {},
   "outputs": [
    {
     "name": "stdout",
     "output_type": "stream",
     "text": [
      "Skipping line:  4\n",
      "A: 17, S: 16, T: 17\n",
      "Skipping line:  633\n",
      "A: 11, S: 10, T: 11\n",
      "Skipping line:  842\n",
      "A: 8, S: 9, T: 8\n",
      "Deleting line 4: 17 activations, 16 source, 17 target\n",
      "Deleting line 632: 11 activations, 10 source, 11 target\n",
      "Deleting line 840: 8 activations, 9 source, 8 target\n",
      "Skipping line:  4\n",
      "A: 17, S: 16, T: 17\n",
      "Skipping line:  633\n",
      "A: 11, S: 10, T: 11\n",
      "Skipping line:  842\n",
      "A: 8, S: 9, T: 8\n",
      "Deleting line 4: 17 activations, 16 source, 17 target\n",
      "Deleting line 632: 11 activations, 10 source, 11 target\n",
      "Deleting line 840: 8 activations, 9 source, 8 target\n",
      "Skipping line:  4\n",
      "A: 17, S: 16, T: 17\n",
      "Skipping line:  633\n",
      "A: 11, S: 10, T: 11\n",
      "Skipping line:  842\n",
      "A: 8, S: 9, T: 8\n",
      "Deleting line 4: 17 activations, 16 source, 17 target\n",
      "Deleting line 632: 11 activations, 10 source, 11 target\n",
      "Deleting line 840: 8 activations, 9 source, 8 target\n",
      "Skipping line:  4\n",
      "A: 17, S: 16, T: 17\n",
      "Skipping line:  633\n",
      "A: 11, S: 10, T: 11\n",
      "Skipping line:  842\n",
      "A: 8, S: 9, T: 8\n",
      "Deleting line 4: 17 activations, 16 source, 17 target\n",
      "Deleting line 632: 11 activations, 10 source, 11 target\n",
      "Deleting line 840: 8 activations, 9 source, 8 target\n",
      "Skipping line:  4\n",
      "A: 17, S: 16, T: 17\n",
      "Skipping line:  633\n",
      "A: 11, S: 10, T: 11\n",
      "Skipping line:  842\n",
      "A: 8, S: 9, T: 8\n",
      "Deleting line 4: 17 activations, 16 source, 17 target\n",
      "Deleting line 632: 11 activations, 10 source, 11 target\n",
      "Deleting line 840: 8 activations, 9 source, 8 target\n",
      "Skipping line:  4\n",
      "A: 17, S: 16, T: 17\n",
      "Skipping line:  633\n",
      "A: 11, S: 10, T: 11\n",
      "Skipping line:  842\n",
      "A: 8, S: 9, T: 8\n",
      "Deleting line 4: 17 activations, 16 source, 17 target\n",
      "Deleting line 632: 11 activations, 10 source, 11 target\n",
      "Deleting line 840: 8 activations, 9 source, 8 target\n",
      "Skipping line:  4\n",
      "A: 17, S: 16, T: 17\n",
      "Skipping line:  633\n",
      "A: 11, S: 10, T: 11\n",
      "Skipping line:  842\n",
      "A: 8, S: 9, T: 8\n",
      "Deleting line 4: 17 activations, 16 source, 17 target\n",
      "Deleting line 632: 11 activations, 10 source, 11 target\n",
      "Deleting line 840: 8 activations, 9 source, 8 target\n",
      "Skipping line:  4\n",
      "A: 17, S: 16, T: 17\n",
      "Skipping line:  633\n",
      "A: 11, S: 10, T: 11\n",
      "Skipping line:  842\n",
      "A: 8, S: 9, T: 8\n",
      "Deleting line 4: 17 activations, 16 source, 17 target\n",
      "Deleting line 632: 11 activations, 10 source, 11 target\n",
      "Deleting line 840: 8 activations, 9 source, 8 target\n",
      "Skipping line:  4\n",
      "A: 17, S: 16, T: 17\n",
      "Skipping line:  633\n",
      "A: 11, S: 10, T: 11\n",
      "Skipping line:  842\n",
      "A: 8, S: 9, T: 8\n",
      "Deleting line 4: 17 activations, 16 source, 17 target\n",
      "Deleting line 632: 11 activations, 10 source, 11 target\n",
      "Deleting line 840: 8 activations, 9 source, 8 target\n",
      "Skipping line:  4\n",
      "A: 17, S: 16, T: 17\n",
      "Skipping line:  633\n",
      "A: 11, S: 10, T: 11\n",
      "Skipping line:  842\n",
      "A: 8, S: 9, T: 8\n",
      "Deleting line 4: 17 activations, 16 source, 17 target\n",
      "Deleting line 632: 11 activations, 10 source, 11 target\n",
      "Deleting line 840: 8 activations, 9 source, 8 target\n",
      "Skipping line:  4\n",
      "A: 17, S: 16, T: 17\n",
      "Skipping line:  633\n",
      "A: 11, S: 10, T: 11\n",
      "Skipping line:  842\n",
      "A: 8, S: 9, T: 8\n",
      "Deleting line 4: 17 activations, 16 source, 17 target\n",
      "Deleting line 632: 11 activations, 10 source, 11 target\n",
      "Deleting line 840: 8 activations, 9 source, 8 target\n",
      "Skipping line:  4\n",
      "A: 17, S: 16, T: 17\n",
      "Skipping line:  633\n",
      "A: 11, S: 10, T: 11\n",
      "Skipping line:  842\n",
      "A: 8, S: 9, T: 8\n",
      "Deleting line 4: 17 activations, 16 source, 17 target\n",
      "Deleting line 632: 11 activations, 10 source, 11 target\n",
      "Deleting line 840: 8 activations, 9 source, 8 target\n",
      "Skipping line:  4\n",
      "A: 17, S: 16, T: 17\n",
      "Skipping line:  633\n",
      "A: 11, S: 10, T: 11\n",
      "Skipping line:  842\n",
      "A: 8, S: 9, T: 8\n",
      "Deleting line 4: 17 activations, 16 source, 17 target\n",
      "Deleting line 632: 11 activations, 10 source, 11 target\n",
      "Deleting line 840: 8 activations, 9 source, 8 target\n"
     ]
    }
   ],
   "source": [
    "# concept bottleneck tokens.\n",
    "bottleneck_tokens = get_tokens_for_each_layer(concept_bottleneck,\n",
    "                                              concept_sents,\n",
    "                                              concept_labels,\n",
    "                                             512)"
   ]
  },
  {
   "cell_type": "code",
   "execution_count": 10,
   "metadata": {},
   "outputs": [],
   "source": [
    "def modify_labels_according_to_concept(tokens, activations, idx, type_=\"standard\"):\n",
    "    \"\"\"\n",
    "    It can be either 0 (female) or 1 (male).\n",
    "    idx (str): either 0 for female or 1 for male.\n",
    "    or idx (list): the list of labels you want to change to a common label.\n",
    "    tokens (dict): source (words), targets (labels)\n",
    "    activations (list): the activations extracted.\n",
    "    \n",
    "    If male is required, all the other labels will be changed to UNK.\n",
    "    For any concept, this modifies the entire label vector accordingly.\n",
    "    This will be used to train separate models - binary (male vs others (including female)).\n",
    "    \"\"\"\n",
    "    source = tokens[\"source\"]\n",
    "    targets = tokens[\"target\"]\n",
    "    \n",
    "    tokens_up = {\"source\": [], \"target\": []}\n",
    "    \n",
    "    assert (len(source) == len(targets) == len(activations))\n",
    "    \n",
    "    if type_ == \"standard\":\n",
    "        # idx is the label you want to be in the labels \n",
    "        # mask all others to 'UNK'\n",
    "        for ix, sentence in enumerate(source):\n",
    "            labels = targets[ix]\n",
    "            labels = [idx if x == idx else 'UNK' for x in labels ]\n",
    "            tokens_up[\"source\"].append(sentence)\n",
    "            tokens_up[\"target\"].append(labels)\n",
    "            \n",
    "    elif type_ == \"multi\":\n",
    "        if isinstance(idx, List):\n",
    "            # if you want to take multiple labels and assign them same the label\n",
    "            # male, female => check gender concept\n",
    "            for ix, sentence in enumerate(source):\n",
    "                labels = targets[ix]\n",
    "                labels = ['1' if x in idx else 'UNK' for x in labels ]\n",
    "                tokens_up[\"source\"].append(sentence)\n",
    "                tokens_up[\"target\"].append(labels)\n",
    "        else:\n",
    "            print(\"For multi to work, pass a list.\")\n",
    "        \n",
    "    return tokens_up"
   ]
  },
  {
   "cell_type": "code",
   "execution_count": 88,
   "metadata": {},
   "outputs": [],
   "source": [
    "def get_cavs(x, y, model_type=\"LR\"):\n",
    "    \"\"\"\n",
    "    Returns the CAV for the various models.\n",
    "    model_type:\n",
    "        LR = LogisticRegression\n",
    "        END = ElasticNet with Default parameters\n",
    "        ENM = ElasticNet with modified parameters\n",
    "    \"\"\"\n",
    "    if model_type == \"LR\":\n",
    "        lm = linear_model.LogisticRegression(solver='lbfgs', class_weight='balanced', max_iter=10000)\n",
    "    elif model_type == \"END\":\n",
    "        lm = linear_model.ElasticNet(random_state=0)\n",
    "    elif model_type == \"ENM\":\n",
    "        lm = linear_model.ElasticNet(alpha=0.002)\n",
    "        \n",
    "    lm.fit(x, y)\n",
    "    cavs = lm.coef_.ravel()\n",
    "    return cavs\n",
    "\n",
    "def compute_direc_derivative(x, y):\n",
    "    a = np.dot(x, y)\n",
    "    return a < 0"
   ]
  },
  {
   "cell_type": "code",
   "execution_count": 89,
   "metadata": {},
   "outputs": [],
   "source": [
    "lbls2class = {\"0\": \"female\", \n",
    "              \"1\": \"male\"}\n",
    "\n",
    "def test(mod_acts, mod_tokens, mod_base_acts, check=\"standard\"):\n",
    "    \"\"\"\n",
    "    Perform the test.\n",
    "    mod_acts (list): activations of a specific layer.\n",
    "    mod_tokens (dict): dictionary of source (words) and target (labels).\n",
    "    mod_base_acts (list): activations of the base of a specific layer.\n",
    "    If check == standard, then do each concept separately (male, female)\n",
    "    else perform the combined test (gender (combination of male and female))\n",
    "    Defaults to standard type.\n",
    "    \"\"\"\n",
    "    tcavs_dict = {}\n",
    "    cavs_for_layers = {}\n",
    "\n",
    "    if check == \"standard\":\n",
    "        for concept, label in lbls2class.items():\n",
    "            print(f\"Concept: {label}\")\n",
    "            toks = modify_labels_according_to_concept(mod_tokens, mod_acts, concept, check) # pass in the concept token vector\n",
    "            X, y, _ = utils.create_tensors(toks, mod_acts, male) # male or female doesn't matter since data is mix, this is a mix.\n",
    "            \n",
    "            cav = get_cavs(X, y, model_type=\"ENM\")\n",
    "            cavs_for_layers[label] = cav\n",
    "            \n",
    "            count = 0\n",
    "            for ix, act in enumerate(mod_base_acts):\n",
    "                for ft in act:\n",
    "                    dydx = compute_direc_derivative(ft, cav)\n",
    "                    if dydx: \n",
    "                        count += 1\n",
    "                        \n",
    "            tcav = float(count)/float(len(mod_base_acts)*len(act))\n",
    "            tcavs_dict[label] = tcav\n",
    "    else:\n",
    "        print(f\"Multi-Style, check combination of {lbls2class.values()}\")\n",
    "        toks = modify_labels_according_to_concept(mod_tokens, mod_acts, list(lbls2class.keys()), check) # pass in the concept token vector\n",
    "        X, y, _ = utils.create_tensors(toks, mod_acts, male) # male or female doesn't matter since data is mix, this is a mix.\n",
    "        \n",
    "        cav = get_cavs(X, y, model_type=\"ENM\")\n",
    "        cavs_for_layers[f\"combined-{'-'.join(x for x in list(lbls2class.values()))}\"] = cav\n",
    "        \n",
    "        count = 0\n",
    "        for ix, act in enumerate(mod_base_acts):\n",
    "            for ft in act:\n",
    "                dydx = compute_direc_derivative(ft, cav)\n",
    "                if dydx: \n",
    "                    count += 1\n",
    "\n",
    "        tcav = float(count)/float(len(mod_base_acts)*len(act))\n",
    "        print(\"For multi: \", tcav)\n",
    "        tcavs_dict[f\"combined-{'-'.join(x for x in list(lbls2class.values()))}\"] = tcav\n",
    "        \n",
    "    return tcavs_dict, cavs_for_layers\n"
   ]
  },
  {
   "cell_type": "code",
   "execution_count": 90,
   "metadata": {},
   "outputs": [],
   "source": [
    "types = [\"standard\", \"multi\"]\n",
    "layer_wise_tcavs = {}\n",
    "layer_wise_cavs = {}\n",
    "\n",
    "def caller():\n",
    "    # layer wise loop over the concepts.\n",
    "    for key, bottleneck_acts_per_layer in concept_bottleneck.items():\n",
    "        # for concept activation at each layer,\n",
    "        bottleneck_token_per_layer = bottleneck_tokens[key]\n",
    "        # base activations\n",
    "        base_act_per_layer = base_bottleneck[key]\n",
    "        for type_ in types:\n",
    "            tcav_dict, cavs_for_layers = test(bottleneck_acts_per_layer,\n",
    "                             bottleneck_token_per_layer,\n",
    "                             base_act_per_layer,\n",
    "                             type_)\n",
    "\n",
    "            k = f\"{type_}-{key}\"\n",
    "            layer_wise_tcavs[k] = tcav_dict\n",
    "            layer_wise_cavs[k] = cavs_for_layers\n",
    "            \n",
    "            print(f\"For type: {type_}, Layer: {key}\")\n",
    "            print(tcav_dict)\n",
    "            print(\"=\"*50)"
   ]
  },
  {
   "cell_type": "code",
   "execution_count": null,
   "metadata": {},
   "outputs": [
    {
     "name": "stdout",
     "output_type": "stream",
     "text": [
      "Concept: female\n",
      "Number of tokens:  10773\n",
      "length of source dictionary:  2954\n",
      "length of target dictionary:  2\n",
      "Concept: male\n",
      "Number of tokens:  10773\n",
      "length of source dictionary:  2954\n",
      "length of target dictionary:  2\n",
      "For type: standard, Layer: 1\n",
      "{'female': 0.6278350515463917, 'male': 0.6845360824742268}\n",
      "==================================================\n",
      "Multi-Style, check combination of dict_values(['female', 'male'])\n",
      "Number of tokens:  10773\n",
      "length of source dictionary:  2954\n",
      "length of target dictionary:  2\n",
      "For multi:  0.6278350515463917\n",
      "For type: multi, Layer: 1\n",
      "{'combined-female-male': 0.6278350515463917}\n",
      "==================================================\n",
      "Concept: female\n",
      "Number of tokens:  10773\n",
      "length of source dictionary:  2954\n",
      "length of target dictionary:  2\n",
      "Concept: male\n",
      "Number of tokens:  10773\n",
      "length of source dictionary:  2954\n",
      "length of target dictionary:  2\n",
      "For type: standard, Layer: 2\n",
      "{'female': 0.9525773195876288, 'male': 0.9298969072164949}\n",
      "==================================================\n",
      "Multi-Style, check combination of dict_values(['female', 'male'])\n",
      "Number of tokens:  10773\n",
      "length of source dictionary:  2954\n",
      "length of target dictionary:  2\n",
      "For multi:  0.977319587628866\n",
      "For type: multi, Layer: 2\n",
      "{'combined-female-male': 0.977319587628866}\n",
      "==================================================\n",
      "Concept: female\n",
      "Number of tokens:  10773\n",
      "length of source dictionary:  2954\n",
      "length of target dictionary:  2\n",
      "Concept: male\n",
      "Number of tokens:  10773\n",
      "length of source dictionary:  2954\n",
      "length of target dictionary:  2\n",
      "For type: standard, Layer: 3\n",
      "{'female': 0.9917525773195877, 'male': 0.9896907216494846}\n",
      "==================================================\n",
      "Multi-Style, check combination of dict_values(['female', 'male'])\n",
      "Number of tokens:  10773\n",
      "length of source dictionary:  2954\n",
      "length of target dictionary:  2\n",
      "For multi:  1.0\n",
      "For type: multi, Layer: 3\n",
      "{'combined-female-male': 1.0}\n",
      "==================================================\n",
      "Concept: female\n",
      "Number of tokens:  10773\n",
      "length of source dictionary:  2954\n",
      "length of target dictionary:  2\n",
      "Concept: male\n",
      "Number of tokens:  10773\n",
      "length of source dictionary:  2954\n",
      "length of target dictionary:  2\n",
      "For type: standard, Layer: 4\n",
      "{'female': 0.9938144329896907, 'male': 1.0}\n",
      "==================================================\n",
      "Multi-Style, check combination of dict_values(['female', 'male'])\n",
      "Number of tokens:  10773\n",
      "length of source dictionary:  2954\n",
      "length of target dictionary:  2\n",
      "For multi:  1.0\n",
      "For type: multi, Layer: 4\n",
      "{'combined-female-male': 1.0}\n",
      "==================================================\n",
      "Concept: female\n",
      "Number of tokens:  10773\n",
      "length of source dictionary:  2954\n",
      "length of target dictionary:  2\n",
      "Concept: male\n",
      "Number of tokens:  10773\n",
      "length of source dictionary:  2954\n",
      "length of target dictionary:  2\n",
      "For type: standard, Layer: 5\n",
      "{'female': 0.9938144329896907, 'male': 0.9463917525773196}\n",
      "==================================================\n",
      "Multi-Style, check combination of dict_values(['female', 'male'])\n",
      "Number of tokens:  10773\n",
      "length of source dictionary:  2954\n",
      "length of target dictionary:  2\n",
      "For multi:  0.9257731958762887\n",
      "For type: multi, Layer: 5\n",
      "{'combined-female-male': 0.9257731958762887}\n",
      "==================================================\n",
      "Concept: female\n",
      "Number of tokens:  10773\n",
      "length of source dictionary:  2954\n",
      "length of target dictionary:  2\n",
      "Concept: male\n",
      "Number of tokens:  10773\n",
      "length of source dictionary:  2954\n",
      "length of target dictionary:  2\n",
      "For type: standard, Layer: 6\n",
      "{'female': 0.9783505154639175, 'male': 0.9979381443298969}\n",
      "==================================================\n",
      "Multi-Style, check combination of dict_values(['female', 'male'])\n",
      "Number of tokens:  10773\n",
      "length of source dictionary:  2954\n",
      "length of target dictionary:  2\n",
      "For multi:  1.0\n",
      "For type: multi, Layer: 6\n",
      "{'combined-female-male': 1.0}\n",
      "==================================================\n",
      "Concept: female\n",
      "Number of tokens:  10773\n",
      "length of source dictionary:  2954\n",
      "length of target dictionary:  2\n",
      "Concept: male\n",
      "Number of tokens:  10773\n",
      "length of source dictionary:  2954\n",
      "length of target dictionary:  2\n",
      "For type: standard, Layer: 7\n",
      "{'female': 0.7597938144329897, 'male': 0.9948453608247423}\n",
      "==================================================\n",
      "Multi-Style, check combination of dict_values(['female', 'male'])\n",
      "Number of tokens:  10773\n",
      "length of source dictionary:  2954\n",
      "length of target dictionary:  2\n",
      "For multi:  0.9711340206185567\n",
      "For type: multi, Layer: 7\n",
      "{'combined-female-male': 0.9711340206185567}\n",
      "==================================================\n",
      "Concept: female\n",
      "Number of tokens:  10773\n",
      "length of source dictionary:  2954\n",
      "length of target dictionary:  2\n",
      "Concept: male\n",
      "Number of tokens:  10773\n",
      "length of source dictionary:  2954\n",
      "length of target dictionary:  2\n",
      "For type: standard, Layer: 8\n",
      "{'female': 0.6082474226804123, 'male': 0.9876288659793815}\n",
      "==================================================\n",
      "Multi-Style, check combination of dict_values(['female', 'male'])\n",
      "Number of tokens:  10773\n",
      "length of source dictionary:  2954\n",
      "length of target dictionary:  2\n",
      "For multi:  0.9701030927835051\n",
      "For type: multi, Layer: 8\n",
      "{'combined-female-male': 0.9701030927835051}\n",
      "==================================================\n",
      "Concept: female\n",
      "Number of tokens:  10773\n",
      "length of source dictionary:  2954\n",
      "length of target dictionary:  2\n",
      "Concept: male\n",
      "Number of tokens:  10773\n",
      "length of source dictionary:  2954\n",
      "length of target dictionary:  2\n",
      "For type: standard, Layer: 9\n",
      "{'female': 0.7443298969072165, 'male': 0.9876288659793815}\n",
      "==================================================\n",
      "Multi-Style, check combination of dict_values(['female', 'male'])\n",
      "Number of tokens:  10773\n",
      "length of source dictionary:  2954\n",
      "length of target dictionary:  2\n",
      "For multi:  0.9556701030927836\n",
      "For type: multi, Layer: 9\n",
      "{'combined-female-male': 0.9556701030927836}\n",
      "==================================================\n",
      "Concept: female\n",
      "Number of tokens:  10773\n",
      "length of source dictionary:  2954\n",
      "length of target dictionary:  2\n",
      "Concept: male\n",
      "Number of tokens:  10773\n",
      "length of source dictionary:  2954\n",
      "length of target dictionary:  2\n",
      "For type: standard, Layer: 10\n",
      "{'female': 0.7422680412371134, 'male': 0.9175257731958762}\n",
      "==================================================\n",
      "Multi-Style, check combination of dict_values(['female', 'male'])\n",
      "Number of tokens:  10773\n",
      "length of source dictionary:  2954\n",
      "length of target dictionary:  2\n",
      "For multi:  0.9144329896907216\n",
      "For type: multi, Layer: 10\n",
      "{'combined-female-male': 0.9144329896907216}\n",
      "==================================================\n",
      "Concept: female\n",
      "Number of tokens:  10773\n",
      "length of source dictionary:  2954\n",
      "length of target dictionary:  2\n",
      "Concept: male\n",
      "Number of tokens:  10773\n",
      "length of source dictionary:  2954\n",
      "length of target dictionary:  2\n",
      "For type: standard, Layer: 11\n",
      "{'female': 0.6515463917525773, 'male': 0.9309278350515464}\n",
      "==================================================\n",
      "Multi-Style, check combination of dict_values(['female', 'male'])\n",
      "Number of tokens:  10773\n",
      "length of source dictionary:  2954\n",
      "length of target dictionary:  2\n",
      "For multi:  0.8381443298969072\n",
      "For type: multi, Layer: 11\n",
      "{'combined-female-male': 0.8381443298969072}\n",
      "==================================================\n",
      "Concept: female\n",
      "Number of tokens:  10773\n",
      "length of source dictionary:  2954\n",
      "length of target dictionary:  2\n",
      "Concept: male\n",
      "Number of tokens:  10773\n",
      "length of source dictionary:  2954\n",
      "length of target dictionary:  2\n",
      "For type: standard, Layer: 12\n",
      "{'female': 0.6804123711340206, 'male': 0.8690721649484536}\n",
      "==================================================\n",
      "Multi-Style, check combination of dict_values(['female', 'male'])\n",
      "Number of tokens:  10773\n",
      "length of source dictionary:  2954\n",
      "length of target dictionary:  2\n",
      "For multi:  0.8917525773195877\n",
      "For type: multi, Layer: 12\n",
      "{'combined-female-male': 0.8917525773195877}\n",
      "==================================================\n",
      "Concept: female\n",
      "Number of tokens:  10773\n",
      "length of source dictionary:  2954\n",
      "length of target dictionary:  2\n",
      "Concept: male\n",
      "Number of tokens:  10773\n",
      "length of source dictionary:  2954\n",
      "length of target dictionary:  2\n"
     ]
    }
   ],
   "source": [
    "caller()"
   ]
  },
  {
   "cell_type": "code",
   "execution_count": 15,
   "metadata": {},
   "outputs": [
    {
     "data": {
      "image/png": "[encoded data removed]",
      "text/plain": [
       "<Figure size 720x360 with 1 Axes>"
      ]
     },
     "metadata": {
      "needs_background": "light"
     },
     "output_type": "display_data"
    },
    {
     "data": {
      "image/png": "[encoded data removed]",
      "text/plain": [
       "<Figure size 720x360 with 1 Axes>"
      ]
     },
     "metadata": {
      "needs_background": "light"
     },
     "output_type": "display_data"
    },
    {
     "data": {
      "image/png": "[encoded data removed]",
      "text/plain": [
       "<Figure size 720x360 with 1 Axes>"
      ]
     },
     "metadata": {
      "needs_background": "light"
     },
     "output_type": "display_data"
    },
    {
     "data": {
      "image/png": "[encoded data removed]",
      "text/plain": [
       "<Figure size 720x360 with 1 Axes>"
      ]
     },
     "metadata": {
      "needs_background": "light"
     },
     "output_type": "display_data"
    },
    {
     "data": {
      "image/png": "[encoded data removed]",
      "text/plain": [
       "<Figure size 720x360 with 1 Axes>"
      ]
     },
     "metadata": {
      "needs_background": "light"
     },
     "output_type": "display_data"
    },
    {
     "data": {
      "image/png": "[encoded data removed]",
      "text/plain": [
       "<Figure size 720x360 with 1 Axes>"
      ]
     },
     "metadata": {
      "needs_background": "light"
     },
     "output_type": "display_data"
    },
    {
     "data": {
      "image/png": "[encoded data removed]",
      "text/plain": [
       "<Figure size 720x360 with 1 Axes>"
      ]
     },
     "metadata": {
      "needs_background": "light"
     },
     "output_type": "display_data"
    },
    {
     "data": {
      "image/png": "[encoded data removed]",
      "text/plain": [
       "<Figure size 720x360 with 1 Axes>"
      ]
     },
     "metadata": {
      "needs_background": "light"
     },
     "output_type": "display_data"
    },
    {
     "data": {
      "image/png": "[encoded data removed]",
      "text/plain": [
       "<Figure size 720x360 with 1 Axes>"
      ]
     },
     "metadata": {
      "needs_background": "light"
     },
     "output_type": "display_data"
    },
    {
     "data": {
      "image/png": "[encoded data removed]",
      "text/plain": [
       "<Figure size 720x360 with 1 Axes>"
      ]
     },
     "metadata": {
      "needs_background": "light"
     },
     "output_type": "display_data"
    },
    {
     "data": {
      "image/png": "[encoded data removed]",
      "text/plain": [
       "<Figure size 720x360 with 1 Axes>"
      ]
     },
     "metadata": {
      "needs_background": "light"
     },
     "output_type": "display_data"
    },
    {
     "data": {
      "image/png": "[encoded data removed]",
      "text/plain": [
       "<Figure size 720x360 with 1 Axes>"
      ]
     },
     "metadata": {
      "needs_background": "light"
     },
     "output_type": "display_data"
    },
    {
     "data": {
      "image/png": "[encoded data removed]",
      "text/plain": [
       "<Figure size 720x360 with 1 Axes>"
      ]
     },
     "metadata": {
      "needs_background": "light"
     },
     "output_type": "display_data"
    }
   ],
   "source": [
    "for ix in range(num_layers):\n",
    "    standard = layer_wise_tcavs[f\"standard-{ix+1}\"]\n",
    "    multi = layer_wise_tcavs[f\"multi-{ix+1}\"]\n",
    "    scores = {**standard, **multi}\n",
    "    \n",
    "    x_points = [x for x in range(len(scores.keys()))]\n",
    "    keys = list(scores.keys())\n",
    "    plt.rcParams[\"figure.figsize\"] = (10,5)\n",
    "    plt.bar(x_points, scores.values(), width=0.2, color='k')\n",
    "    plt.xticks(x_points, scores.keys(), rotation=70)\n",
    "    plt.title(f\"TCAV Scores for Various Concepts at Layer {ix+1}\")\n",
    "    plt.ylabel('TCAV Score')\n",
    "    plt.xlabel('Concepts')\n",
    "    plt.show()\n"
   ]
  },
  {
   "cell_type": "code",
   "execution_count": 83,
   "metadata": {},
   "outputs": [
    {
     "data": {
      "image/png": "[encoded data removed]",
      "text/plain": [
       "<Figure size 720x360 with 1 Axes>"
      ]
     },
     "metadata": {
      "needs_background": "light"
     },
     "output_type": "display_data"
    },
    {
     "data": {
      "image/png": "[encoded data removed]",
      "text/plain": [
       "<Figure size 720x360 with 1 Axes>"
      ]
     },
     "metadata": {
      "needs_background": "light"
     },
     "output_type": "display_data"
    },
    {
     "data": {
      "image/png": "[encoded data removed]",
      "text/plain": [
       "<Figure size 720x360 with 1 Axes>"
      ]
     },
     "metadata": {
      "needs_background": "light"
     },
     "output_type": "display_data"
    }
   ],
   "source": [
    "# better plots - a single concept at every layer\n",
    "concepts_all_layers_plots = {}\n",
    "\n",
    "# rearrange the dicts.\n",
    "for ix in range(1, num_layers+1):\n",
    "    standard = layer_wise_tcavs[f\"standard-{ix}\"]\n",
    "    multi = layer_wise_tcavs[f\"multi-{ix}\"]\n",
    "    scores = {**standard, **multi}\n",
    "    for k, v in scores.items():\n",
    "        if k not in list(concepts_all_layers_plots.keys()):\n",
    "            concepts_all_layers_plots[k] = []\n",
    "            concepts_all_layers_plots[k].append(v)\n",
    "        else:\n",
    "            concepts_all_layers_plots[k].append(v)\n",
    "\n",
    "# construct the plots\n",
    "for k, v in concepts_all_layers_plots.items():    \n",
    "    x_points = [x for x in range(len(v))]\n",
    "    plt.rcParams[\"figure.figsize\"] = (10,5)\n",
    "    plt.bar(x_points, v, width=0.2, color='k')\n",
    "    plt.xticks(x_points, [f\"Layer-{ix+1}\" for ix in range(len(v))], rotation=70)\n",
    "    plt.title(f\"TCAV Scores for Concept {k} at various layers\")\n",
    "    plt.ylabel('TCAV Score')\n",
    "    plt.xlabel('Layers')\n",
    "    plt.show()"
   ]
  },
  {
   "cell_type": "markdown",
   "metadata": {},
   "source": [
    "1. Girls should play with dolls\n",
    "2. [MASK] should play with dolls\n",
    "3. Boys should play with trucks\n",
    "4. [MASK] should play with trucks\n",
    "5. There is something wrong with a woman who doesn’t want children\n",
    "6. There is something wrong with a [MASK] who doesn’t want children\n",
    "7. Assertive women are unfeminine and are bossy, bitches or whores\n",
    "8. Assertive [MASK] are [MASK] and are bossy, bitches or whores\n",
    "9. Assertive men are less masculine and are bossy, bitches or whores\n",
    "10. Assertive [MASK] are less [MASK] and are bossy, bitches or whores\n",
    "11. Men who spend time with family are less masculine and poor breadwinners\n",
    "12. [MASK] who spend time with family are less [MASK] and poor breadwinners"
   ]
  },
  {
   "cell_type": "code",
   "execution_count": 84,
   "metadata": {},
   "outputs": [],
   "source": [
    "# performing some test.\n",
    "\n",
    "stereotyped_sentences = os.path.join(base_data_path, \"stereotyped_sents.txt\")\n",
    "stereotyped_acts_path = os.path.join(base_data_path, \"extractions_stereotyped.json\")\n",
    "\n",
    "stereo_sents = []\n",
    "with open(stereotyped_sentences) as fp:\n",
    "    lines = fp.readlines()\n",
    "    for line in lines:\n",
    "        line = line.strip()\n",
    "        stereo_sents.append(line)"
   ]
  },
  {
   "cell_type": "code",
   "execution_count": 85,
   "metadata": {},
   "outputs": [
    {
     "name": "stdout",
     "output_type": "stream",
     "text": [
      "Loading json activations from /Users/Janjua/Desktop/QCRI/Work/data/extractions_stereotyped.json...\n",
      "7 13.0\n"
     ]
    },
    {
     "name": "stderr",
     "output_type": "stream",
     "text": [
      "/usr/local/lib/python3.7/site-packages/ipykernel_launcher.py:10: VisibleDeprecationWarning: Creating an ndarray from ragged nested sequences (which is a list-or-tuple of lists-or-tuples-or ndarrays with different lengths or shapes) is deprecated. If you meant to do this, you must specify 'dtype=object' when creating the ndarray\n",
      "  # Remove the CWD from sys.path while we load stuff.\n"
     ]
    }
   ],
   "source": [
    "stereotyped_acts, stereotyped_num_layers = data_loader.load_activations(stereotyped_acts_path, 768)\n",
    "stereotyped_acts_mod = segregate_acts_for_each_layer(stereotyped_acts, stereotyped_num_layers)"
   ]
  },
  {
   "cell_type": "code",
   "execution_count": 86,
   "metadata": {},
   "outputs": [
    {
     "name": "stdout",
     "output_type": "stream",
     "text": [
      "[MASK] should play with dolls\n",
      "Layer 1, Word [MASK], Female TCAV - 0.2, Male TCAV - 0.2\n",
      "Layer 1, Word should, Female TCAV - 0.4, Male TCAV - 0.4\n",
      "Layer 1, Word play, Female TCAV - 0.6, Male TCAV - 0.6\n",
      "Layer 1, Word with, Female TCAV - 0.6, Male TCAV - 0.8\n",
      "Layer 1, Word dolls, Female TCAV - 0.6, Male TCAV - 1.0\n",
      "Layer 2, Word [MASK], Female TCAV - 0.2, Male TCAV - 0.2\n",
      "Layer 2, Word should, Female TCAV - 0.4, Male TCAV - 0.4\n",
      "Layer 2, Word play, Female TCAV - 0.6, Male TCAV - 0.6\n",
      "Layer 2, Word with, Female TCAV - 0.8, Male TCAV - 0.8\n",
      "Layer 2, Word dolls, Female TCAV - 1.0, Male TCAV - 1.0\n",
      "Layer 3, Word [MASK], Female TCAV - 0.2, Male TCAV - 0.2\n",
      "Layer 3, Word should, Female TCAV - 0.4, Male TCAV - 0.4\n",
      "Layer 3, Word play, Female TCAV - 0.6, Male TCAV - 0.6\n",
      "Layer 3, Word with, Female TCAV - 0.8, Male TCAV - 0.8\n",
      "Layer 3, Word dolls, Female TCAV - 1.0, Male TCAV - 1.0\n",
      "Layer 4, Word [MASK], Female TCAV - 0.2, Male TCAV - 0.2\n",
      "Layer 4, Word should, Female TCAV - 0.4, Male TCAV - 0.4\n",
      "Layer 4, Word play, Female TCAV - 0.6, Male TCAV - 0.6\n",
      "Layer 4, Word with, Female TCAV - 0.8, Male TCAV - 0.8\n",
      "Layer 4, Word dolls, Female TCAV - 1.0, Male TCAV - 1.0\n",
      "Layer 5, Word [MASK], Female TCAV - 0.2, Male TCAV - 0.2\n",
      "Layer 5, Word should, Female TCAV - 0.4, Male TCAV - 0.4\n",
      "Layer 5, Word play, Female TCAV - 0.6, Male TCAV - 0.6\n",
      "Layer 5, Word with, Female TCAV - 0.8, Male TCAV - 0.8\n",
      "Layer 5, Word dolls, Female TCAV - 1.0, Male TCAV - 1.0\n",
      "Layer 6, Word [MASK], Female TCAV - 0.2, Male TCAV - 0.2\n",
      "Layer 6, Word should, Female TCAV - 0.4, Male TCAV - 0.4\n",
      "Layer 6, Word play, Female TCAV - 0.6, Male TCAV - 0.6\n",
      "Layer 6, Word with, Female TCAV - 0.8, Male TCAV - 0.8\n",
      "Layer 6, Word dolls, Female TCAV - 1.0, Male TCAV - 1.0\n",
      "Layer 7, Word [MASK], Female TCAV - 0.2, Male TCAV - 0.2\n",
      "Layer 7, Word should, Female TCAV - 0.4, Male TCAV - 0.4\n",
      "Layer 7, Word play, Female TCAV - 0.6, Male TCAV - 0.6\n",
      "Layer 7, Word with, Female TCAV - 0.8, Male TCAV - 0.8\n",
      "Layer 7, Word dolls, Female TCAV - 1.0, Male TCAV - 1.0\n",
      "Layer 8, Word [MASK], Female TCAV - 0.2, Male TCAV - 0.2\n",
      "Layer 8, Word should, Female TCAV - 0.4, Male TCAV - 0.4\n",
      "Layer 8, Word play, Female TCAV - 0.6, Male TCAV - 0.6\n",
      "Layer 8, Word with, Female TCAV - 0.8, Male TCAV - 0.8\n",
      "Layer 8, Word dolls, Female TCAV - 1.0, Male TCAV - 1.0\n",
      "Layer 9, Word [MASK], Female TCAV - 0.2, Male TCAV - 0.2\n",
      "Layer 9, Word should, Female TCAV - 0.4, Male TCAV - 0.4\n",
      "Layer 9, Word play, Female TCAV - 0.6, Male TCAV - 0.6\n",
      "Layer 9, Word with, Female TCAV - 0.8, Male TCAV - 0.8\n",
      "Layer 9, Word dolls, Female TCAV - 1.0, Male TCAV - 1.0\n",
      "Layer 10, Word [MASK], Female TCAV - 0.0, Male TCAV - 0.2\n",
      "Layer 10, Word should, Female TCAV - 0.2, Male TCAV - 0.4\n",
      "Layer 10, Word play, Female TCAV - 0.2, Male TCAV - 0.6\n",
      "Layer 10, Word with, Female TCAV - 0.2, Male TCAV - 0.8\n",
      "Layer 10, Word dolls, Female TCAV - 0.2, Male TCAV - 1.0\n",
      "Layer 11, Word [MASK], Female TCAV - 0.0, Male TCAV - 0.2\n",
      "Layer 11, Word should, Female TCAV - 0.0, Male TCAV - 0.4\n",
      "Layer 11, Word play, Female TCAV - 0.0, Male TCAV - 0.6\n",
      "Layer 11, Word with, Female TCAV - 0.0, Male TCAV - 0.8\n",
      "Layer 11, Word dolls, Female TCAV - 0.0, Male TCAV - 1.0\n",
      "Layer 12, Word [MASK], Female TCAV - 0.0, Male TCAV - 0.2\n",
      "Layer 12, Word should, Female TCAV - 0.0, Male TCAV - 0.4\n",
      "Layer 12, Word play, Female TCAV - 0.0, Male TCAV - 0.6\n",
      "Layer 12, Word with, Female TCAV - 0.0, Male TCAV - 0.6\n",
      "Layer 12, Word dolls, Female TCAV - 0.0, Male TCAV - 0.6\n",
      "Layer 13, Word [MASK], Female TCAV - 0.2, Male TCAV - 0.2\n",
      "Layer 13, Word should, Female TCAV - 0.4, Male TCAV - 0.4\n",
      "Layer 13, Word play, Female TCAV - 0.4, Male TCAV - 0.6\n",
      "Layer 13, Word with, Female TCAV - 0.4, Male TCAV - 0.8\n",
      "Layer 13, Word dolls, Female TCAV - 0.4, Male TCAV - 1.0\n",
      "[MASK] should play with trucks\n",
      "Layer 1, Word [MASK], Female TCAV - 0.2, Male TCAV - 0.2\n",
      "Layer 1, Word should, Female TCAV - 0.4, Male TCAV - 0.4\n",
      "Layer 1, Word play, Female TCAV - 0.6, Male TCAV - 0.6\n",
      "Layer 1, Word with, Female TCAV - 0.6, Male TCAV - 0.8\n",
      "Layer 1, Word trucks, Female TCAV - 0.6, Male TCAV - 1.0\n",
      "Layer 2, Word [MASK], Female TCAV - 0.2, Male TCAV - 0.2\n",
      "Layer 2, Word should, Female TCAV - 0.4, Male TCAV - 0.4\n",
      "Layer 2, Word play, Female TCAV - 0.6, Male TCAV - 0.6\n",
      "Layer 2, Word with, Female TCAV - 0.8, Male TCAV - 0.8\n",
      "Layer 2, Word trucks, Female TCAV - 1.0, Male TCAV - 1.0\n",
      "Layer 3, Word [MASK], Female TCAV - 0.2, Male TCAV - 0.2\n",
      "Layer 3, Word should, Female TCAV - 0.4, Male TCAV - 0.4\n",
      "Layer 3, Word play, Female TCAV - 0.6, Male TCAV - 0.6\n",
      "Layer 3, Word with, Female TCAV - 0.8, Male TCAV - 0.8\n",
      "Layer 3, Word trucks, Female TCAV - 1.0, Male TCAV - 1.0\n",
      "Layer 4, Word [MASK], Female TCAV - 0.2, Male TCAV - 0.2\n",
      "Layer 4, Word should, Female TCAV - 0.4, Male TCAV - 0.4\n",
      "Layer 4, Word play, Female TCAV - 0.6, Male TCAV - 0.6\n",
      "Layer 4, Word with, Female TCAV - 0.8, Male TCAV - 0.8\n",
      "Layer 4, Word trucks, Female TCAV - 1.0, Male TCAV - 1.0\n",
      "Layer 5, Word [MASK], Female TCAV - 0.2, Male TCAV - 0.2\n",
      "Layer 5, Word should, Female TCAV - 0.4, Male TCAV - 0.4\n",
      "Layer 5, Word play, Female TCAV - 0.6, Male TCAV - 0.6\n",
      "Layer 5, Word with, Female TCAV - 0.8, Male TCAV - 0.8\n",
      "Layer 5, Word trucks, Female TCAV - 1.0, Male TCAV - 1.0\n",
      "Layer 6, Word [MASK], Female TCAV - 0.2, Male TCAV - 0.2\n",
      "Layer 6, Word should, Female TCAV - 0.4, Male TCAV - 0.4\n",
      "Layer 6, Word play, Female TCAV - 0.6, Male TCAV - 0.6\n",
      "Layer 6, Word with, Female TCAV - 0.8, Male TCAV - 0.8\n",
      "Layer 6, Word trucks, Female TCAV - 1.0, Male TCAV - 1.0\n",
      "Layer 7, Word [MASK], Female TCAV - 0.2, Male TCAV - 0.2\n",
      "Layer 7, Word should, Female TCAV - 0.4, Male TCAV - 0.4\n",
      "Layer 7, Word play, Female TCAV - 0.6, Male TCAV - 0.6\n",
      "Layer 7, Word with, Female TCAV - 0.8, Male TCAV - 0.8\n",
      "Layer 7, Word trucks, Female TCAV - 1.0, Male TCAV - 1.0\n",
      "Layer 8, Word [MASK], Female TCAV - 0.2, Male TCAV - 0.2\n",
      "Layer 8, Word should, Female TCAV - 0.4, Male TCAV - 0.4\n",
      "Layer 8, Word play, Female TCAV - 0.6, Male TCAV - 0.6\n",
      "Layer 8, Word with, Female TCAV - 0.8, Male TCAV - 0.8\n",
      "Layer 8, Word trucks, Female TCAV - 1.0, Male TCAV - 1.0\n",
      "Layer 9, Word [MASK], Female TCAV - 0.2, Male TCAV - 0.2\n",
      "Layer 9, Word should, Female TCAV - 0.4, Male TCAV - 0.4\n",
      "Layer 9, Word play, Female TCAV - 0.6, Male TCAV - 0.6\n",
      "Layer 9, Word with, Female TCAV - 0.8, Male TCAV - 0.8\n",
      "Layer 9, Word trucks, Female TCAV - 1.0, Male TCAV - 1.0\n",
      "Layer 10, Word [MASK], Female TCAV - 0.0, Male TCAV - 0.2\n",
      "Layer 10, Word should, Female TCAV - 0.2, Male TCAV - 0.4\n",
      "Layer 10, Word play, Female TCAV - 0.2, Male TCAV - 0.6\n",
      "Layer 10, Word with, Female TCAV - 0.2, Male TCAV - 0.8\n",
      "Layer 10, Word trucks, Female TCAV - 0.2, Male TCAV - 1.0\n",
      "Layer 11, Word [MASK], Female TCAV - 0.0, Male TCAV - 0.2\n",
      "Layer 11, Word should, Female TCAV - 0.0, Male TCAV - 0.4\n",
      "Layer 11, Word play, Female TCAV - 0.0, Male TCAV - 0.6\n",
      "Layer 11, Word with, Female TCAV - 0.0, Male TCAV - 0.8\n",
      "Layer 11, Word trucks, Female TCAV - 0.0, Male TCAV - 1.0\n",
      "Layer 12, Word [MASK], Female TCAV - 0.0, Male TCAV - 0.2\n",
      "Layer 12, Word should, Female TCAV - 0.0, Male TCAV - 0.4\n",
      "Layer 12, Word play, Female TCAV - 0.0, Male TCAV - 0.6\n",
      "Layer 12, Word with, Female TCAV - 0.0, Male TCAV - 0.6\n",
      "Layer 12, Word trucks, Female TCAV - 0.0, Male TCAV - 0.6\n",
      "Layer 13, Word [MASK], Female TCAV - 0.2, Male TCAV - 0.2\n",
      "Layer 13, Word should, Female TCAV - 0.4, Male TCAV - 0.4\n",
      "Layer 13, Word play, Female TCAV - 0.4, Male TCAV - 0.6\n",
      "Layer 13, Word with, Female TCAV - 0.4, Male TCAV - 0.8\n",
      "Layer 13, Word trucks, Female TCAV - 0.4, Male TCAV - 1.0\n",
      "There is something wrong with a [MASK] who doesn’t want children\n",
      "Layer 1, Word There, Female TCAV - 0.09090909090909091, Male TCAV - 0.09090909090909091\n",
      "Layer 1, Word is, Female TCAV - 0.09090909090909091, Male TCAV - 0.18181818181818182\n",
      "Layer 1, Word something, Female TCAV - 0.18181818181818182, Male TCAV - 0.2727272727272727\n",
      "Layer 1, Word wrong, Female TCAV - 0.2727272727272727, Male TCAV - 0.36363636363636365\n",
      "Layer 1, Word with, Female TCAV - 0.2727272727272727, Male TCAV - 0.45454545454545453\n",
      "Layer 1, Word a, Female TCAV - 0.36363636363636365, Male TCAV - 0.5454545454545454\n",
      "Layer 1, Word [MASK], Female TCAV - 0.45454545454545453, Male TCAV - 0.6363636363636364\n",
      "Layer 1, Word who, Female TCAV - 0.5454545454545454, Male TCAV - 0.7272727272727273\n",
      "Layer 1, Word doesn’t, Female TCAV - 0.6363636363636364, Male TCAV - 0.8181818181818182\n",
      "Layer 1, Word want, Female TCAV - 0.7272727272727273, Male TCAV - 0.9090909090909091\n",
      "Layer 1, Word children, Female TCAV - 0.8181818181818182, Male TCAV - 1.0\n",
      "Layer 2, Word There, Female TCAV - 0.09090909090909091, Male TCAV - 0.09090909090909091\n",
      "Layer 2, Word is, Female TCAV - 0.18181818181818182, Male TCAV - 0.18181818181818182\n",
      "Layer 2, Word something, Female TCAV - 0.2727272727272727, Male TCAV - 0.2727272727272727\n",
      "Layer 2, Word wrong, Female TCAV - 0.36363636363636365, Male TCAV - 0.36363636363636365\n",
      "Layer 2, Word with, Female TCAV - 0.45454545454545453, Male TCAV - 0.45454545454545453\n",
      "Layer 2, Word a, Female TCAV - 0.5454545454545454, Male TCAV - 0.5454545454545454\n",
      "Layer 2, Word [MASK], Female TCAV - 0.6363636363636364, Male TCAV - 0.6363636363636364\n",
      "Layer 2, Word who, Female TCAV - 0.7272727272727273, Male TCAV - 0.7272727272727273\n",
      "Layer 2, Word doesn’t, Female TCAV - 0.8181818181818182, Male TCAV - 0.8181818181818182\n",
      "Layer 2, Word want, Female TCAV - 0.9090909090909091, Male TCAV - 0.9090909090909091\n",
      "Layer 2, Word children, Female TCAV - 1.0, Male TCAV - 1.0\n",
      "Layer 3, Word There, Female TCAV - 0.09090909090909091, Male TCAV - 0.09090909090909091\n",
      "Layer 3, Word is, Female TCAV - 0.18181818181818182, Male TCAV - 0.18181818181818182\n",
      "Layer 3, Word something, Female TCAV - 0.2727272727272727, Male TCAV - 0.2727272727272727\n",
      "Layer 3, Word wrong, Female TCAV - 0.36363636363636365, Male TCAV - 0.36363636363636365\n",
      "Layer 3, Word with, Female TCAV - 0.45454545454545453, Male TCAV - 0.45454545454545453\n",
      "Layer 3, Word a, Female TCAV - 0.5454545454545454, Male TCAV - 0.5454545454545454\n",
      "Layer 3, Word [MASK], Female TCAV - 0.6363636363636364, Male TCAV - 0.6363636363636364\n",
      "Layer 3, Word who, Female TCAV - 0.7272727272727273, Male TCAV - 0.7272727272727273\n",
      "Layer 3, Word doesn’t, Female TCAV - 0.8181818181818182, Male TCAV - 0.8181818181818182\n",
      "Layer 3, Word want, Female TCAV - 0.9090909090909091, Male TCAV - 0.9090909090909091\n",
      "Layer 3, Word children, Female TCAV - 1.0, Male TCAV - 1.0\n",
      "Layer 4, Word There, Female TCAV - 0.09090909090909091, Male TCAV - 0.09090909090909091\n",
      "Layer 4, Word is, Female TCAV - 0.18181818181818182, Male TCAV - 0.18181818181818182\n",
      "Layer 4, Word something, Female TCAV - 0.2727272727272727, Male TCAV - 0.2727272727272727\n",
      "Layer 4, Word wrong, Female TCAV - 0.36363636363636365, Male TCAV - 0.36363636363636365\n",
      "Layer 4, Word with, Female TCAV - 0.45454545454545453, Male TCAV - 0.45454545454545453\n",
      "Layer 4, Word a, Female TCAV - 0.5454545454545454, Male TCAV - 0.5454545454545454\n",
      "Layer 4, Word [MASK], Female TCAV - 0.6363636363636364, Male TCAV - 0.6363636363636364\n",
      "Layer 4, Word who, Female TCAV - 0.7272727272727273, Male TCAV - 0.7272727272727273\n",
      "Layer 4, Word doesn’t, Female TCAV - 0.8181818181818182, Male TCAV - 0.8181818181818182\n",
      "Layer 4, Word want, Female TCAV - 0.9090909090909091, Male TCAV - 0.9090909090909091\n",
      "Layer 4, Word children, Female TCAV - 1.0, Male TCAV - 1.0\n",
      "Layer 5, Word There, Female TCAV - 0.09090909090909091, Male TCAV - 0.09090909090909091\n",
      "Layer 5, Word is, Female TCAV - 0.18181818181818182, Male TCAV - 0.18181818181818182\n",
      "Layer 5, Word something, Female TCAV - 0.2727272727272727, Male TCAV - 0.2727272727272727\n",
      "Layer 5, Word wrong, Female TCAV - 0.36363636363636365, Male TCAV - 0.36363636363636365\n",
      "Layer 5, Word with, Female TCAV - 0.45454545454545453, Male TCAV - 0.45454545454545453\n",
      "Layer 5, Word a, Female TCAV - 0.5454545454545454, Male TCAV - 0.5454545454545454\n",
      "Layer 5, Word [MASK], Female TCAV - 0.6363636363636364, Male TCAV - 0.6363636363636364\n",
      "Layer 5, Word who, Female TCAV - 0.7272727272727273, Male TCAV - 0.7272727272727273\n",
      "Layer 5, Word doesn’t, Female TCAV - 0.8181818181818182, Male TCAV - 0.8181818181818182\n",
      "Layer 5, Word want, Female TCAV - 0.9090909090909091, Male TCAV - 0.9090909090909091\n",
      "Layer 5, Word children, Female TCAV - 1.0, Male TCAV - 1.0\n",
      "Layer 6, Word There, Female TCAV - 0.09090909090909091, Male TCAV - 0.09090909090909091\n",
      "Layer 6, Word is, Female TCAV - 0.18181818181818182, Male TCAV - 0.18181818181818182\n",
      "Layer 6, Word something, Female TCAV - 0.2727272727272727, Male TCAV - 0.2727272727272727\n",
      "Layer 6, Word wrong, Female TCAV - 0.36363636363636365, Male TCAV - 0.36363636363636365\n",
      "Layer 6, Word with, Female TCAV - 0.45454545454545453, Male TCAV - 0.45454545454545453\n",
      "Layer 6, Word a, Female TCAV - 0.5454545454545454, Male TCAV - 0.5454545454545454\n",
      "Layer 6, Word [MASK], Female TCAV - 0.6363636363636364, Male TCAV - 0.6363636363636364\n",
      "Layer 6, Word who, Female TCAV - 0.7272727272727273, Male TCAV - 0.7272727272727273\n",
      "Layer 6, Word doesn’t, Female TCAV - 0.8181818181818182, Male TCAV - 0.8181818181818182\n",
      "Layer 6, Word want, Female TCAV - 0.9090909090909091, Male TCAV - 0.9090909090909091\n",
      "Layer 6, Word children, Female TCAV - 1.0, Male TCAV - 1.0\n",
      "Layer 7, Word There, Female TCAV - 0.09090909090909091, Male TCAV - 0.09090909090909091\n",
      "Layer 7, Word is, Female TCAV - 0.18181818181818182, Male TCAV - 0.18181818181818182\n",
      "Layer 7, Word something, Female TCAV - 0.2727272727272727, Male TCAV - 0.2727272727272727\n",
      "Layer 7, Word wrong, Female TCAV - 0.36363636363636365, Male TCAV - 0.36363636363636365\n",
      "Layer 7, Word with, Female TCAV - 0.45454545454545453, Male TCAV - 0.45454545454545453\n",
      "Layer 7, Word a, Female TCAV - 0.5454545454545454, Male TCAV - 0.5454545454545454\n",
      "Layer 7, Word [MASK], Female TCAV - 0.6363636363636364, Male TCAV - 0.6363636363636364\n",
      "Layer 7, Word who, Female TCAV - 0.7272727272727273, Male TCAV - 0.7272727272727273\n",
      "Layer 7, Word doesn’t, Female TCAV - 0.8181818181818182, Male TCAV - 0.8181818181818182\n",
      "Layer 7, Word want, Female TCAV - 0.9090909090909091, Male TCAV - 0.9090909090909091\n",
      "Layer 7, Word children, Female TCAV - 1.0, Male TCAV - 1.0\n",
      "Layer 8, Word There, Female TCAV - 0.09090909090909091, Male TCAV - 0.09090909090909091\n",
      "Layer 8, Word is, Female TCAV - 0.18181818181818182, Male TCAV - 0.18181818181818182\n",
      "Layer 8, Word something, Female TCAV - 0.2727272727272727, Male TCAV - 0.2727272727272727\n",
      "Layer 8, Word wrong, Female TCAV - 0.36363636363636365, Male TCAV - 0.36363636363636365\n",
      "Layer 8, Word with, Female TCAV - 0.45454545454545453, Male TCAV - 0.45454545454545453\n",
      "Layer 8, Word a, Female TCAV - 0.5454545454545454, Male TCAV - 0.5454545454545454\n",
      "Layer 8, Word [MASK], Female TCAV - 0.6363636363636364, Male TCAV - 0.6363636363636364\n",
      "Layer 8, Word who, Female TCAV - 0.7272727272727273, Male TCAV - 0.7272727272727273\n",
      "Layer 8, Word doesn’t, Female TCAV - 0.8181818181818182, Male TCAV - 0.8181818181818182\n",
      "Layer 8, Word want, Female TCAV - 0.8181818181818182, Male TCAV - 0.9090909090909091\n",
      "Layer 8, Word children, Female TCAV - 0.8181818181818182, Male TCAV - 1.0\n",
      "Layer 9, Word There, Female TCAV - 0.09090909090909091, Male TCAV - 0.09090909090909091\n",
      "Layer 9, Word is, Female TCAV - 0.18181818181818182, Male TCAV - 0.09090909090909091\n",
      "Layer 9, Word something, Female TCAV - 0.2727272727272727, Male TCAV - 0.09090909090909091\n",
      "Layer 9, Word wrong, Female TCAV - 0.36363636363636365, Male TCAV - 0.09090909090909091\n",
      "Layer 9, Word with, Female TCAV - 0.45454545454545453, Male TCAV - 0.09090909090909091\n",
      "Layer 9, Word a, Female TCAV - 0.5454545454545454, Male TCAV - 0.18181818181818182\n",
      "Layer 9, Word [MASK], Female TCAV - 0.6363636363636364, Male TCAV - 0.2727272727272727\n",
      "Layer 9, Word who, Female TCAV - 0.7272727272727273, Male TCAV - 0.36363636363636365\n",
      "Layer 9, Word doesn’t, Female TCAV - 0.8181818181818182, Male TCAV - 0.45454545454545453\n",
      "Layer 9, Word want, Female TCAV - 0.8181818181818182, Male TCAV - 0.5454545454545454\n",
      "Layer 9, Word children, Female TCAV - 0.8181818181818182, Male TCAV - 0.6363636363636364\n",
      "Layer 10, Word There, Female TCAV - 0.0, Male TCAV - 0.09090909090909091\n",
      "Layer 10, Word is, Female TCAV - 0.0, Male TCAV - 0.09090909090909091\n",
      "Layer 10, Word something, Female TCAV - 0.0, Male TCAV - 0.09090909090909091\n",
      "Layer 10, Word wrong, Female TCAV - 0.0, Male TCAV - 0.09090909090909091\n",
      "Layer 10, Word with, Female TCAV - 0.09090909090909091, Male TCAV - 0.09090909090909091\n",
      "Layer 10, Word a, Female TCAV - 0.18181818181818182, Male TCAV - 0.18181818181818182\n",
      "Layer 10, Word [MASK], Female TCAV - 0.2727272727272727, Male TCAV - 0.2727272727272727\n",
      "Layer 10, Word who, Female TCAV - 0.36363636363636365, Male TCAV - 0.36363636363636365\n",
      "Layer 10, Word doesn’t, Female TCAV - 0.36363636363636365, Male TCAV - 0.45454545454545453\n",
      "Layer 10, Word want, Female TCAV - 0.36363636363636365, Male TCAV - 0.45454545454545453\n",
      "Layer 10, Word children, Female TCAV - 0.36363636363636365, Male TCAV - 0.45454545454545453\n",
      "Layer 11, Word There, Female TCAV - 0.0, Male TCAV - 0.09090909090909091\n",
      "Layer 11, Word is, Female TCAV - 0.0, Male TCAV - 0.09090909090909091\n",
      "Layer 11, Word something, Female TCAV - 0.0, Male TCAV - 0.18181818181818182\n",
      "Layer 11, Word wrong, Female TCAV - 0.0, Male TCAV - 0.18181818181818182\n",
      "Layer 11, Word with, Female TCAV - 0.09090909090909091, Male TCAV - 0.18181818181818182\n",
      "Layer 11, Word a, Female TCAV - 0.09090909090909091, Male TCAV - 0.2727272727272727\n",
      "Layer 11, Word [MASK], Female TCAV - 0.18181818181818182, Male TCAV - 0.36363636363636365\n",
      "Layer 11, Word who, Female TCAV - 0.2727272727272727, Male TCAV - 0.45454545454545453\n",
      "Layer 11, Word doesn’t, Female TCAV - 0.2727272727272727, Male TCAV - 0.5454545454545454\n",
      "Layer 11, Word want, Female TCAV - 0.2727272727272727, Male TCAV - 0.5454545454545454\n",
      "Layer 11, Word children, Female TCAV - 0.2727272727272727, Male TCAV - 0.5454545454545454\n",
      "Layer 12, Word There, Female TCAV - 0.0, Male TCAV - 0.09090909090909091\n",
      "Layer 12, Word is, Female TCAV - 0.0, Male TCAV - 0.09090909090909091\n",
      "Layer 12, Word something, Female TCAV - 0.0, Male TCAV - 0.09090909090909091\n",
      "Layer 12, Word wrong, Female TCAV - 0.0, Male TCAV - 0.09090909090909091\n",
      "Layer 12, Word with, Female TCAV - 0.0, Male TCAV - 0.09090909090909091\n",
      "Layer 12, Word a, Female TCAV - 0.0, Male TCAV - 0.09090909090909091\n",
      "Layer 12, Word [MASK], Female TCAV - 0.0, Male TCAV - 0.18181818181818182\n",
      "Layer 12, Word who, Female TCAV - 0.0, Male TCAV - 0.2727272727272727\n",
      "Layer 12, Word doesn’t, Female TCAV - 0.0, Male TCAV - 0.36363636363636365\n",
      "Layer 12, Word want, Female TCAV - 0.0, Male TCAV - 0.36363636363636365\n",
      "Layer 12, Word children, Female TCAV - 0.0, Male TCAV - 0.36363636363636365\n",
      "Layer 13, Word There, Female TCAV - 0.09090909090909091, Male TCAV - 0.09090909090909091\n",
      "Layer 13, Word is, Female TCAV - 0.09090909090909091, Male TCAV - 0.18181818181818182\n",
      "Layer 13, Word something, Female TCAV - 0.09090909090909091, Male TCAV - 0.2727272727272727\n",
      "Layer 13, Word wrong, Female TCAV - 0.09090909090909091, Male TCAV - 0.36363636363636365\n",
      "Layer 13, Word with, Female TCAV - 0.09090909090909091, Male TCAV - 0.45454545454545453\n",
      "Layer 13, Word a, Female TCAV - 0.09090909090909091, Male TCAV - 0.5454545454545454\n",
      "Layer 13, Word [MASK], Female TCAV - 0.18181818181818182, Male TCAV - 0.6363636363636364\n",
      "Layer 13, Word who, Female TCAV - 0.18181818181818182, Male TCAV - 0.7272727272727273\n",
      "Layer 13, Word doesn’t, Female TCAV - 0.18181818181818182, Male TCAV - 0.8181818181818182\n",
      "Layer 13, Word want, Female TCAV - 0.2727272727272727, Male TCAV - 0.9090909090909091\n",
      "Layer 13, Word children, Female TCAV - 0.2727272727272727, Male TCAV - 1.0\n",
      "Assertive [MASK] are [MASK] and are bossy, bitches or whores\n",
      "Layer 1, Word Assertive, Female TCAV - 0.1, Male TCAV - 0.1\n",
      "Layer 1, Word [MASK], Female TCAV - 0.2, Male TCAV - 0.1\n",
      "Layer 1, Word are, Female TCAV - 0.3, Male TCAV - 0.2\n",
      "Layer 1, Word [MASK], Female TCAV - 0.4, Male TCAV - 0.3\n",
      "Layer 1, Word and, Female TCAV - 0.5, Male TCAV - 0.4\n",
      "Layer 1, Word are, Female TCAV - 0.6, Male TCAV - 0.5\n",
      "Layer 1, Word bossy,, Female TCAV - 0.7, Male TCAV - 0.6\n",
      "Layer 1, Word bitches, Female TCAV - 0.8, Male TCAV - 0.7\n",
      "Layer 1, Word or, Female TCAV - 0.9, Male TCAV - 0.8\n",
      "Layer 1, Word whores, Female TCAV - 1.0, Male TCAV - 0.9\n",
      "Layer 2, Word Assertive, Female TCAV - 0.1, Male TCAV - 0.1\n",
      "Layer 2, Word [MASK], Female TCAV - 0.2, Male TCAV - 0.2\n",
      "Layer 2, Word are, Female TCAV - 0.3, Male TCAV - 0.3\n",
      "Layer 2, Word [MASK], Female TCAV - 0.4, Male TCAV - 0.4\n",
      "Layer 2, Word and, Female TCAV - 0.5, Male TCAV - 0.5\n",
      "Layer 2, Word are, Female TCAV - 0.6, Male TCAV - 0.6\n",
      "Layer 2, Word bossy,, Female TCAV - 0.7, Male TCAV - 0.7\n",
      "Layer 2, Word bitches, Female TCAV - 0.8, Male TCAV - 0.8\n",
      "Layer 2, Word or, Female TCAV - 0.9, Male TCAV - 0.9\n",
      "Layer 2, Word whores, Female TCAV - 1.0, Male TCAV - 1.0\n",
      "Layer 3, Word Assertive, Female TCAV - 0.1, Male TCAV - 0.1\n",
      "Layer 3, Word [MASK], Female TCAV - 0.2, Male TCAV - 0.2\n",
      "Layer 3, Word are, Female TCAV - 0.3, Male TCAV - 0.3\n",
      "Layer 3, Word [MASK], Female TCAV - 0.4, Male TCAV - 0.4\n",
      "Layer 3, Word and, Female TCAV - 0.5, Male TCAV - 0.5\n",
      "Layer 3, Word are, Female TCAV - 0.6, Male TCAV - 0.6\n",
      "Layer 3, Word bossy,, Female TCAV - 0.7, Male TCAV - 0.7\n",
      "Layer 3, Word bitches, Female TCAV - 0.8, Male TCAV - 0.8\n",
      "Layer 3, Word or, Female TCAV - 0.9, Male TCAV - 0.9\n",
      "Layer 3, Word whores, Female TCAV - 1.0, Male TCAV - 1.0\n",
      "Layer 4, Word Assertive, Female TCAV - 0.1, Male TCAV - 0.1\n",
      "Layer 4, Word [MASK], Female TCAV - 0.2, Male TCAV - 0.2\n",
      "Layer 4, Word are, Female TCAV - 0.3, Male TCAV - 0.3\n",
      "Layer 4, Word [MASK], Female TCAV - 0.4, Male TCAV - 0.4\n",
      "Layer 4, Word and, Female TCAV - 0.5, Male TCAV - 0.5\n",
      "Layer 4, Word are, Female TCAV - 0.6, Male TCAV - 0.6\n",
      "Layer 4, Word bossy,, Female TCAV - 0.7, Male TCAV - 0.7\n",
      "Layer 4, Word bitches, Female TCAV - 0.8, Male TCAV - 0.8\n",
      "Layer 4, Word or, Female TCAV - 0.9, Male TCAV - 0.9\n",
      "Layer 4, Word whores, Female TCAV - 1.0, Male TCAV - 1.0\n",
      "Layer 5, Word Assertive, Female TCAV - 0.1, Male TCAV - 0.1\n",
      "Layer 5, Word [MASK], Female TCAV - 0.2, Male TCAV - 0.2\n",
      "Layer 5, Word are, Female TCAV - 0.3, Male TCAV - 0.3\n",
      "Layer 5, Word [MASK], Female TCAV - 0.4, Male TCAV - 0.4\n",
      "Layer 5, Word and, Female TCAV - 0.5, Male TCAV - 0.5\n",
      "Layer 5, Word are, Female TCAV - 0.6, Male TCAV - 0.6\n",
      "Layer 5, Word bossy,, Female TCAV - 0.7, Male TCAV - 0.7\n",
      "Layer 5, Word bitches, Female TCAV - 0.8, Male TCAV - 0.8\n",
      "Layer 5, Word or, Female TCAV - 0.9, Male TCAV - 0.9\n",
      "Layer 5, Word whores, Female TCAV - 1.0, Male TCAV - 1.0\n",
      "Layer 6, Word Assertive, Female TCAV - 0.1, Male TCAV - 0.1\n",
      "Layer 6, Word [MASK], Female TCAV - 0.2, Male TCAV - 0.2\n",
      "Layer 6, Word are, Female TCAV - 0.3, Male TCAV - 0.3\n",
      "Layer 6, Word [MASK], Female TCAV - 0.4, Male TCAV - 0.4\n",
      "Layer 6, Word and, Female TCAV - 0.5, Male TCAV - 0.5\n",
      "Layer 6, Word are, Female TCAV - 0.6, Male TCAV - 0.6\n",
      "Layer 6, Word bossy,, Female TCAV - 0.7, Male TCAV - 0.7\n",
      "Layer 6, Word bitches, Female TCAV - 0.8, Male TCAV - 0.8\n",
      "Layer 6, Word or, Female TCAV - 0.9, Male TCAV - 0.9\n",
      "Layer 6, Word whores, Female TCAV - 1.0, Male TCAV - 1.0\n",
      "Layer 7, Word Assertive, Female TCAV - 0.1, Male TCAV - 0.1\n",
      "Layer 7, Word [MASK], Female TCAV - 0.2, Male TCAV - 0.2\n",
      "Layer 7, Word are, Female TCAV - 0.3, Male TCAV - 0.3\n",
      "Layer 7, Word [MASK], Female TCAV - 0.4, Male TCAV - 0.4\n",
      "Layer 7, Word and, Female TCAV - 0.5, Male TCAV - 0.5\n",
      "Layer 7, Word are, Female TCAV - 0.6, Male TCAV - 0.6\n",
      "Layer 7, Word bossy,, Female TCAV - 0.7, Male TCAV - 0.7\n",
      "Layer 7, Word bitches, Female TCAV - 0.8, Male TCAV - 0.8\n",
      "Layer 7, Word or, Female TCAV - 0.9, Male TCAV - 0.9\n",
      "Layer 7, Word whores, Female TCAV - 1.0, Male TCAV - 1.0\n",
      "Layer 8, Word Assertive, Female TCAV - 0.1, Male TCAV - 0.1\n",
      "Layer 8, Word [MASK], Female TCAV - 0.1, Male TCAV - 0.2\n",
      "Layer 8, Word are, Female TCAV - 0.2, Male TCAV - 0.3\n",
      "Layer 8, Word [MASK], Female TCAV - 0.3, Male TCAV - 0.4\n",
      "Layer 8, Word and, Female TCAV - 0.4, Male TCAV - 0.5\n",
      "Layer 8, Word are, Female TCAV - 0.5, Male TCAV - 0.6\n",
      "Layer 8, Word bossy,, Female TCAV - 0.6, Male TCAV - 0.7\n",
      "Layer 8, Word bitches, Female TCAV - 0.7, Male TCAV - 0.8\n",
      "Layer 8, Word or, Female TCAV - 0.8, Male TCAV - 0.9\n",
      "Layer 8, Word whores, Female TCAV - 0.9, Male TCAV - 1.0\n",
      "Layer 9, Word Assertive, Female TCAV - 0.1, Male TCAV - 0.1\n",
      "Layer 9, Word [MASK], Female TCAV - 0.1, Male TCAV - 0.2\n",
      "Layer 9, Word are, Female TCAV - 0.2, Male TCAV - 0.3\n",
      "Layer 9, Word [MASK], Female TCAV - 0.3, Male TCAV - 0.4\n",
      "Layer 9, Word and, Female TCAV - 0.4, Male TCAV - 0.5\n",
      "Layer 9, Word are, Female TCAV - 0.5, Male TCAV - 0.6\n",
      "Layer 9, Word bossy,, Female TCAV - 0.6, Male TCAV - 0.7\n",
      "Layer 9, Word bitches, Female TCAV - 0.7, Male TCAV - 0.8\n",
      "Layer 9, Word or, Female TCAV - 0.8, Male TCAV - 0.9\n",
      "Layer 9, Word whores, Female TCAV - 0.9, Male TCAV - 1.0\n",
      "Layer 10, Word Assertive, Female TCAV - 0.0, Male TCAV - 0.1\n",
      "Layer 10, Word [MASK], Female TCAV - 0.0, Male TCAV - 0.2\n",
      "Layer 10, Word are, Female TCAV - 0.0, Male TCAV - 0.3\n",
      "Layer 10, Word [MASK], Female TCAV - 0.1, Male TCAV - 0.4\n",
      "Layer 10, Word and, Female TCAV - 0.2, Male TCAV - 0.5\n",
      "Layer 10, Word are, Female TCAV - 0.2, Male TCAV - 0.6\n",
      "Layer 10, Word bossy,, Female TCAV - 0.2, Male TCAV - 0.7\n",
      "Layer 10, Word bitches, Female TCAV - 0.2, Male TCAV - 0.8\n",
      "Layer 10, Word or, Female TCAV - 0.3, Male TCAV - 0.9\n",
      "Layer 10, Word whores, Female TCAV - 0.4, Male TCAV - 1.0\n",
      "Layer 11, Word Assertive, Female TCAV - 0.0, Male TCAV - 0.1\n",
      "Layer 11, Word [MASK], Female TCAV - 0.0, Male TCAV - 0.2\n",
      "Layer 11, Word are, Female TCAV - 0.0, Male TCAV - 0.3\n",
      "Layer 11, Word [MASK], Female TCAV - 0.1, Male TCAV - 0.4\n",
      "Layer 11, Word and, Female TCAV - 0.2, Male TCAV - 0.5\n",
      "Layer 11, Word are, Female TCAV - 0.3, Male TCAV - 0.6\n",
      "Layer 11, Word bossy,, Female TCAV - 0.3, Male TCAV - 0.7\n",
      "Layer 11, Word bitches, Female TCAV - 0.4, Male TCAV - 0.8\n",
      "Layer 11, Word or, Female TCAV - 0.5, Male TCAV - 0.9\n",
      "Layer 11, Word whores, Female TCAV - 0.6, Male TCAV - 1.0\n",
      "Layer 12, Word Assertive, Female TCAV - 0.1, Male TCAV - 0.1\n",
      "Layer 12, Word [MASK], Female TCAV - 0.1, Male TCAV - 0.2\n",
      "Layer 12, Word are, Female TCAV - 0.2, Male TCAV - 0.3\n",
      "Layer 12, Word [MASK], Female TCAV - 0.3, Male TCAV - 0.4\n",
      "Layer 12, Word and, Female TCAV - 0.4, Male TCAV - 0.5\n",
      "Layer 12, Word are, Female TCAV - 0.5, Male TCAV - 0.6\n",
      "Layer 12, Word bossy,, Female TCAV - 0.6, Male TCAV - 0.7\n",
      "Layer 12, Word bitches, Female TCAV - 0.7, Male TCAV - 0.7\n",
      "Layer 12, Word or, Female TCAV - 0.8, Male TCAV - 0.8\n",
      "Layer 12, Word whores, Female TCAV - 0.9, Male TCAV - 0.9\n",
      "Layer 13, Word Assertive, Female TCAV - 0.1, Male TCAV - 0.1\n",
      "Layer 13, Word [MASK], Female TCAV - 0.2, Male TCAV - 0.2\n",
      "Layer 13, Word are, Female TCAV - 0.3, Male TCAV - 0.3\n",
      "Layer 13, Word [MASK], Female TCAV - 0.4, Male TCAV - 0.4\n",
      "Layer 13, Word and, Female TCAV - 0.5, Male TCAV - 0.5\n",
      "Layer 13, Word are, Female TCAV - 0.5, Male TCAV - 0.6\n",
      "Layer 13, Word bossy,, Female TCAV - 0.5, Male TCAV - 0.7\n",
      "Layer 13, Word bitches, Female TCAV - 0.6, Male TCAV - 0.8\n",
      "Layer 13, Word or, Female TCAV - 0.7, Male TCAV - 0.8\n",
      "Layer 13, Word whores, Female TCAV - 0.8, Male TCAV - 0.8\n",
      "Assertive [MASK] are less [MASK] and are bossy, bitches or whores\n",
      "Layer 1, Word Assertive, Female TCAV - 0.09090909090909091, Male TCAV - 0.09090909090909091\n",
      "Layer 1, Word [MASK], Female TCAV - 0.18181818181818182, Male TCAV - 0.09090909090909091\n",
      "Layer 1, Word are, Female TCAV - 0.2727272727272727, Male TCAV - 0.18181818181818182\n",
      "Layer 1, Word less, Female TCAV - 0.36363636363636365, Male TCAV - 0.2727272727272727\n",
      "Layer 1, Word [MASK], Female TCAV - 0.36363636363636365, Male TCAV - 0.36363636363636365\n",
      "Layer 1, Word and, Female TCAV - 0.36363636363636365, Male TCAV - 0.45454545454545453\n",
      "Layer 1, Word are, Female TCAV - 0.45454545454545453, Male TCAV - 0.5454545454545454\n",
      "Layer 1, Word bossy,, Female TCAV - 0.5454545454545454, Male TCAV - 0.6363636363636364\n",
      "Layer 1, Word bitches, Female TCAV - 0.6363636363636364, Male TCAV - 0.7272727272727273\n",
      "Layer 1, Word or, Female TCAV - 0.7272727272727273, Male TCAV - 0.8181818181818182\n",
      "Layer 1, Word whores, Female TCAV - 0.8181818181818182, Male TCAV - 0.9090909090909091\n",
      "Layer 2, Word Assertive, Female TCAV - 0.09090909090909091, Male TCAV - 0.09090909090909091\n",
      "Layer 2, Word [MASK], Female TCAV - 0.18181818181818182, Male TCAV - 0.18181818181818182\n",
      "Layer 2, Word are, Female TCAV - 0.2727272727272727, Male TCAV - 0.2727272727272727\n",
      "Layer 2, Word less, Female TCAV - 0.36363636363636365, Male TCAV - 0.36363636363636365\n",
      "Layer 2, Word [MASK], Female TCAV - 0.45454545454545453, Male TCAV - 0.45454545454545453\n",
      "Layer 2, Word and, Female TCAV - 0.5454545454545454, Male TCAV - 0.5454545454545454\n",
      "Layer 2, Word are, Female TCAV - 0.6363636363636364, Male TCAV - 0.6363636363636364\n",
      "Layer 2, Word bossy,, Female TCAV - 0.7272727272727273, Male TCAV - 0.7272727272727273\n",
      "Layer 2, Word bitches, Female TCAV - 0.8181818181818182, Male TCAV - 0.8181818181818182\n",
      "Layer 2, Word or, Female TCAV - 0.9090909090909091, Male TCAV - 0.9090909090909091\n",
      "Layer 2, Word whores, Female TCAV - 1.0, Male TCAV - 1.0\n",
      "Layer 3, Word Assertive, Female TCAV - 0.09090909090909091, Male TCAV - 0.09090909090909091\n",
      "Layer 3, Word [MASK], Female TCAV - 0.18181818181818182, Male TCAV - 0.18181818181818182\n",
      "Layer 3, Word are, Female TCAV - 0.2727272727272727, Male TCAV - 0.2727272727272727\n",
      "Layer 3, Word less, Female TCAV - 0.36363636363636365, Male TCAV - 0.36363636363636365\n",
      "Layer 3, Word [MASK], Female TCAV - 0.45454545454545453, Male TCAV - 0.45454545454545453\n",
      "Layer 3, Word and, Female TCAV - 0.5454545454545454, Male TCAV - 0.5454545454545454\n",
      "Layer 3, Word are, Female TCAV - 0.6363636363636364, Male TCAV - 0.6363636363636364\n",
      "Layer 3, Word bossy,, Female TCAV - 0.7272727272727273, Male TCAV - 0.7272727272727273\n",
      "Layer 3, Word bitches, Female TCAV - 0.8181818181818182, Male TCAV - 0.8181818181818182\n",
      "Layer 3, Word or, Female TCAV - 0.9090909090909091, Male TCAV - 0.9090909090909091\n",
      "Layer 3, Word whores, Female TCAV - 1.0, Male TCAV - 1.0\n",
      "Layer 4, Word Assertive, Female TCAV - 0.09090909090909091, Male TCAV - 0.09090909090909091\n",
      "Layer 4, Word [MASK], Female TCAV - 0.18181818181818182, Male TCAV - 0.18181818181818182\n",
      "Layer 4, Word are, Female TCAV - 0.2727272727272727, Male TCAV - 0.2727272727272727\n",
      "Layer 4, Word less, Female TCAV - 0.36363636363636365, Male TCAV - 0.36363636363636365\n",
      "Layer 4, Word [MASK], Female TCAV - 0.45454545454545453, Male TCAV - 0.45454545454545453\n",
      "Layer 4, Word and, Female TCAV - 0.5454545454545454, Male TCAV - 0.5454545454545454\n",
      "Layer 4, Word are, Female TCAV - 0.6363636363636364, Male TCAV - 0.6363636363636364\n",
      "Layer 4, Word bossy,, Female TCAV - 0.7272727272727273, Male TCAV - 0.7272727272727273\n",
      "Layer 4, Word bitches, Female TCAV - 0.8181818181818182, Male TCAV - 0.8181818181818182\n",
      "Layer 4, Word or, Female TCAV - 0.9090909090909091, Male TCAV - 0.9090909090909091\n",
      "Layer 4, Word whores, Female TCAV - 1.0, Male TCAV - 1.0\n",
      "Layer 5, Word Assertive, Female TCAV - 0.09090909090909091, Male TCAV - 0.09090909090909091\n",
      "Layer 5, Word [MASK], Female TCAV - 0.18181818181818182, Male TCAV - 0.18181818181818182\n",
      "Layer 5, Word are, Female TCAV - 0.2727272727272727, Male TCAV - 0.2727272727272727\n",
      "Layer 5, Word less, Female TCAV - 0.36363636363636365, Male TCAV - 0.36363636363636365\n",
      "Layer 5, Word [MASK], Female TCAV - 0.45454545454545453, Male TCAV - 0.45454545454545453\n",
      "Layer 5, Word and, Female TCAV - 0.5454545454545454, Male TCAV - 0.5454545454545454\n",
      "Layer 5, Word are, Female TCAV - 0.6363636363636364, Male TCAV - 0.6363636363636364\n",
      "Layer 5, Word bossy,, Female TCAV - 0.7272727272727273, Male TCAV - 0.7272727272727273\n",
      "Layer 5, Word bitches, Female TCAV - 0.8181818181818182, Male TCAV - 0.8181818181818182\n",
      "Layer 5, Word or, Female TCAV - 0.9090909090909091, Male TCAV - 0.9090909090909091\n",
      "Layer 5, Word whores, Female TCAV - 1.0, Male TCAV - 1.0\n",
      "Layer 6, Word Assertive, Female TCAV - 0.09090909090909091, Male TCAV - 0.09090909090909091\n",
      "Layer 6, Word [MASK], Female TCAV - 0.18181818181818182, Male TCAV - 0.18181818181818182\n",
      "Layer 6, Word are, Female TCAV - 0.2727272727272727, Male TCAV - 0.2727272727272727\n",
      "Layer 6, Word less, Female TCAV - 0.36363636363636365, Male TCAV - 0.36363636363636365\n",
      "Layer 6, Word [MASK], Female TCAV - 0.45454545454545453, Male TCAV - 0.45454545454545453\n",
      "Layer 6, Word and, Female TCAV - 0.5454545454545454, Male TCAV - 0.5454545454545454\n",
      "Layer 6, Word are, Female TCAV - 0.6363636363636364, Male TCAV - 0.6363636363636364\n",
      "Layer 6, Word bossy,, Female TCAV - 0.7272727272727273, Male TCAV - 0.7272727272727273\n",
      "Layer 6, Word bitches, Female TCAV - 0.8181818181818182, Male TCAV - 0.8181818181818182\n",
      "Layer 6, Word or, Female TCAV - 0.9090909090909091, Male TCAV - 0.9090909090909091\n",
      "Layer 6, Word whores, Female TCAV - 1.0, Male TCAV - 1.0\n",
      "Layer 7, Word Assertive, Female TCAV - 0.09090909090909091, Male TCAV - 0.09090909090909091\n",
      "Layer 7, Word [MASK], Female TCAV - 0.18181818181818182, Male TCAV - 0.18181818181818182\n",
      "Layer 7, Word are, Female TCAV - 0.2727272727272727, Male TCAV - 0.2727272727272727\n",
      "Layer 7, Word less, Female TCAV - 0.36363636363636365, Male TCAV - 0.36363636363636365\n",
      "Layer 7, Word [MASK], Female TCAV - 0.45454545454545453, Male TCAV - 0.45454545454545453\n",
      "Layer 7, Word and, Female TCAV - 0.5454545454545454, Male TCAV - 0.5454545454545454\n",
      "Layer 7, Word are, Female TCAV - 0.6363636363636364, Male TCAV - 0.6363636363636364\n",
      "Layer 7, Word bossy,, Female TCAV - 0.7272727272727273, Male TCAV - 0.7272727272727273\n",
      "Layer 7, Word bitches, Female TCAV - 0.8181818181818182, Male TCAV - 0.8181818181818182\n",
      "Layer 7, Word or, Female TCAV - 0.9090909090909091, Male TCAV - 0.9090909090909091\n",
      "Layer 7, Word whores, Female TCAV - 1.0, Male TCAV - 1.0\n",
      "Layer 8, Word Assertive, Female TCAV - 0.09090909090909091, Male TCAV - 0.09090909090909091\n",
      "Layer 8, Word [MASK], Female TCAV - 0.09090909090909091, Male TCAV - 0.18181818181818182\n",
      "Layer 8, Word are, Female TCAV - 0.18181818181818182, Male TCAV - 0.2727272727272727\n",
      "Layer 8, Word less, Female TCAV - 0.2727272727272727, Male TCAV - 0.36363636363636365\n",
      "Layer 8, Word [MASK], Female TCAV - 0.36363636363636365, Male TCAV - 0.45454545454545453\n",
      "Layer 8, Word and, Female TCAV - 0.45454545454545453, Male TCAV - 0.5454545454545454\n",
      "Layer 8, Word are, Female TCAV - 0.5454545454545454, Male TCAV - 0.6363636363636364\n",
      "Layer 8, Word bossy,, Female TCAV - 0.6363636363636364, Male TCAV - 0.7272727272727273\n",
      "Layer 8, Word bitches, Female TCAV - 0.7272727272727273, Male TCAV - 0.8181818181818182\n",
      "Layer 8, Word or, Female TCAV - 0.8181818181818182, Male TCAV - 0.9090909090909091\n",
      "Layer 8, Word whores, Female TCAV - 0.9090909090909091, Male TCAV - 1.0\n",
      "Layer 9, Word Assertive, Female TCAV - 0.09090909090909091, Male TCAV - 0.09090909090909091\n",
      "Layer 9, Word [MASK], Female TCAV - 0.09090909090909091, Male TCAV - 0.18181818181818182\n",
      "Layer 9, Word are, Female TCAV - 0.18181818181818182, Male TCAV - 0.2727272727272727\n",
      "Layer 9, Word less, Female TCAV - 0.2727272727272727, Male TCAV - 0.36363636363636365\n",
      "Layer 9, Word [MASK], Female TCAV - 0.36363636363636365, Male TCAV - 0.45454545454545453\n",
      "Layer 9, Word and, Female TCAV - 0.45454545454545453, Male TCAV - 0.5454545454545454\n",
      "Layer 9, Word are, Female TCAV - 0.5454545454545454, Male TCAV - 0.6363636363636364\n",
      "Layer 9, Word bossy,, Female TCAV - 0.6363636363636364, Male TCAV - 0.7272727272727273\n",
      "Layer 9, Word bitches, Female TCAV - 0.7272727272727273, Male TCAV - 0.8181818181818182\n",
      "Layer 9, Word or, Female TCAV - 0.8181818181818182, Male TCAV - 0.9090909090909091\n",
      "Layer 9, Word whores, Female TCAV - 0.9090909090909091, Male TCAV - 1.0\n",
      "Layer 10, Word Assertive, Female TCAV - 0.0, Male TCAV - 0.09090909090909091\n",
      "Layer 10, Word [MASK], Female TCAV - 0.0, Male TCAV - 0.18181818181818182\n",
      "Layer 10, Word are, Female TCAV - 0.0, Male TCAV - 0.2727272727272727\n",
      "Layer 10, Word less, Female TCAV - 0.09090909090909091, Male TCAV - 0.36363636363636365\n",
      "Layer 10, Word [MASK], Female TCAV - 0.09090909090909091, Male TCAV - 0.45454545454545453\n",
      "Layer 10, Word and, Female TCAV - 0.09090909090909091, Male TCAV - 0.45454545454545453\n",
      "Layer 10, Word are, Female TCAV - 0.09090909090909091, Male TCAV - 0.5454545454545454\n",
      "Layer 10, Word bossy,, Female TCAV - 0.09090909090909091, Male TCAV - 0.6363636363636364\n",
      "Layer 10, Word bitches, Female TCAV - 0.09090909090909091, Male TCAV - 0.7272727272727273\n",
      "Layer 10, Word or, Female TCAV - 0.18181818181818182, Male TCAV - 0.8181818181818182\n",
      "Layer 10, Word whores, Female TCAV - 0.2727272727272727, Male TCAV - 0.9090909090909091\n",
      "Layer 11, Word Assertive, Female TCAV - 0.0, Male TCAV - 0.09090909090909091\n",
      "Layer 11, Word [MASK], Female TCAV - 0.0, Male TCAV - 0.18181818181818182\n",
      "Layer 11, Word are, Female TCAV - 0.0, Male TCAV - 0.2727272727272727\n",
      "Layer 11, Word less, Female TCAV - 0.09090909090909091, Male TCAV - 0.36363636363636365\n",
      "Layer 11, Word [MASK], Female TCAV - 0.09090909090909091, Male TCAV - 0.45454545454545453\n",
      "Layer 11, Word and, Female TCAV - 0.09090909090909091, Male TCAV - 0.5454545454545454\n",
      "Layer 11, Word are, Female TCAV - 0.09090909090909091, Male TCAV - 0.6363636363636364\n",
      "Layer 11, Word bossy,, Female TCAV - 0.09090909090909091, Male TCAV - 0.7272727272727273\n",
      "Layer 11, Word bitches, Female TCAV - 0.18181818181818182, Male TCAV - 0.8181818181818182\n",
      "Layer 11, Word or, Female TCAV - 0.2727272727272727, Male TCAV - 0.9090909090909091\n",
      "Layer 11, Word whores, Female TCAV - 0.36363636363636365, Male TCAV - 1.0\n",
      "Layer 12, Word Assertive, Female TCAV - 0.0, Male TCAV - 0.09090909090909091\n",
      "Layer 12, Word [MASK], Female TCAV - 0.0, Male TCAV - 0.18181818181818182\n",
      "Layer 12, Word are, Female TCAV - 0.09090909090909091, Male TCAV - 0.2727272727272727\n",
      "Layer 12, Word less, Female TCAV - 0.18181818181818182, Male TCAV - 0.36363636363636365\n",
      "Layer 12, Word [MASK], Female TCAV - 0.2727272727272727, Male TCAV - 0.45454545454545453\n",
      "Layer 12, Word and, Female TCAV - 0.2727272727272727, Male TCAV - 0.45454545454545453\n",
      "Layer 12, Word are, Female TCAV - 0.2727272727272727, Male TCAV - 0.5454545454545454\n",
      "Layer 12, Word bossy,, Female TCAV - 0.2727272727272727, Male TCAV - 0.6363636363636364\n",
      "Layer 12, Word bitches, Female TCAV - 0.36363636363636365, Male TCAV - 0.6363636363636364\n",
      "Layer 12, Word or, Female TCAV - 0.45454545454545453, Male TCAV - 0.6363636363636364\n",
      "Layer 12, Word whores, Female TCAV - 0.5454545454545454, Male TCAV - 0.6363636363636364\n",
      "Layer 13, Word Assertive, Female TCAV - 0.09090909090909091, Male TCAV - 0.09090909090909091\n",
      "Layer 13, Word [MASK], Female TCAV - 0.18181818181818182, Male TCAV - 0.18181818181818182\n",
      "Layer 13, Word are, Female TCAV - 0.2727272727272727, Male TCAV - 0.2727272727272727\n",
      "Layer 13, Word less, Female TCAV - 0.36363636363636365, Male TCAV - 0.36363636363636365\n",
      "Layer 13, Word [MASK], Female TCAV - 0.45454545454545453, Male TCAV - 0.45454545454545453\n",
      "Layer 13, Word and, Female TCAV - 0.5454545454545454, Male TCAV - 0.5454545454545454\n",
      "Layer 13, Word are, Female TCAV - 0.5454545454545454, Male TCAV - 0.6363636363636364\n",
      "Layer 13, Word bossy,, Female TCAV - 0.5454545454545454, Male TCAV - 0.7272727272727273\n",
      "Layer 13, Word bitches, Female TCAV - 0.6363636363636364, Male TCAV - 0.8181818181818182\n",
      "Layer 13, Word or, Female TCAV - 0.7272727272727273, Male TCAV - 0.8181818181818182\n",
      "Layer 13, Word whores, Female TCAV - 0.8181818181818182, Male TCAV - 0.8181818181818182\n",
      "Assertive [MASK] are bossy, bitches or whores\n",
      "Layer 1, Word Assertive, Female TCAV - 0.14285714285714285, Male TCAV - 0.14285714285714285\n",
      "Layer 1, Word [MASK], Female TCAV - 0.2857142857142857, Male TCAV - 0.14285714285714285\n",
      "Layer 1, Word are, Female TCAV - 0.42857142857142855, Male TCAV - 0.2857142857142857\n",
      "Layer 1, Word bossy,, Female TCAV - 0.5714285714285714, Male TCAV - 0.42857142857142855\n",
      "Layer 1, Word bitches, Female TCAV - 0.7142857142857143, Male TCAV - 0.5714285714285714\n",
      "Layer 1, Word or, Female TCAV - 0.8571428571428571, Male TCAV - 0.7142857142857143\n",
      "Layer 1, Word whores, Female TCAV - 1.0, Male TCAV - 0.8571428571428571\n",
      "Layer 2, Word Assertive, Female TCAV - 0.14285714285714285, Male TCAV - 0.14285714285714285\n",
      "Layer 2, Word [MASK], Female TCAV - 0.2857142857142857, Male TCAV - 0.2857142857142857\n",
      "Layer 2, Word are, Female TCAV - 0.42857142857142855, Male TCAV - 0.42857142857142855\n",
      "Layer 2, Word bossy,, Female TCAV - 0.5714285714285714, Male TCAV - 0.5714285714285714\n",
      "Layer 2, Word bitches, Female TCAV - 0.7142857142857143, Male TCAV - 0.7142857142857143\n",
      "Layer 2, Word or, Female TCAV - 0.8571428571428571, Male TCAV - 0.8571428571428571\n",
      "Layer 2, Word whores, Female TCAV - 1.0, Male TCAV - 1.0\n",
      "Layer 3, Word Assertive, Female TCAV - 0.14285714285714285, Male TCAV - 0.14285714285714285\n",
      "Layer 3, Word [MASK], Female TCAV - 0.2857142857142857, Male TCAV - 0.2857142857142857\n",
      "Layer 3, Word are, Female TCAV - 0.42857142857142855, Male TCAV - 0.42857142857142855\n",
      "Layer 3, Word bossy,, Female TCAV - 0.5714285714285714, Male TCAV - 0.5714285714285714\n",
      "Layer 3, Word bitches, Female TCAV - 0.7142857142857143, Male TCAV - 0.7142857142857143\n",
      "Layer 3, Word or, Female TCAV - 0.8571428571428571, Male TCAV - 0.8571428571428571\n",
      "Layer 3, Word whores, Female TCAV - 1.0, Male TCAV - 1.0\n",
      "Layer 4, Word Assertive, Female TCAV - 0.14285714285714285, Male TCAV - 0.14285714285714285\n",
      "Layer 4, Word [MASK], Female TCAV - 0.2857142857142857, Male TCAV - 0.2857142857142857\n",
      "Layer 4, Word are, Female TCAV - 0.42857142857142855, Male TCAV - 0.42857142857142855\n",
      "Layer 4, Word bossy,, Female TCAV - 0.5714285714285714, Male TCAV - 0.5714285714285714\n",
      "Layer 4, Word bitches, Female TCAV - 0.7142857142857143, Male TCAV - 0.7142857142857143\n",
      "Layer 4, Word or, Female TCAV - 0.8571428571428571, Male TCAV - 0.8571428571428571\n",
      "Layer 4, Word whores, Female TCAV - 1.0, Male TCAV - 1.0\n",
      "Layer 5, Word Assertive, Female TCAV - 0.14285714285714285, Male TCAV - 0.14285714285714285\n",
      "Layer 5, Word [MASK], Female TCAV - 0.2857142857142857, Male TCAV - 0.2857142857142857\n",
      "Layer 5, Word are, Female TCAV - 0.42857142857142855, Male TCAV - 0.42857142857142855\n",
      "Layer 5, Word bossy,, Female TCAV - 0.5714285714285714, Male TCAV - 0.5714285714285714\n",
      "Layer 5, Word bitches, Female TCAV - 0.7142857142857143, Male TCAV - 0.7142857142857143\n",
      "Layer 5, Word or, Female TCAV - 0.8571428571428571, Male TCAV - 0.8571428571428571\n",
      "Layer 5, Word whores, Female TCAV - 1.0, Male TCAV - 1.0\n",
      "Layer 6, Word Assertive, Female TCAV - 0.14285714285714285, Male TCAV - 0.14285714285714285\n",
      "Layer 6, Word [MASK], Female TCAV - 0.2857142857142857, Male TCAV - 0.2857142857142857\n",
      "Layer 6, Word are, Female TCAV - 0.42857142857142855, Male TCAV - 0.42857142857142855\n",
      "Layer 6, Word bossy,, Female TCAV - 0.5714285714285714, Male TCAV - 0.5714285714285714\n",
      "Layer 6, Word bitches, Female TCAV - 0.7142857142857143, Male TCAV - 0.7142857142857143\n",
      "Layer 6, Word or, Female TCAV - 0.8571428571428571, Male TCAV - 0.8571428571428571\n",
      "Layer 6, Word whores, Female TCAV - 1.0, Male TCAV - 1.0\n",
      "Layer 7, Word Assertive, Female TCAV - 0.14285714285714285, Male TCAV - 0.14285714285714285\n",
      "Layer 7, Word [MASK], Female TCAV - 0.2857142857142857, Male TCAV - 0.2857142857142857\n",
      "Layer 7, Word are, Female TCAV - 0.42857142857142855, Male TCAV - 0.42857142857142855\n",
      "Layer 7, Word bossy,, Female TCAV - 0.5714285714285714, Male TCAV - 0.5714285714285714\n",
      "Layer 7, Word bitches, Female TCAV - 0.7142857142857143, Male TCAV - 0.7142857142857143\n",
      "Layer 7, Word or, Female TCAV - 0.8571428571428571, Male TCAV - 0.8571428571428571\n",
      "Layer 7, Word whores, Female TCAV - 1.0, Male TCAV - 1.0\n",
      "Layer 8, Word Assertive, Female TCAV - 0.14285714285714285, Male TCAV - 0.14285714285714285\n",
      "Layer 8, Word [MASK], Female TCAV - 0.14285714285714285, Male TCAV - 0.2857142857142857\n",
      "Layer 8, Word are, Female TCAV - 0.2857142857142857, Male TCAV - 0.42857142857142855\n",
      "Layer 8, Word bossy,, Female TCAV - 0.42857142857142855, Male TCAV - 0.5714285714285714\n",
      "Layer 8, Word bitches, Female TCAV - 0.5714285714285714, Male TCAV - 0.7142857142857143\n",
      "Layer 8, Word or, Female TCAV - 0.7142857142857143, Male TCAV - 0.8571428571428571\n",
      "Layer 8, Word whores, Female TCAV - 0.8571428571428571, Male TCAV - 1.0\n",
      "Layer 9, Word Assertive, Female TCAV - 0.14285714285714285, Male TCAV - 0.14285714285714285\n",
      "Layer 9, Word [MASK], Female TCAV - 0.14285714285714285, Male TCAV - 0.2857142857142857\n",
      "Layer 9, Word are, Female TCAV - 0.2857142857142857, Male TCAV - 0.42857142857142855\n",
      "Layer 9, Word bossy,, Female TCAV - 0.42857142857142855, Male TCAV - 0.5714285714285714\n",
      "Layer 9, Word bitches, Female TCAV - 0.5714285714285714, Male TCAV - 0.7142857142857143\n",
      "Layer 9, Word or, Female TCAV - 0.7142857142857143, Male TCAV - 0.8571428571428571\n",
      "Layer 9, Word whores, Female TCAV - 0.8571428571428571, Male TCAV - 1.0\n",
      "Layer 10, Word Assertive, Female TCAV - 0.0, Male TCAV - 0.14285714285714285\n",
      "Layer 10, Word [MASK], Female TCAV - 0.0, Male TCAV - 0.2857142857142857\n",
      "Layer 10, Word are, Female TCAV - 0.0, Male TCAV - 0.42857142857142855\n",
      "Layer 10, Word bossy,, Female TCAV - 0.0, Male TCAV - 0.5714285714285714\n",
      "Layer 10, Word bitches, Female TCAV - 0.14285714285714285, Male TCAV - 0.7142857142857143\n",
      "Layer 10, Word or, Female TCAV - 0.2857142857142857, Male TCAV - 0.8571428571428571\n",
      "Layer 10, Word whores, Female TCAV - 0.42857142857142855, Male TCAV - 1.0\n",
      "Layer 11, Word Assertive, Female TCAV - 0.0, Male TCAV - 0.14285714285714285\n",
      "Layer 11, Word [MASK], Female TCAV - 0.0, Male TCAV - 0.2857142857142857\n",
      "Layer 11, Word are, Female TCAV - 0.0, Male TCAV - 0.42857142857142855\n",
      "Layer 11, Word bossy,, Female TCAV - 0.0, Male TCAV - 0.5714285714285714\n",
      "Layer 11, Word bitches, Female TCAV - 0.14285714285714285, Male TCAV - 0.7142857142857143\n",
      "Layer 11, Word or, Female TCAV - 0.2857142857142857, Male TCAV - 0.8571428571428571\n",
      "Layer 11, Word whores, Female TCAV - 0.42857142857142855, Male TCAV - 1.0\n",
      "Layer 12, Word Assertive, Female TCAV - 0.0, Male TCAV - 0.14285714285714285\n",
      "Layer 12, Word [MASK], Female TCAV - 0.0, Male TCAV - 0.2857142857142857\n",
      "Layer 12, Word are, Female TCAV - 0.14285714285714285, Male TCAV - 0.42857142857142855\n",
      "Layer 12, Word bossy,, Female TCAV - 0.2857142857142857, Male TCAV - 0.5714285714285714\n",
      "Layer 12, Word bitches, Female TCAV - 0.42857142857142855, Male TCAV - 0.5714285714285714\n",
      "Layer 12, Word or, Female TCAV - 0.5714285714285714, Male TCAV - 0.7142857142857143\n",
      "Layer 12, Word whores, Female TCAV - 0.7142857142857143, Male TCAV - 0.7142857142857143\n",
      "Layer 13, Word Assertive, Female TCAV - 0.14285714285714285, Male TCAV - 0.14285714285714285\n",
      "Layer 13, Word [MASK], Female TCAV - 0.2857142857142857, Male TCAV - 0.2857142857142857\n",
      "Layer 13, Word are, Female TCAV - 0.42857142857142855, Male TCAV - 0.42857142857142855\n",
      "Layer 13, Word bossy,, Female TCAV - 0.5714285714285714, Male TCAV - 0.5714285714285714\n",
      "Layer 13, Word bitches, Female TCAV - 0.7142857142857143, Male TCAV - 0.5714285714285714\n",
      "Layer 13, Word or, Female TCAV - 0.8571428571428571, Male TCAV - 0.5714285714285714\n",
      "Layer 13, Word whores, Female TCAV - 1.0, Male TCAV - 0.7142857142857143\n",
      "[MASK] who spend time with family are less [MASK] and poor breadwinners\n",
      "Layer 1, Word [MASK], Female TCAV - 0.08333333333333333, Male TCAV - 0.08333333333333333\n",
      "Layer 1, Word who, Female TCAV - 0.16666666666666666, Male TCAV - 0.16666666666666666\n",
      "Layer 1, Word spend, Female TCAV - 0.25, Male TCAV - 0.25\n",
      "Layer 1, Word time, Female TCAV - 0.3333333333333333, Male TCAV - 0.3333333333333333\n",
      "Layer 1, Word with, Female TCAV - 0.3333333333333333, Male TCAV - 0.3333333333333333\n",
      "Layer 1, Word family, Female TCAV - 0.3333333333333333, Male TCAV - 0.4166666666666667\n",
      "Layer 1, Word are, Female TCAV - 0.3333333333333333, Male TCAV - 0.5\n",
      "Layer 1, Word less, Female TCAV - 0.3333333333333333, Male TCAV - 0.5833333333333334\n",
      "Layer 1, Word [MASK], Female TCAV - 0.3333333333333333, Male TCAV - 0.6666666666666666\n",
      "Layer 1, Word and, Female TCAV - 0.4166666666666667, Male TCAV - 0.75\n",
      "Layer 1, Word poor, Female TCAV - 0.5, Male TCAV - 0.8333333333333334\n",
      "Layer 1, Word breadwinners, Female TCAV - 0.5833333333333334, Male TCAV - 0.9166666666666666\n",
      "Layer 2, Word [MASK], Female TCAV - 0.08333333333333333, Male TCAV - 0.08333333333333333\n",
      "Layer 2, Word who, Female TCAV - 0.16666666666666666, Male TCAV - 0.16666666666666666\n",
      "Layer 2, Word spend, Female TCAV - 0.25, Male TCAV - 0.25\n",
      "Layer 2, Word time, Female TCAV - 0.3333333333333333, Male TCAV - 0.3333333333333333\n",
      "Layer 2, Word with, Female TCAV - 0.4166666666666667, Male TCAV - 0.4166666666666667\n",
      "Layer 2, Word family, Female TCAV - 0.5, Male TCAV - 0.5\n",
      "Layer 2, Word are, Female TCAV - 0.5833333333333334, Male TCAV - 0.5833333333333334\n",
      "Layer 2, Word less, Female TCAV - 0.6666666666666666, Male TCAV - 0.6666666666666666\n",
      "Layer 2, Word [MASK], Female TCAV - 0.75, Male TCAV - 0.75\n",
      "Layer 2, Word and, Female TCAV - 0.8333333333333334, Male TCAV - 0.8333333333333334\n",
      "Layer 2, Word poor, Female TCAV - 0.9166666666666666, Male TCAV - 0.9166666666666666\n",
      "Layer 2, Word breadwinners, Female TCAV - 1.0, Male TCAV - 1.0\n",
      "Layer 3, Word [MASK], Female TCAV - 0.08333333333333333, Male TCAV - 0.08333333333333333\n",
      "Layer 3, Word who, Female TCAV - 0.16666666666666666, Male TCAV - 0.16666666666666666\n",
      "Layer 3, Word spend, Female TCAV - 0.25, Male TCAV - 0.25\n",
      "Layer 3, Word time, Female TCAV - 0.3333333333333333, Male TCAV - 0.3333333333333333\n",
      "Layer 3, Word with, Female TCAV - 0.4166666666666667, Male TCAV - 0.4166666666666667\n",
      "Layer 3, Word family, Female TCAV - 0.5, Male TCAV - 0.5\n",
      "Layer 3, Word are, Female TCAV - 0.5833333333333334, Male TCAV - 0.5833333333333334\n",
      "Layer 3, Word less, Female TCAV - 0.6666666666666666, Male TCAV - 0.6666666666666666\n",
      "Layer 3, Word [MASK], Female TCAV - 0.75, Male TCAV - 0.75\n",
      "Layer 3, Word and, Female TCAV - 0.8333333333333334, Male TCAV - 0.8333333333333334\n",
      "Layer 3, Word poor, Female TCAV - 0.9166666666666666, Male TCAV - 0.9166666666666666\n",
      "Layer 3, Word breadwinners, Female TCAV - 1.0, Male TCAV - 1.0\n",
      "Layer 4, Word [MASK], Female TCAV - 0.08333333333333333, Male TCAV - 0.08333333333333333\n",
      "Layer 4, Word who, Female TCAV - 0.16666666666666666, Male TCAV - 0.16666666666666666\n",
      "Layer 4, Word spend, Female TCAV - 0.25, Male TCAV - 0.25\n",
      "Layer 4, Word time, Female TCAV - 0.3333333333333333, Male TCAV - 0.3333333333333333\n",
      "Layer 4, Word with, Female TCAV - 0.4166666666666667, Male TCAV - 0.4166666666666667\n",
      "Layer 4, Word family, Female TCAV - 0.5, Male TCAV - 0.5\n",
      "Layer 4, Word are, Female TCAV - 0.5833333333333334, Male TCAV - 0.5833333333333334\n",
      "Layer 4, Word less, Female TCAV - 0.6666666666666666, Male TCAV - 0.6666666666666666\n",
      "Layer 4, Word [MASK], Female TCAV - 0.75, Male TCAV - 0.75\n",
      "Layer 4, Word and, Female TCAV - 0.8333333333333334, Male TCAV - 0.8333333333333334\n",
      "Layer 4, Word poor, Female TCAV - 0.9166666666666666, Male TCAV - 0.9166666666666666\n",
      "Layer 4, Word breadwinners, Female TCAV - 1.0, Male TCAV - 1.0\n",
      "Layer 5, Word [MASK], Female TCAV - 0.08333333333333333, Male TCAV - 0.08333333333333333\n",
      "Layer 5, Word who, Female TCAV - 0.16666666666666666, Male TCAV - 0.16666666666666666\n",
      "Layer 5, Word spend, Female TCAV - 0.25, Male TCAV - 0.25\n",
      "Layer 5, Word time, Female TCAV - 0.3333333333333333, Male TCAV - 0.3333333333333333\n",
      "Layer 5, Word with, Female TCAV - 0.4166666666666667, Male TCAV - 0.4166666666666667\n",
      "Layer 5, Word family, Female TCAV - 0.5, Male TCAV - 0.5\n",
      "Layer 5, Word are, Female TCAV - 0.5833333333333334, Male TCAV - 0.5833333333333334\n",
      "Layer 5, Word less, Female TCAV - 0.6666666666666666, Male TCAV - 0.6666666666666666\n",
      "Layer 5, Word [MASK], Female TCAV - 0.75, Male TCAV - 0.75\n",
      "Layer 5, Word and, Female TCAV - 0.8333333333333334, Male TCAV - 0.8333333333333334\n",
      "Layer 5, Word poor, Female TCAV - 0.9166666666666666, Male TCAV - 0.9166666666666666\n",
      "Layer 5, Word breadwinners, Female TCAV - 1.0, Male TCAV - 1.0\n",
      "Layer 6, Word [MASK], Female TCAV - 0.08333333333333333, Male TCAV - 0.08333333333333333\n",
      "Layer 6, Word who, Female TCAV - 0.16666666666666666, Male TCAV - 0.16666666666666666\n",
      "Layer 6, Word spend, Female TCAV - 0.25, Male TCAV - 0.25\n",
      "Layer 6, Word time, Female TCAV - 0.3333333333333333, Male TCAV - 0.3333333333333333\n",
      "Layer 6, Word with, Female TCAV - 0.4166666666666667, Male TCAV - 0.4166666666666667\n",
      "Layer 6, Word family, Female TCAV - 0.5, Male TCAV - 0.5\n",
      "Layer 6, Word are, Female TCAV - 0.5833333333333334, Male TCAV - 0.5833333333333334\n",
      "Layer 6, Word less, Female TCAV - 0.6666666666666666, Male TCAV - 0.6666666666666666\n",
      "Layer 6, Word [MASK], Female TCAV - 0.75, Male TCAV - 0.75\n",
      "Layer 6, Word and, Female TCAV - 0.8333333333333334, Male TCAV - 0.8333333333333334\n",
      "Layer 6, Word poor, Female TCAV - 0.9166666666666666, Male TCAV - 0.9166666666666666\n",
      "Layer 6, Word breadwinners, Female TCAV - 1.0, Male TCAV - 1.0\n",
      "Layer 7, Word [MASK], Female TCAV - 0.08333333333333333, Male TCAV - 0.08333333333333333\n",
      "Layer 7, Word who, Female TCAV - 0.16666666666666666, Male TCAV - 0.16666666666666666\n",
      "Layer 7, Word spend, Female TCAV - 0.25, Male TCAV - 0.25\n",
      "Layer 7, Word time, Female TCAV - 0.3333333333333333, Male TCAV - 0.3333333333333333\n",
      "Layer 7, Word with, Female TCAV - 0.4166666666666667, Male TCAV - 0.4166666666666667\n",
      "Layer 7, Word family, Female TCAV - 0.5, Male TCAV - 0.5\n",
      "Layer 7, Word are, Female TCAV - 0.5833333333333334, Male TCAV - 0.5833333333333334\n",
      "Layer 7, Word less, Female TCAV - 0.6666666666666666, Male TCAV - 0.6666666666666666\n",
      "Layer 7, Word [MASK], Female TCAV - 0.75, Male TCAV - 0.75\n",
      "Layer 7, Word and, Female TCAV - 0.8333333333333334, Male TCAV - 0.8333333333333334\n",
      "Layer 7, Word poor, Female TCAV - 0.9166666666666666, Male TCAV - 0.9166666666666666\n",
      "Layer 7, Word breadwinners, Female TCAV - 1.0, Male TCAV - 1.0\n",
      "Layer 8, Word [MASK], Female TCAV - 0.08333333333333333, Male TCAV - 0.08333333333333333\n",
      "Layer 8, Word who, Female TCAV - 0.16666666666666666, Male TCAV - 0.16666666666666666\n",
      "Layer 8, Word spend, Female TCAV - 0.25, Male TCAV - 0.25\n",
      "Layer 8, Word time, Female TCAV - 0.3333333333333333, Male TCAV - 0.3333333333333333\n",
      "Layer 8, Word with, Female TCAV - 0.4166666666666667, Male TCAV - 0.4166666666666667\n",
      "Layer 8, Word family, Female TCAV - 0.5, Male TCAV - 0.5\n",
      "Layer 8, Word are, Female TCAV - 0.5833333333333334, Male TCAV - 0.5833333333333334\n",
      "Layer 8, Word less, Female TCAV - 0.6666666666666666, Male TCAV - 0.6666666666666666\n",
      "Layer 8, Word [MASK], Female TCAV - 0.75, Male TCAV - 0.75\n",
      "Layer 8, Word and, Female TCAV - 0.8333333333333334, Male TCAV - 0.8333333333333334\n",
      "Layer 8, Word poor, Female TCAV - 0.9166666666666666, Male TCAV - 0.9166666666666666\n",
      "Layer 8, Word breadwinners, Female TCAV - 1.0, Male TCAV - 1.0\n",
      "Layer 9, Word [MASK], Female TCAV - 0.08333333333333333, Male TCAV - 0.08333333333333333\n",
      "Layer 9, Word who, Female TCAV - 0.16666666666666666, Male TCAV - 0.16666666666666666\n",
      "Layer 9, Word spend, Female TCAV - 0.25, Male TCAV - 0.25\n",
      "Layer 9, Word time, Female TCAV - 0.3333333333333333, Male TCAV - 0.3333333333333333\n",
      "Layer 9, Word with, Female TCAV - 0.4166666666666667, Male TCAV - 0.3333333333333333\n",
      "Layer 9, Word family, Female TCAV - 0.5, Male TCAV - 0.4166666666666667\n",
      "Layer 9, Word are, Female TCAV - 0.5833333333333334, Male TCAV - 0.5\n",
      "Layer 9, Word less, Female TCAV - 0.6666666666666666, Male TCAV - 0.5833333333333334\n",
      "Layer 9, Word [MASK], Female TCAV - 0.75, Male TCAV - 0.6666666666666666\n",
      "Layer 9, Word and, Female TCAV - 0.8333333333333334, Male TCAV - 0.75\n",
      "Layer 9, Word poor, Female TCAV - 0.9166666666666666, Male TCAV - 0.8333333333333334\n",
      "Layer 9, Word breadwinners, Female TCAV - 1.0, Male TCAV - 0.9166666666666666\n",
      "Layer 10, Word [MASK], Female TCAV - 0.08333333333333333, Male TCAV - 0.08333333333333333\n",
      "Layer 10, Word who, Female TCAV - 0.16666666666666666, Male TCAV - 0.16666666666666666\n",
      "Layer 10, Word spend, Female TCAV - 0.25, Male TCAV - 0.25\n",
      "Layer 10, Word time, Female TCAV - 0.3333333333333333, Male TCAV - 0.3333333333333333\n",
      "Layer 10, Word with, Female TCAV - 0.3333333333333333, Male TCAV - 0.3333333333333333\n",
      "Layer 10, Word family, Female TCAV - 0.3333333333333333, Male TCAV - 0.4166666666666667\n",
      "Layer 10, Word are, Female TCAV - 0.3333333333333333, Male TCAV - 0.5\n",
      "Layer 10, Word less, Female TCAV - 0.3333333333333333, Male TCAV - 0.5833333333333334\n",
      "Layer 10, Word [MASK], Female TCAV - 0.3333333333333333, Male TCAV - 0.6666666666666666\n",
      "Layer 10, Word and, Female TCAV - 0.3333333333333333, Male TCAV - 0.6666666666666666\n",
      "Layer 10, Word poor, Female TCAV - 0.3333333333333333, Male TCAV - 0.75\n",
      "Layer 10, Word breadwinners, Female TCAV - 0.3333333333333333, Male TCAV - 0.8333333333333334\n",
      "Layer 11, Word [MASK], Female TCAV - 0.0, Male TCAV - 0.08333333333333333\n",
      "Layer 11, Word who, Female TCAV - 0.08333333333333333, Male TCAV - 0.16666666666666666\n",
      "Layer 11, Word spend, Female TCAV - 0.16666666666666666, Male TCAV - 0.25\n",
      "Layer 11, Word time, Female TCAV - 0.16666666666666666, Male TCAV - 0.25\n",
      "Layer 11, Word with, Female TCAV - 0.16666666666666666, Male TCAV - 0.25\n",
      "Layer 11, Word family, Female TCAV - 0.16666666666666666, Male TCAV - 0.3333333333333333\n",
      "Layer 11, Word are, Female TCAV - 0.16666666666666666, Male TCAV - 0.4166666666666667\n",
      "Layer 11, Word less, Female TCAV - 0.16666666666666666, Male TCAV - 0.4166666666666667\n",
      "Layer 11, Word [MASK], Female TCAV - 0.16666666666666666, Male TCAV - 0.5\n",
      "Layer 11, Word and, Female TCAV - 0.16666666666666666, Male TCAV - 0.5833333333333334\n",
      "Layer 11, Word poor, Female TCAV - 0.16666666666666666, Male TCAV - 0.6666666666666666\n",
      "Layer 11, Word breadwinners, Female TCAV - 0.16666666666666666, Male TCAV - 0.75\n",
      "Layer 12, Word [MASK], Female TCAV - 0.0, Male TCAV - 0.08333333333333333\n",
      "Layer 12, Word who, Female TCAV - 0.0, Male TCAV - 0.16666666666666666\n",
      "Layer 12, Word spend, Female TCAV - 0.0, Male TCAV - 0.25\n",
      "Layer 12, Word time, Female TCAV - 0.0, Male TCAV - 0.25\n",
      "Layer 12, Word with, Female TCAV - 0.0, Male TCAV - 0.25\n",
      "Layer 12, Word family, Female TCAV - 0.0, Male TCAV - 0.25\n",
      "Layer 12, Word are, Female TCAV - 0.0, Male TCAV - 0.25\n",
      "Layer 12, Word less, Female TCAV - 0.0, Male TCAV - 0.25\n",
      "Layer 12, Word [MASK], Female TCAV - 0.0, Male TCAV - 0.25\n",
      "Layer 12, Word and, Female TCAV - 0.0, Male TCAV - 0.25\n",
      "Layer 12, Word poor, Female TCAV - 0.0, Male TCAV - 0.25\n",
      "Layer 12, Word breadwinners, Female TCAV - 0.0, Male TCAV - 0.25\n",
      "Layer 13, Word [MASK], Female TCAV - 0.08333333333333333, Male TCAV - 0.08333333333333333\n",
      "Layer 13, Word who, Female TCAV - 0.16666666666666666, Male TCAV - 0.16666666666666666\n",
      "Layer 13, Word spend, Female TCAV - 0.16666666666666666, Male TCAV - 0.25\n",
      "Layer 13, Word time, Female TCAV - 0.25, Male TCAV - 0.25\n",
      "Layer 13, Word with, Female TCAV - 0.3333333333333333, Male TCAV - 0.25\n",
      "Layer 13, Word family, Female TCAV - 0.3333333333333333, Male TCAV - 0.25\n",
      "Layer 13, Word are, Female TCAV - 0.4166666666666667, Male TCAV - 0.3333333333333333\n",
      "Layer 13, Word less, Female TCAV - 0.5, Male TCAV - 0.4166666666666667\n",
      "Layer 13, Word [MASK], Female TCAV - 0.5, Male TCAV - 0.5\n",
      "Layer 13, Word and, Female TCAV - 0.5833333333333334, Male TCAV - 0.5833333333333334\n",
      "Layer 13, Word poor, Female TCAV - 0.5833333333333334, Male TCAV - 0.6666666666666666\n",
      "Layer 13, Word breadwinners, Female TCAV - 0.5833333333333334, Male TCAV - 0.75\n"
     ]
    }
   ],
   "source": [
    "results = {k: [] for k in range(1, num_layers+1)}\n",
    "\n",
    "for jx, sent in enumerate(stereo_sents):\n",
    "    print(sent)\n",
    "    words = list(sent.split(' '))\n",
    "    for ix in range(1, num_layers+1):\n",
    "        \n",
    "        stereo_act_per_layer_per_sent = stereotyped_acts_mod[str(ix)][jx]\n",
    "        female_cav_per_layer = layer_wise_cavs[f\"standard-{ix}\"][\"female\"]\n",
    "        male_cav_per_layer = layer_wise_cavs[f\"standard-{ix}\"][\"male\"]\n",
    "        f_count = 0\n",
    "        m_count = 0\n",
    "        \n",
    "        for fx, act in enumerate(stereo_act_per_layer_per_sent):\n",
    "            dydx_f = compute_direc_derivative(act, female_cav_per_layer)\n",
    "            dydx_m = compute_direc_derivative(act, male_cav_per_layer)\n",
    "            \n",
    "            if dydx_f: \n",
    "                f_count += 1\n",
    "            if dydx_m:\n",
    "                m_count += 1\n",
    "                \n",
    "            # do this to get word by word weightage (TCAV)\n",
    "            tcav_f = float(f_count)/float(len(stereo_act_per_layer_per_sent))\n",
    "            tcav_m = float(m_count)/float(len(stereo_act_per_layer_per_sent))\n",
    "        \n",
    "            print(f\"Layer {ix}, Word {words[fx]}, Female TCAV - {tcav_f}, Male TCAV - {tcav_m}\")\n",
    "            results[ix].append((words[fx], tcav_f, tcav_m))\n",
    "        \n",
    "        tcav_f_total = float(f_count)/float(len(stereo_act_per_layer_per_sent))\n",
    "        tcav_m_total = float(m_count)/float(len(stereo_act_per_layer_per_sent))\n",
    "        #print(f\"Layer {ix}, Total Female TCAV - {tcav_f_total}, Total Male TCAV - {tcav_m_total}\")\n"
   ]
  },
  {
   "cell_type": "code",
   "execution_count": 87,
   "metadata": {},
   "outputs": [
    {
     "name": "stdout",
     "output_type": "stream",
     "text": [
      "For Layer - 1\n",
      "\n",
      "Female\n"
     ]
    },
    {
     "data": {
      "text/html": [
       "<span style=\"background-color:rgba(255,255,255,0.2);\">[MASK]</span> <span style=\"background-color:rgba(255,255,255,0.4);\">should</span> <span style=\"background-color:rgba(255,255,255,0.6);\">play</span> <span style=\"background-color:rgba(255,0,0,0.6);\">with</span> <span style=\"background-color:rgba(255,0,0,0.6);\">dolls</span> <span style=\"background-color:rgba(255,255,255,0.2);\">[MASK]</span> <span style=\"background-color:rgba(255,255,255,0.4);\">should</span> <span style=\"background-color:rgba(255,255,255,0.6);\">play</span> <span style=\"background-color:rgba(255,0,0,0.6);\">with</span> <span style=\"background-color:rgba(255,0,0,0.6);\">trucks</span> <span style=\"background-color:rgba(255,255,255,0.09090909090909091);\">There</span> <span style=\"background-color:rgba(255,255,255,0.09090909090909091);\">is</span> <span style=\"background-color:rgba(255,255,255,0.18181818181818182);\">something</span> <span style=\"background-color:rgba(255,255,255,0.2727272727272727);\">wrong</span> <span style=\"background-color:rgba(255,0,0,0.2727272727272727);\">with</span> <span style=\"background-color:rgba(255,0,0,0.36363636363636365);\">a</span> <span style=\"background-color:rgba(255,0,0,0.45454545454545453);\">[MASK]</span> <span style=\"background-color:rgba(255,0,0,0.5454545454545454);\">who</span> <span style=\"background-color:rgba(255,0,0,0.6363636363636364);\">doesn’t</span> <span style=\"background-color:rgba(255,0,0,0.7272727272727273);\">want</span> <span style=\"background-color:rgba(255,0,0,0.8181818181818182);\">children</span> <span style=\"background-color:rgba(255,255,255,0.1);\">Assertive</span> <span style=\"background-color:rgba(255,255,255,0.2);\">[MASK]</span> <span style=\"background-color:rgba(255,255,255,0.3);\">are</span> <span style=\"background-color:rgba(255,0,0,0.4);\">[MASK]</span> <span style=\"background-color:rgba(255,255,255,0.5);\">and</span> <span style=\"background-color:rgba(255,255,255,0.6);\">are</span> <span style=\"background-color:rgba(255,255,255,0.7);\">bossy,</span> <span style=\"background-color:rgba(255,0,0,0.8);\">bitches</span> <span style=\"background-color:rgba(255,255,255,0.9);\">or</span> <span style=\"background-color:rgba(255,255,255,1.0);\">whores</span> <span style=\"background-color:rgba(255,255,255,0.09090909090909091);\">Assertive</span> <span style=\"background-color:rgba(255,255,255,0.18181818181818182);\">[MASK]</span> <span style=\"background-color:rgba(255,255,255,0.2727272727272727);\">are</span> <span style=\"background-color:rgba(255,255,255,0.36363636363636365);\">less</span> <span style=\"background-color:rgba(255,255,255,0.36363636363636365);\">[MASK]</span> <span style=\"background-color:rgba(255,255,255,0.36363636363636365);\">and</span> <span style=\"background-color:rgba(255,255,255,0.45454545454545453);\">are</span> <span style=\"background-color:rgba(255,255,255,0.5454545454545454);\">bossy,</span> <span style=\"background-color:rgba(255,255,255,0.6363636363636364);\">bitches</span> <span style=\"background-color:rgba(255,255,255,0.7272727272727273);\">or</span> <span style=\"background-color:rgba(255,255,255,0.8181818181818182);\">whores</span> <span style=\"background-color:rgba(255,255,255,0.14285714285714285);\">Assertive</span> <span style=\"background-color:rgba(255,0,0,0.2857142857142857);\">[MASK]</span> <span style=\"background-color:rgba(255,0,0,0.42857142857142855);\">are</span> <span style=\"background-color:rgba(255,0,0,0.5714285714285714);\">bossy,</span> <span style=\"background-color:rgba(255,0,0,0.7142857142857143);\">bitches</span> <span style=\"background-color:rgba(255,0,0,0.8571428571428571);\">or</span> <span style=\"background-color:rgba(255,0,0,1.0);\">whores</span> <span style=\"background-color:rgba(255,255,255,0.08333333333333333);\">[MASK]</span> <span style=\"background-color:rgba(255,255,255,0.16666666666666666);\">who</span> <span style=\"background-color:rgba(255,255,255,0.25);\">spend</span> <span style=\"background-color:rgba(255,255,255,0.3333333333333333);\">time</span> <span style=\"background-color:rgba(255,255,255,0.3333333333333333);\">with</span> <span style=\"background-color:rgba(255,255,255,0.3333333333333333);\">family</span> <span style=\"background-color:rgba(255,0,0,0.3333333333333333);\">are</span> <span style=\"background-color:rgba(255,0,0,0.3333333333333333);\">less</span> <span style=\"background-color:rgba(255,0,0,0.3333333333333333);\">[MASK]</span> <span style=\"background-color:rgba(255,0,0,0.4166666666666667);\">and</span> <span style=\"background-color:rgba(255,0,0,0.5);\">poor</span> <span style=\"background-color:rgba(255,0,0,0.5833333333333334);\">breadwinners</span>"
      ],
      "text/plain": [
       "<IPython.core.display.HTML object>"
      ]
     },
     "metadata": {},
     "output_type": "display_data"
    },
    {
     "name": "stdout",
     "output_type": "stream",
     "text": [
      "Male\n"
     ]
    },
    {
     "data": {
      "text/html": [
       "<span style=\"background-color:rgba(255,255,255,0.2);\">[MASK]</span> <span style=\"background-color:rgba(255,255,255,0.4);\">should</span> <span style=\"background-color:rgba(255,255,255,0.6);\">play</span> <span style=\"background-color:rgba(255,0,0,0.8);\">with</span> <span style=\"background-color:rgba(255,0,0,1.0);\">dolls</span> <span style=\"background-color:rgba(255,255,255,0.2);\">[MASK]</span> <span style=\"background-color:rgba(255,255,255,0.4);\">should</span> <span style=\"background-color:rgba(255,255,255,0.6);\">play</span> <span style=\"background-color:rgba(255,0,0,0.8);\">with</span> <span style=\"background-color:rgba(255,0,0,1.0);\">trucks</span> <span style=\"background-color:rgba(255,255,255,0.09090909090909091);\">There</span> <span style=\"background-color:rgba(255,255,255,0.18181818181818182);\">is</span> <span style=\"background-color:rgba(255,255,255,0.2727272727272727);\">something</span> <span style=\"background-color:rgba(255,255,255,0.36363636363636365);\">wrong</span> <span style=\"background-color:rgba(255,0,0,0.45454545454545453);\">with</span> <span style=\"background-color:rgba(255,0,0,0.5454545454545454);\">a</span> <span style=\"background-color:rgba(255,0,0,0.6363636363636364);\">[MASK]</span> <span style=\"background-color:rgba(255,0,0,0.7272727272727273);\">who</span> <span style=\"background-color:rgba(255,0,0,0.8181818181818182);\">doesn’t</span> <span style=\"background-color:rgba(255,0,0,0.9090909090909091);\">want</span> <span style=\"background-color:rgba(255,0,0,1.0);\">children</span> <span style=\"background-color:rgba(255,255,255,0.1);\">Assertive</span> <span style=\"background-color:rgba(255,255,255,0.1);\">[MASK]</span> <span style=\"background-color:rgba(255,255,255,0.2);\">are</span> <span style=\"background-color:rgba(255,0,0,0.3);\">[MASK]</span> <span style=\"background-color:rgba(255,255,255,0.4);\">and</span> <span style=\"background-color:rgba(255,255,255,0.5);\">are</span> <span style=\"background-color:rgba(255,255,255,0.6);\">bossy,</span> <span style=\"background-color:rgba(255,0,0,0.7);\">bitches</span> <span style=\"background-color:rgba(255,255,255,0.8);\">or</span> <span style=\"background-color:rgba(255,255,255,0.9);\">whores</span> <span style=\"background-color:rgba(255,255,255,0.09090909090909091);\">Assertive</span> <span style=\"background-color:rgba(255,255,255,0.09090909090909091);\">[MASK]</span> <span style=\"background-color:rgba(255,255,255,0.18181818181818182);\">are</span> <span style=\"background-color:rgba(255,255,255,0.2727272727272727);\">less</span> <span style=\"background-color:rgba(255,255,255,0.36363636363636365);\">[MASK]</span> <span style=\"background-color:rgba(255,255,255,0.45454545454545453);\">and</span> <span style=\"background-color:rgba(255,255,255,0.5454545454545454);\">are</span> <span style=\"background-color:rgba(255,255,255,0.6363636363636364);\">bossy,</span> <span style=\"background-color:rgba(255,255,255,0.7272727272727273);\">bitches</span> <span style=\"background-color:rgba(255,255,255,0.8181818181818182);\">or</span> <span style=\"background-color:rgba(255,255,255,0.9090909090909091);\">whores</span> <span style=\"background-color:rgba(255,255,255,0.14285714285714285);\">Assertive</span> <span style=\"background-color:rgba(255,0,0,0.14285714285714285);\">[MASK]</span> <span style=\"background-color:rgba(255,0,0,0.2857142857142857);\">are</span> <span style=\"background-color:rgba(255,0,0,0.42857142857142855);\">bossy,</span> <span style=\"background-color:rgba(255,0,0,0.5714285714285714);\">bitches</span> <span style=\"background-color:rgba(255,0,0,0.7142857142857143);\">or</span> <span style=\"background-color:rgba(255,0,0,0.8571428571428571);\">whores</span> <span style=\"background-color:rgba(255,255,255,0.08333333333333333);\">[MASK]</span> <span style=\"background-color:rgba(255,255,255,0.16666666666666666);\">who</span> <span style=\"background-color:rgba(255,255,255,0.25);\">spend</span> <span style=\"background-color:rgba(255,255,255,0.3333333333333333);\">time</span> <span style=\"background-color:rgba(255,255,255,0.3333333333333333);\">with</span> <span style=\"background-color:rgba(255,255,255,0.4166666666666667);\">family</span> <span style=\"background-color:rgba(255,0,0,0.5);\">are</span> <span style=\"background-color:rgba(255,0,0,0.5833333333333334);\">less</span> <span style=\"background-color:rgba(255,0,0,0.6666666666666666);\">[MASK]</span> <span style=\"background-color:rgba(255,0,0,0.75);\">and</span> <span style=\"background-color:rgba(255,0,0,0.8333333333333334);\">poor</span> <span style=\"background-color:rgba(255,0,0,0.9166666666666666);\">breadwinners</span>"
      ],
      "text/plain": [
       "<IPython.core.display.HTML object>"
      ]
     },
     "metadata": {},
     "output_type": "display_data"
    },
    {
     "name": "stdout",
     "output_type": "stream",
     "text": [
      "For Layer - 2\n",
      "\n",
      "Female\n"
     ]
    },
    {
     "data": {
      "text/html": [
       "<span style=\"background-color:rgba(255,255,255,0.2);\">[MASK]</span> <span style=\"background-color:rgba(255,255,255,0.4);\">should</span> <span style=\"background-color:rgba(255,255,255,0.6);\">play</span> <span style=\"background-color:rgba(255,255,255,0.8);\">with</span> <span style=\"background-color:rgba(255,255,255,1.0);\">dolls</span> <span style=\"background-color:rgba(255,255,255,0.2);\">[MASK]</span> <span style=\"background-color:rgba(255,255,255,0.4);\">should</span> <span style=\"background-color:rgba(255,255,255,0.6);\">play</span> <span style=\"background-color:rgba(255,255,255,0.8);\">with</span> <span style=\"background-color:rgba(255,255,255,1.0);\">trucks</span> <span style=\"background-color:rgba(255,255,255,0.09090909090909091);\">There</span> <span style=\"background-color:rgba(255,255,255,0.18181818181818182);\">is</span> <span style=\"background-color:rgba(255,255,255,0.2727272727272727);\">something</span> <span style=\"background-color:rgba(255,255,255,0.36363636363636365);\">wrong</span> <span style=\"background-color:rgba(255,255,255,0.45454545454545453);\">with</span> <span style=\"background-color:rgba(255,255,255,0.5454545454545454);\">a</span> <span style=\"background-color:rgba(255,255,255,0.6363636363636364);\">[MASK]</span> <span style=\"background-color:rgba(255,255,255,0.7272727272727273);\">who</span> <span style=\"background-color:rgba(255,255,255,0.8181818181818182);\">doesn’t</span> <span style=\"background-color:rgba(255,255,255,0.9090909090909091);\">want</span> <span style=\"background-color:rgba(255,255,255,1.0);\">children</span> <span style=\"background-color:rgba(255,255,255,0.1);\">Assertive</span> <span style=\"background-color:rgba(255,255,255,0.2);\">[MASK]</span> <span style=\"background-color:rgba(255,255,255,0.3);\">are</span> <span style=\"background-color:rgba(255,255,255,0.4);\">[MASK]</span> <span style=\"background-color:rgba(255,255,255,0.5);\">and</span> <span style=\"background-color:rgba(255,255,255,0.6);\">are</span> <span style=\"background-color:rgba(255,255,255,0.7);\">bossy,</span> <span style=\"background-color:rgba(255,255,255,0.8);\">bitches</span> <span style=\"background-color:rgba(255,255,255,0.9);\">or</span> <span style=\"background-color:rgba(255,255,255,1.0);\">whores</span> <span style=\"background-color:rgba(255,255,255,0.09090909090909091);\">Assertive</span> <span style=\"background-color:rgba(255,255,255,0.18181818181818182);\">[MASK]</span> <span style=\"background-color:rgba(255,255,255,0.2727272727272727);\">are</span> <span style=\"background-color:rgba(255,255,255,0.36363636363636365);\">less</span> <span style=\"background-color:rgba(255,255,255,0.45454545454545453);\">[MASK]</span> <span style=\"background-color:rgba(255,255,255,0.5454545454545454);\">and</span> <span style=\"background-color:rgba(255,255,255,0.6363636363636364);\">are</span> <span style=\"background-color:rgba(255,255,255,0.7272727272727273);\">bossy,</span> <span style=\"background-color:rgba(255,255,255,0.8181818181818182);\">bitches</span> <span style=\"background-color:rgba(255,255,255,0.9090909090909091);\">or</span> <span style=\"background-color:rgba(255,255,255,1.0);\">whores</span> <span style=\"background-color:rgba(255,255,255,0.14285714285714285);\">Assertive</span> <span style=\"background-color:rgba(255,255,255,0.2857142857142857);\">[MASK]</span> <span style=\"background-color:rgba(255,255,255,0.42857142857142855);\">are</span> <span style=\"background-color:rgba(255,255,255,0.5714285714285714);\">bossy,</span> <span style=\"background-color:rgba(255,255,255,0.7142857142857143);\">bitches</span> <span style=\"background-color:rgba(255,255,255,0.8571428571428571);\">or</span> <span style=\"background-color:rgba(255,255,255,1.0);\">whores</span> <span style=\"background-color:rgba(255,255,255,0.08333333333333333);\">[MASK]</span> <span style=\"background-color:rgba(255,255,255,0.16666666666666666);\">who</span> <span style=\"background-color:rgba(255,255,255,0.25);\">spend</span> <span style=\"background-color:rgba(255,255,255,0.3333333333333333);\">time</span> <span style=\"background-color:rgba(255,255,255,0.4166666666666667);\">with</span> <span style=\"background-color:rgba(255,255,255,0.5);\">family</span> <span style=\"background-color:rgba(255,255,255,0.5833333333333334);\">are</span> <span style=\"background-color:rgba(255,255,255,0.6666666666666666);\">less</span> <span style=\"background-color:rgba(255,255,255,0.75);\">[MASK]</span> <span style=\"background-color:rgba(255,255,255,0.8333333333333334);\">and</span> <span style=\"background-color:rgba(255,255,255,0.9166666666666666);\">poor</span> <span style=\"background-color:rgba(255,255,255,1.0);\">breadwinners</span>"
      ],
      "text/plain": [
       "<IPython.core.display.HTML object>"
      ]
     },
     "metadata": {},
     "output_type": "display_data"
    },
    {
     "name": "stdout",
     "output_type": "stream",
     "text": [
      "Male\n"
     ]
    },
    {
     "data": {
      "text/html": [
       "<span style=\"background-color:rgba(255,255,255,0.2);\">[MASK]</span> <span style=\"background-color:rgba(255,255,255,0.4);\">should</span> <span style=\"background-color:rgba(255,255,255,0.6);\">play</span> <span style=\"background-color:rgba(255,255,255,0.8);\">with</span> <span style=\"background-color:rgba(255,255,255,1.0);\">dolls</span> <span style=\"background-color:rgba(255,255,255,0.2);\">[MASK]</span> <span style=\"background-color:rgba(255,255,255,0.4);\">should</span> <span style=\"background-color:rgba(255,255,255,0.6);\">play</span> <span style=\"background-color:rgba(255,255,255,0.8);\">with</span> <span style=\"background-color:rgba(255,255,255,1.0);\">trucks</span> <span style=\"background-color:rgba(255,255,255,0.09090909090909091);\">There</span> <span style=\"background-color:rgba(255,255,255,0.18181818181818182);\">is</span> <span style=\"background-color:rgba(255,255,255,0.2727272727272727);\">something</span> <span style=\"background-color:rgba(255,255,255,0.36363636363636365);\">wrong</span> <span style=\"background-color:rgba(255,255,255,0.45454545454545453);\">with</span> <span style=\"background-color:rgba(255,255,255,0.5454545454545454);\">a</span> <span style=\"background-color:rgba(255,255,255,0.6363636363636364);\">[MASK]</span> <span style=\"background-color:rgba(255,255,255,0.7272727272727273);\">who</span> <span style=\"background-color:rgba(255,255,255,0.8181818181818182);\">doesn’t</span> <span style=\"background-color:rgba(255,255,255,0.9090909090909091);\">want</span> <span style=\"background-color:rgba(255,255,255,1.0);\">children</span> <span style=\"background-color:rgba(255,255,255,0.1);\">Assertive</span> <span style=\"background-color:rgba(255,255,255,0.2);\">[MASK]</span> <span style=\"background-color:rgba(255,255,255,0.3);\">are</span> <span style=\"background-color:rgba(255,255,255,0.4);\">[MASK]</span> <span style=\"background-color:rgba(255,255,255,0.5);\">and</span> <span style=\"background-color:rgba(255,255,255,0.6);\">are</span> <span style=\"background-color:rgba(255,255,255,0.7);\">bossy,</span> <span style=\"background-color:rgba(255,255,255,0.8);\">bitches</span> <span style=\"background-color:rgba(255,255,255,0.9);\">or</span> <span style=\"background-color:rgba(255,255,255,1.0);\">whores</span> <span style=\"background-color:rgba(255,255,255,0.09090909090909091);\">Assertive</span> <span style=\"background-color:rgba(255,255,255,0.18181818181818182);\">[MASK]</span> <span style=\"background-color:rgba(255,255,255,0.2727272727272727);\">are</span> <span style=\"background-color:rgba(255,255,255,0.36363636363636365);\">less</span> <span style=\"background-color:rgba(255,255,255,0.45454545454545453);\">[MASK]</span> <span style=\"background-color:rgba(255,255,255,0.5454545454545454);\">and</span> <span style=\"background-color:rgba(255,255,255,0.6363636363636364);\">are</span> <span style=\"background-color:rgba(255,255,255,0.7272727272727273);\">bossy,</span> <span style=\"background-color:rgba(255,255,255,0.8181818181818182);\">bitches</span> <span style=\"background-color:rgba(255,255,255,0.9090909090909091);\">or</span> <span style=\"background-color:rgba(255,255,255,1.0);\">whores</span> <span style=\"background-color:rgba(255,255,255,0.14285714285714285);\">Assertive</span> <span style=\"background-color:rgba(255,255,255,0.2857142857142857);\">[MASK]</span> <span style=\"background-color:rgba(255,255,255,0.42857142857142855);\">are</span> <span style=\"background-color:rgba(255,255,255,0.5714285714285714);\">bossy,</span> <span style=\"background-color:rgba(255,255,255,0.7142857142857143);\">bitches</span> <span style=\"background-color:rgba(255,255,255,0.8571428571428571);\">or</span> <span style=\"background-color:rgba(255,255,255,1.0);\">whores</span> <span style=\"background-color:rgba(255,255,255,0.08333333333333333);\">[MASK]</span> <span style=\"background-color:rgba(255,255,255,0.16666666666666666);\">who</span> <span style=\"background-color:rgba(255,255,255,0.25);\">spend</span> <span style=\"background-color:rgba(255,255,255,0.3333333333333333);\">time</span> <span style=\"background-color:rgba(255,255,255,0.4166666666666667);\">with</span> <span style=\"background-color:rgba(255,255,255,0.5);\">family</span> <span style=\"background-color:rgba(255,255,255,0.5833333333333334);\">are</span> <span style=\"background-color:rgba(255,255,255,0.6666666666666666);\">less</span> <span style=\"background-color:rgba(255,255,255,0.75);\">[MASK]</span> <span style=\"background-color:rgba(255,255,255,0.8333333333333334);\">and</span> <span style=\"background-color:rgba(255,255,255,0.9166666666666666);\">poor</span> <span style=\"background-color:rgba(255,255,255,1.0);\">breadwinners</span>"
      ],
      "text/plain": [
       "<IPython.core.display.HTML object>"
      ]
     },
     "metadata": {},
     "output_type": "display_data"
    },
    {
     "name": "stdout",
     "output_type": "stream",
     "text": [
      "For Layer - 3\n",
      "\n",
      "Female\n"
     ]
    },
    {
     "data": {
      "text/html": [
       "<span style=\"background-color:rgba(255,255,255,0.2);\">[MASK]</span> <span style=\"background-color:rgba(255,255,255,0.4);\">should</span> <span style=\"background-color:rgba(255,255,255,0.6);\">play</span> <span style=\"background-color:rgba(255,255,255,0.8);\">with</span> <span style=\"background-color:rgba(255,255,255,1.0);\">dolls</span> <span style=\"background-color:rgba(255,255,255,0.2);\">[MASK]</span> <span style=\"background-color:rgba(255,255,255,0.4);\">should</span> <span style=\"background-color:rgba(255,255,255,0.6);\">play</span> <span style=\"background-color:rgba(255,255,255,0.8);\">with</span> <span style=\"background-color:rgba(255,255,255,1.0);\">trucks</span> <span style=\"background-color:rgba(255,255,255,0.09090909090909091);\">There</span> <span style=\"background-color:rgba(255,255,255,0.18181818181818182);\">is</span> <span style=\"background-color:rgba(255,255,255,0.2727272727272727);\">something</span> <span style=\"background-color:rgba(255,255,255,0.36363636363636365);\">wrong</span> <span style=\"background-color:rgba(255,255,255,0.45454545454545453);\">with</span> <span style=\"background-color:rgba(255,255,255,0.5454545454545454);\">a</span> <span style=\"background-color:rgba(255,255,255,0.6363636363636364);\">[MASK]</span> <span style=\"background-color:rgba(255,255,255,0.7272727272727273);\">who</span> <span style=\"background-color:rgba(255,255,255,0.8181818181818182);\">doesn’t</span> <span style=\"background-color:rgba(255,255,255,0.9090909090909091);\">want</span> <span style=\"background-color:rgba(255,255,255,1.0);\">children</span> <span style=\"background-color:rgba(255,255,255,0.1);\">Assertive</span> <span style=\"background-color:rgba(255,255,255,0.2);\">[MASK]</span> <span style=\"background-color:rgba(255,255,255,0.3);\">are</span> <span style=\"background-color:rgba(255,255,255,0.4);\">[MASK]</span> <span style=\"background-color:rgba(255,255,255,0.5);\">and</span> <span style=\"background-color:rgba(255,255,255,0.6);\">are</span> <span style=\"background-color:rgba(255,255,255,0.7);\">bossy,</span> <span style=\"background-color:rgba(255,255,255,0.8);\">bitches</span> <span style=\"background-color:rgba(255,255,255,0.9);\">or</span> <span style=\"background-color:rgba(255,255,255,1.0);\">whores</span> <span style=\"background-color:rgba(255,255,255,0.09090909090909091);\">Assertive</span> <span style=\"background-color:rgba(255,255,255,0.18181818181818182);\">[MASK]</span> <span style=\"background-color:rgba(255,255,255,0.2727272727272727);\">are</span> <span style=\"background-color:rgba(255,255,255,0.36363636363636365);\">less</span> <span style=\"background-color:rgba(255,255,255,0.45454545454545453);\">[MASK]</span> <span style=\"background-color:rgba(255,255,255,0.5454545454545454);\">and</span> <span style=\"background-color:rgba(255,255,255,0.6363636363636364);\">are</span> <span style=\"background-color:rgba(255,255,255,0.7272727272727273);\">bossy,</span> <span style=\"background-color:rgba(255,255,255,0.8181818181818182);\">bitches</span> <span style=\"background-color:rgba(255,255,255,0.9090909090909091);\">or</span> <span style=\"background-color:rgba(255,255,255,1.0);\">whores</span> <span style=\"background-color:rgba(255,255,255,0.14285714285714285);\">Assertive</span> <span style=\"background-color:rgba(255,255,255,0.2857142857142857);\">[MASK]</span> <span style=\"background-color:rgba(255,255,255,0.42857142857142855);\">are</span> <span style=\"background-color:rgba(255,255,255,0.5714285714285714);\">bossy,</span> <span style=\"background-color:rgba(255,255,255,0.7142857142857143);\">bitches</span> <span style=\"background-color:rgba(255,255,255,0.8571428571428571);\">or</span> <span style=\"background-color:rgba(255,255,255,1.0);\">whores</span> <span style=\"background-color:rgba(255,255,255,0.08333333333333333);\">[MASK]</span> <span style=\"background-color:rgba(255,255,255,0.16666666666666666);\">who</span> <span style=\"background-color:rgba(255,255,255,0.25);\">spend</span> <span style=\"background-color:rgba(255,255,255,0.3333333333333333);\">time</span> <span style=\"background-color:rgba(255,255,255,0.4166666666666667);\">with</span> <span style=\"background-color:rgba(255,255,255,0.5);\">family</span> <span style=\"background-color:rgba(255,255,255,0.5833333333333334);\">are</span> <span style=\"background-color:rgba(255,255,255,0.6666666666666666);\">less</span> <span style=\"background-color:rgba(255,255,255,0.75);\">[MASK]</span> <span style=\"background-color:rgba(255,255,255,0.8333333333333334);\">and</span> <span style=\"background-color:rgba(255,255,255,0.9166666666666666);\">poor</span> <span style=\"background-color:rgba(255,255,255,1.0);\">breadwinners</span>"
      ],
      "text/plain": [
       "<IPython.core.display.HTML object>"
      ]
     },
     "metadata": {},
     "output_type": "display_data"
    },
    {
     "name": "stdout",
     "output_type": "stream",
     "text": [
      "Male\n"
     ]
    },
    {
     "data": {
      "text/html": [
       "<span style=\"background-color:rgba(255,255,255,0.2);\">[MASK]</span> <span style=\"background-color:rgba(255,255,255,0.4);\">should</span> <span style=\"background-color:rgba(255,255,255,0.6);\">play</span> <span style=\"background-color:rgba(255,255,255,0.8);\">with</span> <span style=\"background-color:rgba(255,255,255,1.0);\">dolls</span> <span style=\"background-color:rgba(255,255,255,0.2);\">[MASK]</span> <span style=\"background-color:rgba(255,255,255,0.4);\">should</span> <span style=\"background-color:rgba(255,255,255,0.6);\">play</span> <span style=\"background-color:rgba(255,255,255,0.8);\">with</span> <span style=\"background-color:rgba(255,255,255,1.0);\">trucks</span> <span style=\"background-color:rgba(255,255,255,0.09090909090909091);\">There</span> <span style=\"background-color:rgba(255,255,255,0.18181818181818182);\">is</span> <span style=\"background-color:rgba(255,255,255,0.2727272727272727);\">something</span> <span style=\"background-color:rgba(255,255,255,0.36363636363636365);\">wrong</span> <span style=\"background-color:rgba(255,255,255,0.45454545454545453);\">with</span> <span style=\"background-color:rgba(255,255,255,0.5454545454545454);\">a</span> <span style=\"background-color:rgba(255,255,255,0.6363636363636364);\">[MASK]</span> <span style=\"background-color:rgba(255,255,255,0.7272727272727273);\">who</span> <span style=\"background-color:rgba(255,255,255,0.8181818181818182);\">doesn’t</span> <span style=\"background-color:rgba(255,255,255,0.9090909090909091);\">want</span> <span style=\"background-color:rgba(255,255,255,1.0);\">children</span> <span style=\"background-color:rgba(255,255,255,0.1);\">Assertive</span> <span style=\"background-color:rgba(255,255,255,0.2);\">[MASK]</span> <span style=\"background-color:rgba(255,255,255,0.3);\">are</span> <span style=\"background-color:rgba(255,255,255,0.4);\">[MASK]</span> <span style=\"background-color:rgba(255,255,255,0.5);\">and</span> <span style=\"background-color:rgba(255,255,255,0.6);\">are</span> <span style=\"background-color:rgba(255,255,255,0.7);\">bossy,</span> <span style=\"background-color:rgba(255,255,255,0.8);\">bitches</span> <span style=\"background-color:rgba(255,255,255,0.9);\">or</span> <span style=\"background-color:rgba(255,255,255,1.0);\">whores</span> <span style=\"background-color:rgba(255,255,255,0.09090909090909091);\">Assertive</span> <span style=\"background-color:rgba(255,255,255,0.18181818181818182);\">[MASK]</span> <span style=\"background-color:rgba(255,255,255,0.2727272727272727);\">are</span> <span style=\"background-color:rgba(255,255,255,0.36363636363636365);\">less</span> <span style=\"background-color:rgba(255,255,255,0.45454545454545453);\">[MASK]</span> <span style=\"background-color:rgba(255,255,255,0.5454545454545454);\">and</span> <span style=\"background-color:rgba(255,255,255,0.6363636363636364);\">are</span> <span style=\"background-color:rgba(255,255,255,0.7272727272727273);\">bossy,</span> <span style=\"background-color:rgba(255,255,255,0.8181818181818182);\">bitches</span> <span style=\"background-color:rgba(255,255,255,0.9090909090909091);\">or</span> <span style=\"background-color:rgba(255,255,255,1.0);\">whores</span> <span style=\"background-color:rgba(255,255,255,0.14285714285714285);\">Assertive</span> <span style=\"background-color:rgba(255,255,255,0.2857142857142857);\">[MASK]</span> <span style=\"background-color:rgba(255,255,255,0.42857142857142855);\">are</span> <span style=\"background-color:rgba(255,255,255,0.5714285714285714);\">bossy,</span> <span style=\"background-color:rgba(255,255,255,0.7142857142857143);\">bitches</span> <span style=\"background-color:rgba(255,255,255,0.8571428571428571);\">or</span> <span style=\"background-color:rgba(255,255,255,1.0);\">whores</span> <span style=\"background-color:rgba(255,255,255,0.08333333333333333);\">[MASK]</span> <span style=\"background-color:rgba(255,255,255,0.16666666666666666);\">who</span> <span style=\"background-color:rgba(255,255,255,0.25);\">spend</span> <span style=\"background-color:rgba(255,255,255,0.3333333333333333);\">time</span> <span style=\"background-color:rgba(255,255,255,0.4166666666666667);\">with</span> <span style=\"background-color:rgba(255,255,255,0.5);\">family</span> <span style=\"background-color:rgba(255,255,255,0.5833333333333334);\">are</span> <span style=\"background-color:rgba(255,255,255,0.6666666666666666);\">less</span> <span style=\"background-color:rgba(255,255,255,0.75);\">[MASK]</span> <span style=\"background-color:rgba(255,255,255,0.8333333333333334);\">and</span> <span style=\"background-color:rgba(255,255,255,0.9166666666666666);\">poor</span> <span style=\"background-color:rgba(255,255,255,1.0);\">breadwinners</span>"
      ],
      "text/plain": [
       "<IPython.core.display.HTML object>"
      ]
     },
     "metadata": {},
     "output_type": "display_data"
    },
    {
     "name": "stdout",
     "output_type": "stream",
     "text": [
      "For Layer - 4\n",
      "\n",
      "Female\n"
     ]
    },
    {
     "data": {
      "text/html": [
       "<span style=\"background-color:rgba(255,255,255,0.2);\">[MASK]</span> <span style=\"background-color:rgba(255,255,255,0.4);\">should</span> <span style=\"background-color:rgba(255,255,255,0.6);\">play</span> <span style=\"background-color:rgba(255,255,255,0.8);\">with</span> <span style=\"background-color:rgba(255,255,255,1.0);\">dolls</span> <span style=\"background-color:rgba(255,255,255,0.2);\">[MASK]</span> <span style=\"background-color:rgba(255,255,255,0.4);\">should</span> <span style=\"background-color:rgba(255,255,255,0.6);\">play</span> <span style=\"background-color:rgba(255,255,255,0.8);\">with</span> <span style=\"background-color:rgba(255,255,255,1.0);\">trucks</span> <span style=\"background-color:rgba(255,255,255,0.09090909090909091);\">There</span> <span style=\"background-color:rgba(255,255,255,0.18181818181818182);\">is</span> <span style=\"background-color:rgba(255,255,255,0.2727272727272727);\">something</span> <span style=\"background-color:rgba(255,255,255,0.36363636363636365);\">wrong</span> <span style=\"background-color:rgba(255,255,255,0.45454545454545453);\">with</span> <span style=\"background-color:rgba(255,255,255,0.5454545454545454);\">a</span> <span style=\"background-color:rgba(255,255,255,0.6363636363636364);\">[MASK]</span> <span style=\"background-color:rgba(255,255,255,0.7272727272727273);\">who</span> <span style=\"background-color:rgba(255,255,255,0.8181818181818182);\">doesn’t</span> <span style=\"background-color:rgba(255,255,255,0.9090909090909091);\">want</span> <span style=\"background-color:rgba(255,255,255,1.0);\">children</span> <span style=\"background-color:rgba(255,255,255,0.1);\">Assertive</span> <span style=\"background-color:rgba(255,255,255,0.2);\">[MASK]</span> <span style=\"background-color:rgba(255,255,255,0.3);\">are</span> <span style=\"background-color:rgba(255,255,255,0.4);\">[MASK]</span> <span style=\"background-color:rgba(255,255,255,0.5);\">and</span> <span style=\"background-color:rgba(255,255,255,0.6);\">are</span> <span style=\"background-color:rgba(255,255,255,0.7);\">bossy,</span> <span style=\"background-color:rgba(255,255,255,0.8);\">bitches</span> <span style=\"background-color:rgba(255,255,255,0.9);\">or</span> <span style=\"background-color:rgba(255,255,255,1.0);\">whores</span> <span style=\"background-color:rgba(255,255,255,0.09090909090909091);\">Assertive</span> <span style=\"background-color:rgba(255,255,255,0.18181818181818182);\">[MASK]</span> <span style=\"background-color:rgba(255,255,255,0.2727272727272727);\">are</span> <span style=\"background-color:rgba(255,255,255,0.36363636363636365);\">less</span> <span style=\"background-color:rgba(255,255,255,0.45454545454545453);\">[MASK]</span> <span style=\"background-color:rgba(255,255,255,0.5454545454545454);\">and</span> <span style=\"background-color:rgba(255,255,255,0.6363636363636364);\">are</span> <span style=\"background-color:rgba(255,255,255,0.7272727272727273);\">bossy,</span> <span style=\"background-color:rgba(255,255,255,0.8181818181818182);\">bitches</span> <span style=\"background-color:rgba(255,255,255,0.9090909090909091);\">or</span> <span style=\"background-color:rgba(255,255,255,1.0);\">whores</span> <span style=\"background-color:rgba(255,255,255,0.14285714285714285);\">Assertive</span> <span style=\"background-color:rgba(255,255,255,0.2857142857142857);\">[MASK]</span> <span style=\"background-color:rgba(255,255,255,0.42857142857142855);\">are</span> <span style=\"background-color:rgba(255,255,255,0.5714285714285714);\">bossy,</span> <span style=\"background-color:rgba(255,255,255,0.7142857142857143);\">bitches</span> <span style=\"background-color:rgba(255,255,255,0.8571428571428571);\">or</span> <span style=\"background-color:rgba(255,255,255,1.0);\">whores</span> <span style=\"background-color:rgba(255,255,255,0.08333333333333333);\">[MASK]</span> <span style=\"background-color:rgba(255,255,255,0.16666666666666666);\">who</span> <span style=\"background-color:rgba(255,255,255,0.25);\">spend</span> <span style=\"background-color:rgba(255,255,255,0.3333333333333333);\">time</span> <span style=\"background-color:rgba(255,255,255,0.4166666666666667);\">with</span> <span style=\"background-color:rgba(255,255,255,0.5);\">family</span> <span style=\"background-color:rgba(255,255,255,0.5833333333333334);\">are</span> <span style=\"background-color:rgba(255,255,255,0.6666666666666666);\">less</span> <span style=\"background-color:rgba(255,255,255,0.75);\">[MASK]</span> <span style=\"background-color:rgba(255,255,255,0.8333333333333334);\">and</span> <span style=\"background-color:rgba(255,255,255,0.9166666666666666);\">poor</span> <span style=\"background-color:rgba(255,255,255,1.0);\">breadwinners</span>"
      ],
      "text/plain": [
       "<IPython.core.display.HTML object>"
      ]
     },
     "metadata": {},
     "output_type": "display_data"
    },
    {
     "name": "stdout",
     "output_type": "stream",
     "text": [
      "Male\n"
     ]
    },
    {
     "data": {
      "text/html": [
       "<span style=\"background-color:rgba(255,255,255,0.2);\">[MASK]</span> <span style=\"background-color:rgba(255,255,255,0.4);\">should</span> <span style=\"background-color:rgba(255,255,255,0.6);\">play</span> <span style=\"background-color:rgba(255,255,255,0.8);\">with</span> <span style=\"background-color:rgba(255,255,255,1.0);\">dolls</span> <span style=\"background-color:rgba(255,255,255,0.2);\">[MASK]</span> <span style=\"background-color:rgba(255,255,255,0.4);\">should</span> <span style=\"background-color:rgba(255,255,255,0.6);\">play</span> <span style=\"background-color:rgba(255,255,255,0.8);\">with</span> <span style=\"background-color:rgba(255,255,255,1.0);\">trucks</span> <span style=\"background-color:rgba(255,255,255,0.09090909090909091);\">There</span> <span style=\"background-color:rgba(255,255,255,0.18181818181818182);\">is</span> <span style=\"background-color:rgba(255,255,255,0.2727272727272727);\">something</span> <span style=\"background-color:rgba(255,255,255,0.36363636363636365);\">wrong</span> <span style=\"background-color:rgba(255,255,255,0.45454545454545453);\">with</span> <span style=\"background-color:rgba(255,255,255,0.5454545454545454);\">a</span> <span style=\"background-color:rgba(255,255,255,0.6363636363636364);\">[MASK]</span> <span style=\"background-color:rgba(255,255,255,0.7272727272727273);\">who</span> <span style=\"background-color:rgba(255,255,255,0.8181818181818182);\">doesn’t</span> <span style=\"background-color:rgba(255,255,255,0.9090909090909091);\">want</span> <span style=\"background-color:rgba(255,255,255,1.0);\">children</span> <span style=\"background-color:rgba(255,255,255,0.1);\">Assertive</span> <span style=\"background-color:rgba(255,255,255,0.2);\">[MASK]</span> <span style=\"background-color:rgba(255,255,255,0.3);\">are</span> <span style=\"background-color:rgba(255,255,255,0.4);\">[MASK]</span> <span style=\"background-color:rgba(255,255,255,0.5);\">and</span> <span style=\"background-color:rgba(255,255,255,0.6);\">are</span> <span style=\"background-color:rgba(255,255,255,0.7);\">bossy,</span> <span style=\"background-color:rgba(255,255,255,0.8);\">bitches</span> <span style=\"background-color:rgba(255,255,255,0.9);\">or</span> <span style=\"background-color:rgba(255,255,255,1.0);\">whores</span> <span style=\"background-color:rgba(255,255,255,0.09090909090909091);\">Assertive</span> <span style=\"background-color:rgba(255,255,255,0.18181818181818182);\">[MASK]</span> <span style=\"background-color:rgba(255,255,255,0.2727272727272727);\">are</span> <span style=\"background-color:rgba(255,255,255,0.36363636363636365);\">less</span> <span style=\"background-color:rgba(255,255,255,0.45454545454545453);\">[MASK]</span> <span style=\"background-color:rgba(255,255,255,0.5454545454545454);\">and</span> <span style=\"background-color:rgba(255,255,255,0.6363636363636364);\">are</span> <span style=\"background-color:rgba(255,255,255,0.7272727272727273);\">bossy,</span> <span style=\"background-color:rgba(255,255,255,0.8181818181818182);\">bitches</span> <span style=\"background-color:rgba(255,255,255,0.9090909090909091);\">or</span> <span style=\"background-color:rgba(255,255,255,1.0);\">whores</span> <span style=\"background-color:rgba(255,255,255,0.14285714285714285);\">Assertive</span> <span style=\"background-color:rgba(255,255,255,0.2857142857142857);\">[MASK]</span> <span style=\"background-color:rgba(255,255,255,0.42857142857142855);\">are</span> <span style=\"background-color:rgba(255,255,255,0.5714285714285714);\">bossy,</span> <span style=\"background-color:rgba(255,255,255,0.7142857142857143);\">bitches</span> <span style=\"background-color:rgba(255,255,255,0.8571428571428571);\">or</span> <span style=\"background-color:rgba(255,255,255,1.0);\">whores</span> <span style=\"background-color:rgba(255,255,255,0.08333333333333333);\">[MASK]</span> <span style=\"background-color:rgba(255,255,255,0.16666666666666666);\">who</span> <span style=\"background-color:rgba(255,255,255,0.25);\">spend</span> <span style=\"background-color:rgba(255,255,255,0.3333333333333333);\">time</span> <span style=\"background-color:rgba(255,255,255,0.4166666666666667);\">with</span> <span style=\"background-color:rgba(255,255,255,0.5);\">family</span> <span style=\"background-color:rgba(255,255,255,0.5833333333333334);\">are</span> <span style=\"background-color:rgba(255,255,255,0.6666666666666666);\">less</span> <span style=\"background-color:rgba(255,255,255,0.75);\">[MASK]</span> <span style=\"background-color:rgba(255,255,255,0.8333333333333334);\">and</span> <span style=\"background-color:rgba(255,255,255,0.9166666666666666);\">poor</span> <span style=\"background-color:rgba(255,255,255,1.0);\">breadwinners</span>"
      ],
      "text/plain": [
       "<IPython.core.display.HTML object>"
      ]
     },
     "metadata": {},
     "output_type": "display_data"
    },
    {
     "name": "stdout",
     "output_type": "stream",
     "text": [
      "For Layer - 5\n",
      "\n",
      "Female\n"
     ]
    },
    {
     "data": {
      "text/html": [
       "<span style=\"background-color:rgba(255,255,255,0.2);\">[MASK]</span> <span style=\"background-color:rgba(255,255,255,0.4);\">should</span> <span style=\"background-color:rgba(255,255,255,0.6);\">play</span> <span style=\"background-color:rgba(255,255,255,0.8);\">with</span> <span style=\"background-color:rgba(255,255,255,1.0);\">dolls</span> <span style=\"background-color:rgba(255,255,255,0.2);\">[MASK]</span> <span style=\"background-color:rgba(255,255,255,0.4);\">should</span> <span style=\"background-color:rgba(255,255,255,0.6);\">play</span> <span style=\"background-color:rgba(255,255,255,0.8);\">with</span> <span style=\"background-color:rgba(255,255,255,1.0);\">trucks</span> <span style=\"background-color:rgba(255,255,255,0.09090909090909091);\">There</span> <span style=\"background-color:rgba(255,255,255,0.18181818181818182);\">is</span> <span style=\"background-color:rgba(255,255,255,0.2727272727272727);\">something</span> <span style=\"background-color:rgba(255,255,255,0.36363636363636365);\">wrong</span> <span style=\"background-color:rgba(255,255,255,0.45454545454545453);\">with</span> <span style=\"background-color:rgba(255,255,255,0.5454545454545454);\">a</span> <span style=\"background-color:rgba(255,255,255,0.6363636363636364);\">[MASK]</span> <span style=\"background-color:rgba(255,255,255,0.7272727272727273);\">who</span> <span style=\"background-color:rgba(255,255,255,0.8181818181818182);\">doesn’t</span> <span style=\"background-color:rgba(255,255,255,0.9090909090909091);\">want</span> <span style=\"background-color:rgba(255,255,255,1.0);\">children</span> <span style=\"background-color:rgba(255,255,255,0.1);\">Assertive</span> <span style=\"background-color:rgba(255,255,255,0.2);\">[MASK]</span> <span style=\"background-color:rgba(255,255,255,0.3);\">are</span> <span style=\"background-color:rgba(255,255,255,0.4);\">[MASK]</span> <span style=\"background-color:rgba(255,255,255,0.5);\">and</span> <span style=\"background-color:rgba(255,255,255,0.6);\">are</span> <span style=\"background-color:rgba(255,255,255,0.7);\">bossy,</span> <span style=\"background-color:rgba(255,255,255,0.8);\">bitches</span> <span style=\"background-color:rgba(255,255,255,0.9);\">or</span> <span style=\"background-color:rgba(255,255,255,1.0);\">whores</span> <span style=\"background-color:rgba(255,255,255,0.09090909090909091);\">Assertive</span> <span style=\"background-color:rgba(255,255,255,0.18181818181818182);\">[MASK]</span> <span style=\"background-color:rgba(255,255,255,0.2727272727272727);\">are</span> <span style=\"background-color:rgba(255,255,255,0.36363636363636365);\">less</span> <span style=\"background-color:rgba(255,255,255,0.45454545454545453);\">[MASK]</span> <span style=\"background-color:rgba(255,255,255,0.5454545454545454);\">and</span> <span style=\"background-color:rgba(255,255,255,0.6363636363636364);\">are</span> <span style=\"background-color:rgba(255,255,255,0.7272727272727273);\">bossy,</span> <span style=\"background-color:rgba(255,255,255,0.8181818181818182);\">bitches</span> <span style=\"background-color:rgba(255,255,255,0.9090909090909091);\">or</span> <span style=\"background-color:rgba(255,255,255,1.0);\">whores</span> <span style=\"background-color:rgba(255,255,255,0.14285714285714285);\">Assertive</span> <span style=\"background-color:rgba(255,255,255,0.2857142857142857);\">[MASK]</span> <span style=\"background-color:rgba(255,255,255,0.42857142857142855);\">are</span> <span style=\"background-color:rgba(255,255,255,0.5714285714285714);\">bossy,</span> <span style=\"background-color:rgba(255,255,255,0.7142857142857143);\">bitches</span> <span style=\"background-color:rgba(255,255,255,0.8571428571428571);\">or</span> <span style=\"background-color:rgba(255,255,255,1.0);\">whores</span> <span style=\"background-color:rgba(255,255,255,0.08333333333333333);\">[MASK]</span> <span style=\"background-color:rgba(255,255,255,0.16666666666666666);\">who</span> <span style=\"background-color:rgba(255,255,255,0.25);\">spend</span> <span style=\"background-color:rgba(255,255,255,0.3333333333333333);\">time</span> <span style=\"background-color:rgba(255,255,255,0.4166666666666667);\">with</span> <span style=\"background-color:rgba(255,255,255,0.5);\">family</span> <span style=\"background-color:rgba(255,255,255,0.5833333333333334);\">are</span> <span style=\"background-color:rgba(255,255,255,0.6666666666666666);\">less</span> <span style=\"background-color:rgba(255,255,255,0.75);\">[MASK]</span> <span style=\"background-color:rgba(255,255,255,0.8333333333333334);\">and</span> <span style=\"background-color:rgba(255,255,255,0.9166666666666666);\">poor</span> <span style=\"background-color:rgba(255,255,255,1.0);\">breadwinners</span>"
      ],
      "text/plain": [
       "<IPython.core.display.HTML object>"
      ]
     },
     "metadata": {},
     "output_type": "display_data"
    },
    {
     "name": "stdout",
     "output_type": "stream",
     "text": [
      "Male\n"
     ]
    },
    {
     "data": {
      "text/html": [
       "<span style=\"background-color:rgba(255,255,255,0.2);\">[MASK]</span> <span style=\"background-color:rgba(255,255,255,0.4);\">should</span> <span style=\"background-color:rgba(255,255,255,0.6);\">play</span> <span style=\"background-color:rgba(255,255,255,0.8);\">with</span> <span style=\"background-color:rgba(255,255,255,1.0);\">dolls</span> <span style=\"background-color:rgba(255,255,255,0.2);\">[MASK]</span> <span style=\"background-color:rgba(255,255,255,0.4);\">should</span> <span style=\"background-color:rgba(255,255,255,0.6);\">play</span> <span style=\"background-color:rgba(255,255,255,0.8);\">with</span> <span style=\"background-color:rgba(255,255,255,1.0);\">trucks</span> <span style=\"background-color:rgba(255,255,255,0.09090909090909091);\">There</span> <span style=\"background-color:rgba(255,255,255,0.18181818181818182);\">is</span> <span style=\"background-color:rgba(255,255,255,0.2727272727272727);\">something</span> <span style=\"background-color:rgba(255,255,255,0.36363636363636365);\">wrong</span> <span style=\"background-color:rgba(255,255,255,0.45454545454545453);\">with</span> <span style=\"background-color:rgba(255,255,255,0.5454545454545454);\">a</span> <span style=\"background-color:rgba(255,255,255,0.6363636363636364);\">[MASK]</span> <span style=\"background-color:rgba(255,255,255,0.7272727272727273);\">who</span> <span style=\"background-color:rgba(255,255,255,0.8181818181818182);\">doesn’t</span> <span style=\"background-color:rgba(255,255,255,0.9090909090909091);\">want</span> <span style=\"background-color:rgba(255,255,255,1.0);\">children</span> <span style=\"background-color:rgba(255,255,255,0.1);\">Assertive</span> <span style=\"background-color:rgba(255,255,255,0.2);\">[MASK]</span> <span style=\"background-color:rgba(255,255,255,0.3);\">are</span> <span style=\"background-color:rgba(255,255,255,0.4);\">[MASK]</span> <span style=\"background-color:rgba(255,255,255,0.5);\">and</span> <span style=\"background-color:rgba(255,255,255,0.6);\">are</span> <span style=\"background-color:rgba(255,255,255,0.7);\">bossy,</span> <span style=\"background-color:rgba(255,255,255,0.8);\">bitches</span> <span style=\"background-color:rgba(255,255,255,0.9);\">or</span> <span style=\"background-color:rgba(255,255,255,1.0);\">whores</span> <span style=\"background-color:rgba(255,255,255,0.09090909090909091);\">Assertive</span> <span style=\"background-color:rgba(255,255,255,0.18181818181818182);\">[MASK]</span> <span style=\"background-color:rgba(255,255,255,0.2727272727272727);\">are</span> <span style=\"background-color:rgba(255,255,255,0.36363636363636365);\">less</span> <span style=\"background-color:rgba(255,255,255,0.45454545454545453);\">[MASK]</span> <span style=\"background-color:rgba(255,255,255,0.5454545454545454);\">and</span> <span style=\"background-color:rgba(255,255,255,0.6363636363636364);\">are</span> <span style=\"background-color:rgba(255,255,255,0.7272727272727273);\">bossy,</span> <span style=\"background-color:rgba(255,255,255,0.8181818181818182);\">bitches</span> <span style=\"background-color:rgba(255,255,255,0.9090909090909091);\">or</span> <span style=\"background-color:rgba(255,255,255,1.0);\">whores</span> <span style=\"background-color:rgba(255,255,255,0.14285714285714285);\">Assertive</span> <span style=\"background-color:rgba(255,255,255,0.2857142857142857);\">[MASK]</span> <span style=\"background-color:rgba(255,255,255,0.42857142857142855);\">are</span> <span style=\"background-color:rgba(255,255,255,0.5714285714285714);\">bossy,</span> <span style=\"background-color:rgba(255,255,255,0.7142857142857143);\">bitches</span> <span style=\"background-color:rgba(255,255,255,0.8571428571428571);\">or</span> <span style=\"background-color:rgba(255,255,255,1.0);\">whores</span> <span style=\"background-color:rgba(255,255,255,0.08333333333333333);\">[MASK]</span> <span style=\"background-color:rgba(255,255,255,0.16666666666666666);\">who</span> <span style=\"background-color:rgba(255,255,255,0.25);\">spend</span> <span style=\"background-color:rgba(255,255,255,0.3333333333333333);\">time</span> <span style=\"background-color:rgba(255,255,255,0.4166666666666667);\">with</span> <span style=\"background-color:rgba(255,255,255,0.5);\">family</span> <span style=\"background-color:rgba(255,255,255,0.5833333333333334);\">are</span> <span style=\"background-color:rgba(255,255,255,0.6666666666666666);\">less</span> <span style=\"background-color:rgba(255,255,255,0.75);\">[MASK]</span> <span style=\"background-color:rgba(255,255,255,0.8333333333333334);\">and</span> <span style=\"background-color:rgba(255,255,255,0.9166666666666666);\">poor</span> <span style=\"background-color:rgba(255,255,255,1.0);\">breadwinners</span>"
      ],
      "text/plain": [
       "<IPython.core.display.HTML object>"
      ]
     },
     "metadata": {},
     "output_type": "display_data"
    },
    {
     "name": "stdout",
     "output_type": "stream",
     "text": [
      "For Layer - 6\n",
      "\n",
      "Female\n"
     ]
    },
    {
     "data": {
      "text/html": [
       "<span style=\"background-color:rgba(255,255,255,0.2);\">[MASK]</span> <span style=\"background-color:rgba(255,255,255,0.4);\">should</span> <span style=\"background-color:rgba(255,255,255,0.6);\">play</span> <span style=\"background-color:rgba(255,255,255,0.8);\">with</span> <span style=\"background-color:rgba(255,255,255,1.0);\">dolls</span> <span style=\"background-color:rgba(255,255,255,0.2);\">[MASK]</span> <span style=\"background-color:rgba(255,255,255,0.4);\">should</span> <span style=\"background-color:rgba(255,255,255,0.6);\">play</span> <span style=\"background-color:rgba(255,255,255,0.8);\">with</span> <span style=\"background-color:rgba(255,255,255,1.0);\">trucks</span> <span style=\"background-color:rgba(255,255,255,0.09090909090909091);\">There</span> <span style=\"background-color:rgba(255,255,255,0.18181818181818182);\">is</span> <span style=\"background-color:rgba(255,255,255,0.2727272727272727);\">something</span> <span style=\"background-color:rgba(255,255,255,0.36363636363636365);\">wrong</span> <span style=\"background-color:rgba(255,255,255,0.45454545454545453);\">with</span> <span style=\"background-color:rgba(255,255,255,0.5454545454545454);\">a</span> <span style=\"background-color:rgba(255,255,255,0.6363636363636364);\">[MASK]</span> <span style=\"background-color:rgba(255,255,255,0.7272727272727273);\">who</span> <span style=\"background-color:rgba(255,255,255,0.8181818181818182);\">doesn’t</span> <span style=\"background-color:rgba(255,255,255,0.9090909090909091);\">want</span> <span style=\"background-color:rgba(255,255,255,1.0);\">children</span> <span style=\"background-color:rgba(255,255,255,0.1);\">Assertive</span> <span style=\"background-color:rgba(255,255,255,0.2);\">[MASK]</span> <span style=\"background-color:rgba(255,255,255,0.3);\">are</span> <span style=\"background-color:rgba(255,255,255,0.4);\">[MASK]</span> <span style=\"background-color:rgba(255,255,255,0.5);\">and</span> <span style=\"background-color:rgba(255,255,255,0.6);\">are</span> <span style=\"background-color:rgba(255,255,255,0.7);\">bossy,</span> <span style=\"background-color:rgba(255,255,255,0.8);\">bitches</span> <span style=\"background-color:rgba(255,255,255,0.9);\">or</span> <span style=\"background-color:rgba(255,255,255,1.0);\">whores</span> <span style=\"background-color:rgba(255,255,255,0.09090909090909091);\">Assertive</span> <span style=\"background-color:rgba(255,255,255,0.18181818181818182);\">[MASK]</span> <span style=\"background-color:rgba(255,255,255,0.2727272727272727);\">are</span> <span style=\"background-color:rgba(255,255,255,0.36363636363636365);\">less</span> <span style=\"background-color:rgba(255,255,255,0.45454545454545453);\">[MASK]</span> <span style=\"background-color:rgba(255,255,255,0.5454545454545454);\">and</span> <span style=\"background-color:rgba(255,255,255,0.6363636363636364);\">are</span> <span style=\"background-color:rgba(255,255,255,0.7272727272727273);\">bossy,</span> <span style=\"background-color:rgba(255,255,255,0.8181818181818182);\">bitches</span> <span style=\"background-color:rgba(255,255,255,0.9090909090909091);\">or</span> <span style=\"background-color:rgba(255,255,255,1.0);\">whores</span> <span style=\"background-color:rgba(255,255,255,0.14285714285714285);\">Assertive</span> <span style=\"background-color:rgba(255,255,255,0.2857142857142857);\">[MASK]</span> <span style=\"background-color:rgba(255,255,255,0.42857142857142855);\">are</span> <span style=\"background-color:rgba(255,255,255,0.5714285714285714);\">bossy,</span> <span style=\"background-color:rgba(255,255,255,0.7142857142857143);\">bitches</span> <span style=\"background-color:rgba(255,255,255,0.8571428571428571);\">or</span> <span style=\"background-color:rgba(255,255,255,1.0);\">whores</span> <span style=\"background-color:rgba(255,255,255,0.08333333333333333);\">[MASK]</span> <span style=\"background-color:rgba(255,255,255,0.16666666666666666);\">who</span> <span style=\"background-color:rgba(255,255,255,0.25);\">spend</span> <span style=\"background-color:rgba(255,255,255,0.3333333333333333);\">time</span> <span style=\"background-color:rgba(255,255,255,0.4166666666666667);\">with</span> <span style=\"background-color:rgba(255,255,255,0.5);\">family</span> <span style=\"background-color:rgba(255,255,255,0.5833333333333334);\">are</span> <span style=\"background-color:rgba(255,255,255,0.6666666666666666);\">less</span> <span style=\"background-color:rgba(255,255,255,0.75);\">[MASK]</span> <span style=\"background-color:rgba(255,255,255,0.8333333333333334);\">and</span> <span style=\"background-color:rgba(255,255,255,0.9166666666666666);\">poor</span> <span style=\"background-color:rgba(255,255,255,1.0);\">breadwinners</span>"
      ],
      "text/plain": [
       "<IPython.core.display.HTML object>"
      ]
     },
     "metadata": {},
     "output_type": "display_data"
    },
    {
     "name": "stdout",
     "output_type": "stream",
     "text": [
      "Male\n"
     ]
    },
    {
     "data": {
      "text/html": [
       "<span style=\"background-color:rgba(255,255,255,0.2);\">[MASK]</span> <span style=\"background-color:rgba(255,255,255,0.4);\">should</span> <span style=\"background-color:rgba(255,255,255,0.6);\">play</span> <span style=\"background-color:rgba(255,255,255,0.8);\">with</span> <span style=\"background-color:rgba(255,255,255,1.0);\">dolls</span> <span style=\"background-color:rgba(255,255,255,0.2);\">[MASK]</span> <span style=\"background-color:rgba(255,255,255,0.4);\">should</span> <span style=\"background-color:rgba(255,255,255,0.6);\">play</span> <span style=\"background-color:rgba(255,255,255,0.8);\">with</span> <span style=\"background-color:rgba(255,255,255,1.0);\">trucks</span> <span style=\"background-color:rgba(255,255,255,0.09090909090909091);\">There</span> <span style=\"background-color:rgba(255,255,255,0.18181818181818182);\">is</span> <span style=\"background-color:rgba(255,255,255,0.2727272727272727);\">something</span> <span style=\"background-color:rgba(255,255,255,0.36363636363636365);\">wrong</span> <span style=\"background-color:rgba(255,255,255,0.45454545454545453);\">with</span> <span style=\"background-color:rgba(255,255,255,0.5454545454545454);\">a</span> <span style=\"background-color:rgba(255,255,255,0.6363636363636364);\">[MASK]</span> <span style=\"background-color:rgba(255,255,255,0.7272727272727273);\">who</span> <span style=\"background-color:rgba(255,255,255,0.8181818181818182);\">doesn’t</span> <span style=\"background-color:rgba(255,255,255,0.9090909090909091);\">want</span> <span style=\"background-color:rgba(255,255,255,1.0);\">children</span> <span style=\"background-color:rgba(255,255,255,0.1);\">Assertive</span> <span style=\"background-color:rgba(255,255,255,0.2);\">[MASK]</span> <span style=\"background-color:rgba(255,255,255,0.3);\">are</span> <span style=\"background-color:rgba(255,255,255,0.4);\">[MASK]</span> <span style=\"background-color:rgba(255,255,255,0.5);\">and</span> <span style=\"background-color:rgba(255,255,255,0.6);\">are</span> <span style=\"background-color:rgba(255,255,255,0.7);\">bossy,</span> <span style=\"background-color:rgba(255,255,255,0.8);\">bitches</span> <span style=\"background-color:rgba(255,255,255,0.9);\">or</span> <span style=\"background-color:rgba(255,255,255,1.0);\">whores</span> <span style=\"background-color:rgba(255,255,255,0.09090909090909091);\">Assertive</span> <span style=\"background-color:rgba(255,255,255,0.18181818181818182);\">[MASK]</span> <span style=\"background-color:rgba(255,255,255,0.2727272727272727);\">are</span> <span style=\"background-color:rgba(255,255,255,0.36363636363636365);\">less</span> <span style=\"background-color:rgba(255,255,255,0.45454545454545453);\">[MASK]</span> <span style=\"background-color:rgba(255,255,255,0.5454545454545454);\">and</span> <span style=\"background-color:rgba(255,255,255,0.6363636363636364);\">are</span> <span style=\"background-color:rgba(255,255,255,0.7272727272727273);\">bossy,</span> <span style=\"background-color:rgba(255,255,255,0.8181818181818182);\">bitches</span> <span style=\"background-color:rgba(255,255,255,0.9090909090909091);\">or</span> <span style=\"background-color:rgba(255,255,255,1.0);\">whores</span> <span style=\"background-color:rgba(255,255,255,0.14285714285714285);\">Assertive</span> <span style=\"background-color:rgba(255,255,255,0.2857142857142857);\">[MASK]</span> <span style=\"background-color:rgba(255,255,255,0.42857142857142855);\">are</span> <span style=\"background-color:rgba(255,255,255,0.5714285714285714);\">bossy,</span> <span style=\"background-color:rgba(255,255,255,0.7142857142857143);\">bitches</span> <span style=\"background-color:rgba(255,255,255,0.8571428571428571);\">or</span> <span style=\"background-color:rgba(255,255,255,1.0);\">whores</span> <span style=\"background-color:rgba(255,255,255,0.08333333333333333);\">[MASK]</span> <span style=\"background-color:rgba(255,255,255,0.16666666666666666);\">who</span> <span style=\"background-color:rgba(255,255,255,0.25);\">spend</span> <span style=\"background-color:rgba(255,255,255,0.3333333333333333);\">time</span> <span style=\"background-color:rgba(255,255,255,0.4166666666666667);\">with</span> <span style=\"background-color:rgba(255,255,255,0.5);\">family</span> <span style=\"background-color:rgba(255,255,255,0.5833333333333334);\">are</span> <span style=\"background-color:rgba(255,255,255,0.6666666666666666);\">less</span> <span style=\"background-color:rgba(255,255,255,0.75);\">[MASK]</span> <span style=\"background-color:rgba(255,255,255,0.8333333333333334);\">and</span> <span style=\"background-color:rgba(255,255,255,0.9166666666666666);\">poor</span> <span style=\"background-color:rgba(255,255,255,1.0);\">breadwinners</span>"
      ],
      "text/plain": [
       "<IPython.core.display.HTML object>"
      ]
     },
     "metadata": {},
     "output_type": "display_data"
    },
    {
     "name": "stdout",
     "output_type": "stream",
     "text": [
      "For Layer - 7\n",
      "\n",
      "Female\n"
     ]
    },
    {
     "data": {
      "text/html": [
       "<span style=\"background-color:rgba(255,255,255,0.2);\">[MASK]</span> <span style=\"background-color:rgba(255,255,255,0.4);\">should</span> <span style=\"background-color:rgba(255,255,255,0.6);\">play</span> <span style=\"background-color:rgba(255,255,255,0.8);\">with</span> <span style=\"background-color:rgba(255,255,255,1.0);\">dolls</span> <span style=\"background-color:rgba(255,255,255,0.2);\">[MASK]</span> <span style=\"background-color:rgba(255,255,255,0.4);\">should</span> <span style=\"background-color:rgba(255,255,255,0.6);\">play</span> <span style=\"background-color:rgba(255,255,255,0.8);\">with</span> <span style=\"background-color:rgba(255,255,255,1.0);\">trucks</span> <span style=\"background-color:rgba(255,255,255,0.09090909090909091);\">There</span> <span style=\"background-color:rgba(255,255,255,0.18181818181818182);\">is</span> <span style=\"background-color:rgba(255,255,255,0.2727272727272727);\">something</span> <span style=\"background-color:rgba(255,255,255,0.36363636363636365);\">wrong</span> <span style=\"background-color:rgba(255,255,255,0.45454545454545453);\">with</span> <span style=\"background-color:rgba(255,255,255,0.5454545454545454);\">a</span> <span style=\"background-color:rgba(255,255,255,0.6363636363636364);\">[MASK]</span> <span style=\"background-color:rgba(255,255,255,0.7272727272727273);\">who</span> <span style=\"background-color:rgba(255,255,255,0.8181818181818182);\">doesn’t</span> <span style=\"background-color:rgba(255,255,255,0.9090909090909091);\">want</span> <span style=\"background-color:rgba(255,255,255,1.0);\">children</span> <span style=\"background-color:rgba(255,255,255,0.1);\">Assertive</span> <span style=\"background-color:rgba(255,255,255,0.2);\">[MASK]</span> <span style=\"background-color:rgba(255,255,255,0.3);\">are</span> <span style=\"background-color:rgba(255,255,255,0.4);\">[MASK]</span> <span style=\"background-color:rgba(255,255,255,0.5);\">and</span> <span style=\"background-color:rgba(255,255,255,0.6);\">are</span> <span style=\"background-color:rgba(255,255,255,0.7);\">bossy,</span> <span style=\"background-color:rgba(255,255,255,0.8);\">bitches</span> <span style=\"background-color:rgba(255,255,255,0.9);\">or</span> <span style=\"background-color:rgba(255,255,255,1.0);\">whores</span> <span style=\"background-color:rgba(255,255,255,0.09090909090909091);\">Assertive</span> <span style=\"background-color:rgba(255,255,255,0.18181818181818182);\">[MASK]</span> <span style=\"background-color:rgba(255,255,255,0.2727272727272727);\">are</span> <span style=\"background-color:rgba(255,255,255,0.36363636363636365);\">less</span> <span style=\"background-color:rgba(255,255,255,0.45454545454545453);\">[MASK]</span> <span style=\"background-color:rgba(255,255,255,0.5454545454545454);\">and</span> <span style=\"background-color:rgba(255,255,255,0.6363636363636364);\">are</span> <span style=\"background-color:rgba(255,255,255,0.7272727272727273);\">bossy,</span> <span style=\"background-color:rgba(255,255,255,0.8181818181818182);\">bitches</span> <span style=\"background-color:rgba(255,255,255,0.9090909090909091);\">or</span> <span style=\"background-color:rgba(255,255,255,1.0);\">whores</span> <span style=\"background-color:rgba(255,255,255,0.14285714285714285);\">Assertive</span> <span style=\"background-color:rgba(255,255,255,0.2857142857142857);\">[MASK]</span> <span style=\"background-color:rgba(255,255,255,0.42857142857142855);\">are</span> <span style=\"background-color:rgba(255,255,255,0.5714285714285714);\">bossy,</span> <span style=\"background-color:rgba(255,255,255,0.7142857142857143);\">bitches</span> <span style=\"background-color:rgba(255,255,255,0.8571428571428571);\">or</span> <span style=\"background-color:rgba(255,255,255,1.0);\">whores</span> <span style=\"background-color:rgba(255,255,255,0.08333333333333333);\">[MASK]</span> <span style=\"background-color:rgba(255,255,255,0.16666666666666666);\">who</span> <span style=\"background-color:rgba(255,255,255,0.25);\">spend</span> <span style=\"background-color:rgba(255,255,255,0.3333333333333333);\">time</span> <span style=\"background-color:rgba(255,255,255,0.4166666666666667);\">with</span> <span style=\"background-color:rgba(255,255,255,0.5);\">family</span> <span style=\"background-color:rgba(255,255,255,0.5833333333333334);\">are</span> <span style=\"background-color:rgba(255,255,255,0.6666666666666666);\">less</span> <span style=\"background-color:rgba(255,255,255,0.75);\">[MASK]</span> <span style=\"background-color:rgba(255,255,255,0.8333333333333334);\">and</span> <span style=\"background-color:rgba(255,255,255,0.9166666666666666);\">poor</span> <span style=\"background-color:rgba(255,255,255,1.0);\">breadwinners</span>"
      ],
      "text/plain": [
       "<IPython.core.display.HTML object>"
      ]
     },
     "metadata": {},
     "output_type": "display_data"
    },
    {
     "name": "stdout",
     "output_type": "stream",
     "text": [
      "Male\n"
     ]
    },
    {
     "data": {
      "text/html": [
       "<span style=\"background-color:rgba(255,255,255,0.2);\">[MASK]</span> <span style=\"background-color:rgba(255,255,255,0.4);\">should</span> <span style=\"background-color:rgba(255,255,255,0.6);\">play</span> <span style=\"background-color:rgba(255,255,255,0.8);\">with</span> <span style=\"background-color:rgba(255,255,255,1.0);\">dolls</span> <span style=\"background-color:rgba(255,255,255,0.2);\">[MASK]</span> <span style=\"background-color:rgba(255,255,255,0.4);\">should</span> <span style=\"background-color:rgba(255,255,255,0.6);\">play</span> <span style=\"background-color:rgba(255,255,255,0.8);\">with</span> <span style=\"background-color:rgba(255,255,255,1.0);\">trucks</span> <span style=\"background-color:rgba(255,255,255,0.09090909090909091);\">There</span> <span style=\"background-color:rgba(255,255,255,0.18181818181818182);\">is</span> <span style=\"background-color:rgba(255,255,255,0.2727272727272727);\">something</span> <span style=\"background-color:rgba(255,255,255,0.36363636363636365);\">wrong</span> <span style=\"background-color:rgba(255,255,255,0.45454545454545453);\">with</span> <span style=\"background-color:rgba(255,255,255,0.5454545454545454);\">a</span> <span style=\"background-color:rgba(255,255,255,0.6363636363636364);\">[MASK]</span> <span style=\"background-color:rgba(255,255,255,0.7272727272727273);\">who</span> <span style=\"background-color:rgba(255,255,255,0.8181818181818182);\">doesn’t</span> <span style=\"background-color:rgba(255,255,255,0.9090909090909091);\">want</span> <span style=\"background-color:rgba(255,255,255,1.0);\">children</span> <span style=\"background-color:rgba(255,255,255,0.1);\">Assertive</span> <span style=\"background-color:rgba(255,255,255,0.2);\">[MASK]</span> <span style=\"background-color:rgba(255,255,255,0.3);\">are</span> <span style=\"background-color:rgba(255,255,255,0.4);\">[MASK]</span> <span style=\"background-color:rgba(255,255,255,0.5);\">and</span> <span style=\"background-color:rgba(255,255,255,0.6);\">are</span> <span style=\"background-color:rgba(255,255,255,0.7);\">bossy,</span> <span style=\"background-color:rgba(255,255,255,0.8);\">bitches</span> <span style=\"background-color:rgba(255,255,255,0.9);\">or</span> <span style=\"background-color:rgba(255,255,255,1.0);\">whores</span> <span style=\"background-color:rgba(255,255,255,0.09090909090909091);\">Assertive</span> <span style=\"background-color:rgba(255,255,255,0.18181818181818182);\">[MASK]</span> <span style=\"background-color:rgba(255,255,255,0.2727272727272727);\">are</span> <span style=\"background-color:rgba(255,255,255,0.36363636363636365);\">less</span> <span style=\"background-color:rgba(255,255,255,0.45454545454545453);\">[MASK]</span> <span style=\"background-color:rgba(255,255,255,0.5454545454545454);\">and</span> <span style=\"background-color:rgba(255,255,255,0.6363636363636364);\">are</span> <span style=\"background-color:rgba(255,255,255,0.7272727272727273);\">bossy,</span> <span style=\"background-color:rgba(255,255,255,0.8181818181818182);\">bitches</span> <span style=\"background-color:rgba(255,255,255,0.9090909090909091);\">or</span> <span style=\"background-color:rgba(255,255,255,1.0);\">whores</span> <span style=\"background-color:rgba(255,255,255,0.14285714285714285);\">Assertive</span> <span style=\"background-color:rgba(255,255,255,0.2857142857142857);\">[MASK]</span> <span style=\"background-color:rgba(255,255,255,0.42857142857142855);\">are</span> <span style=\"background-color:rgba(255,255,255,0.5714285714285714);\">bossy,</span> <span style=\"background-color:rgba(255,255,255,0.7142857142857143);\">bitches</span> <span style=\"background-color:rgba(255,255,255,0.8571428571428571);\">or</span> <span style=\"background-color:rgba(255,255,255,1.0);\">whores</span> <span style=\"background-color:rgba(255,255,255,0.08333333333333333);\">[MASK]</span> <span style=\"background-color:rgba(255,255,255,0.16666666666666666);\">who</span> <span style=\"background-color:rgba(255,255,255,0.25);\">spend</span> <span style=\"background-color:rgba(255,255,255,0.3333333333333333);\">time</span> <span style=\"background-color:rgba(255,255,255,0.4166666666666667);\">with</span> <span style=\"background-color:rgba(255,255,255,0.5);\">family</span> <span style=\"background-color:rgba(255,255,255,0.5833333333333334);\">are</span> <span style=\"background-color:rgba(255,255,255,0.6666666666666666);\">less</span> <span style=\"background-color:rgba(255,255,255,0.75);\">[MASK]</span> <span style=\"background-color:rgba(255,255,255,0.8333333333333334);\">and</span> <span style=\"background-color:rgba(255,255,255,0.9166666666666666);\">poor</span> <span style=\"background-color:rgba(255,255,255,1.0);\">breadwinners</span>"
      ],
      "text/plain": [
       "<IPython.core.display.HTML object>"
      ]
     },
     "metadata": {},
     "output_type": "display_data"
    },
    {
     "name": "stdout",
     "output_type": "stream",
     "text": [
      "For Layer - 8\n",
      "\n",
      "Female\n"
     ]
    },
    {
     "data": {
      "text/html": [
       "<span style=\"background-color:rgba(255,255,255,0.2);\">[MASK]</span> <span style=\"background-color:rgba(255,255,255,0.4);\">should</span> <span style=\"background-color:rgba(255,255,255,0.6);\">play</span> <span style=\"background-color:rgba(255,255,255,0.8);\">with</span> <span style=\"background-color:rgba(255,255,255,1.0);\">dolls</span> <span style=\"background-color:rgba(255,255,255,0.2);\">[MASK]</span> <span style=\"background-color:rgba(255,255,255,0.4);\">should</span> <span style=\"background-color:rgba(255,255,255,0.6);\">play</span> <span style=\"background-color:rgba(255,255,255,0.8);\">with</span> <span style=\"background-color:rgba(255,255,255,1.0);\">trucks</span> <span style=\"background-color:rgba(255,255,255,0.09090909090909091);\">There</span> <span style=\"background-color:rgba(255,255,255,0.18181818181818182);\">is</span> <span style=\"background-color:rgba(255,255,255,0.2727272727272727);\">something</span> <span style=\"background-color:rgba(255,255,255,0.36363636363636365);\">wrong</span> <span style=\"background-color:rgba(255,255,255,0.45454545454545453);\">with</span> <span style=\"background-color:rgba(255,255,255,0.5454545454545454);\">a</span> <span style=\"background-color:rgba(255,255,255,0.6363636363636364);\">[MASK]</span> <span style=\"background-color:rgba(255,255,255,0.7272727272727273);\">who</span> <span style=\"background-color:rgba(255,255,255,0.8181818181818182);\">doesn’t</span> <span style=\"background-color:rgba(255,255,255,0.8181818181818182);\">want</span> <span style=\"background-color:rgba(255,0,0,0.8181818181818182);\">children</span> <span style=\"background-color:rgba(255,255,255,0.1);\">Assertive</span> <span style=\"background-color:rgba(255,255,255,0.1);\">[MASK]</span> <span style=\"background-color:rgba(255,255,255,0.2);\">are</span> <span style=\"background-color:rgba(255,0,0,0.3);\">[MASK]</span> <span style=\"background-color:rgba(255,255,255,0.4);\">and</span> <span style=\"background-color:rgba(255,255,255,0.5);\">are</span> <span style=\"background-color:rgba(255,255,255,0.6);\">bossy,</span> <span style=\"background-color:rgba(255,0,0,0.7);\">bitches</span> <span style=\"background-color:rgba(255,255,255,0.8);\">or</span> <span style=\"background-color:rgba(255,255,255,0.9);\">whores</span> <span style=\"background-color:rgba(255,255,255,0.09090909090909091);\">Assertive</span> <span style=\"background-color:rgba(255,255,255,0.09090909090909091);\">[MASK]</span> <span style=\"background-color:rgba(255,255,255,0.18181818181818182);\">are</span> <span style=\"background-color:rgba(255,255,255,0.2727272727272727);\">less</span> <span style=\"background-color:rgba(255,255,255,0.36363636363636365);\">[MASK]</span> <span style=\"background-color:rgba(255,255,255,0.45454545454545453);\">and</span> <span style=\"background-color:rgba(255,255,255,0.5454545454545454);\">are</span> <span style=\"background-color:rgba(255,255,255,0.6363636363636364);\">bossy,</span> <span style=\"background-color:rgba(255,255,255,0.7272727272727273);\">bitches</span> <span style=\"background-color:rgba(255,255,255,0.8181818181818182);\">or</span> <span style=\"background-color:rgba(255,255,255,0.9090909090909091);\">whores</span> <span style=\"background-color:rgba(255,255,255,0.14285714285714285);\">Assertive</span> <span style=\"background-color:rgba(255,0,0,0.14285714285714285);\">[MASK]</span> <span style=\"background-color:rgba(255,0,0,0.2857142857142857);\">are</span> <span style=\"background-color:rgba(255,0,0,0.42857142857142855);\">bossy,</span> <span style=\"background-color:rgba(255,0,0,0.5714285714285714);\">bitches</span> <span style=\"background-color:rgba(255,0,0,0.7142857142857143);\">or</span> <span style=\"background-color:rgba(255,0,0,0.8571428571428571);\">whores</span> <span style=\"background-color:rgba(255,255,255,0.08333333333333333);\">[MASK]</span> <span style=\"background-color:rgba(255,255,255,0.16666666666666666);\">who</span> <span style=\"background-color:rgba(255,255,255,0.25);\">spend</span> <span style=\"background-color:rgba(255,255,255,0.3333333333333333);\">time</span> <span style=\"background-color:rgba(255,255,255,0.4166666666666667);\">with</span> <span style=\"background-color:rgba(255,255,255,0.5);\">family</span> <span style=\"background-color:rgba(255,255,255,0.5833333333333334);\">are</span> <span style=\"background-color:rgba(255,255,255,0.6666666666666666);\">less</span> <span style=\"background-color:rgba(255,255,255,0.75);\">[MASK]</span> <span style=\"background-color:rgba(255,255,255,0.8333333333333334);\">and</span> <span style=\"background-color:rgba(255,255,255,0.9166666666666666);\">poor</span> <span style=\"background-color:rgba(255,255,255,1.0);\">breadwinners</span>"
      ],
      "text/plain": [
       "<IPython.core.display.HTML object>"
      ]
     },
     "metadata": {},
     "output_type": "display_data"
    },
    {
     "name": "stdout",
     "output_type": "stream",
     "text": [
      "Male\n"
     ]
    },
    {
     "data": {
      "text/html": [
       "<span style=\"background-color:rgba(255,255,255,0.2);\">[MASK]</span> <span style=\"background-color:rgba(255,255,255,0.4);\">should</span> <span style=\"background-color:rgba(255,255,255,0.6);\">play</span> <span style=\"background-color:rgba(255,255,255,0.8);\">with</span> <span style=\"background-color:rgba(255,255,255,1.0);\">dolls</span> <span style=\"background-color:rgba(255,255,255,0.2);\">[MASK]</span> <span style=\"background-color:rgba(255,255,255,0.4);\">should</span> <span style=\"background-color:rgba(255,255,255,0.6);\">play</span> <span style=\"background-color:rgba(255,255,255,0.8);\">with</span> <span style=\"background-color:rgba(255,255,255,1.0);\">trucks</span> <span style=\"background-color:rgba(255,255,255,0.09090909090909091);\">There</span> <span style=\"background-color:rgba(255,255,255,0.18181818181818182);\">is</span> <span style=\"background-color:rgba(255,255,255,0.2727272727272727);\">something</span> <span style=\"background-color:rgba(255,255,255,0.36363636363636365);\">wrong</span> <span style=\"background-color:rgba(255,255,255,0.45454545454545453);\">with</span> <span style=\"background-color:rgba(255,255,255,0.5454545454545454);\">a</span> <span style=\"background-color:rgba(255,255,255,0.6363636363636364);\">[MASK]</span> <span style=\"background-color:rgba(255,255,255,0.7272727272727273);\">who</span> <span style=\"background-color:rgba(255,255,255,0.8181818181818182);\">doesn’t</span> <span style=\"background-color:rgba(255,255,255,0.9090909090909091);\">want</span> <span style=\"background-color:rgba(255,0,0,1.0);\">children</span> <span style=\"background-color:rgba(255,255,255,0.1);\">Assertive</span> <span style=\"background-color:rgba(255,255,255,0.2);\">[MASK]</span> <span style=\"background-color:rgba(255,255,255,0.3);\">are</span> <span style=\"background-color:rgba(255,0,0,0.4);\">[MASK]</span> <span style=\"background-color:rgba(255,255,255,0.5);\">and</span> <span style=\"background-color:rgba(255,255,255,0.6);\">are</span> <span style=\"background-color:rgba(255,255,255,0.7);\">bossy,</span> <span style=\"background-color:rgba(255,0,0,0.8);\">bitches</span> <span style=\"background-color:rgba(255,255,255,0.9);\">or</span> <span style=\"background-color:rgba(255,255,255,1.0);\">whores</span> <span style=\"background-color:rgba(255,255,255,0.09090909090909091);\">Assertive</span> <span style=\"background-color:rgba(255,255,255,0.18181818181818182);\">[MASK]</span> <span style=\"background-color:rgba(255,255,255,0.2727272727272727);\">are</span> <span style=\"background-color:rgba(255,255,255,0.36363636363636365);\">less</span> <span style=\"background-color:rgba(255,255,255,0.45454545454545453);\">[MASK]</span> <span style=\"background-color:rgba(255,255,255,0.5454545454545454);\">and</span> <span style=\"background-color:rgba(255,255,255,0.6363636363636364);\">are</span> <span style=\"background-color:rgba(255,255,255,0.7272727272727273);\">bossy,</span> <span style=\"background-color:rgba(255,255,255,0.8181818181818182);\">bitches</span> <span style=\"background-color:rgba(255,255,255,0.9090909090909091);\">or</span> <span style=\"background-color:rgba(255,255,255,1.0);\">whores</span> <span style=\"background-color:rgba(255,255,255,0.14285714285714285);\">Assertive</span> <span style=\"background-color:rgba(255,0,0,0.2857142857142857);\">[MASK]</span> <span style=\"background-color:rgba(255,0,0,0.42857142857142855);\">are</span> <span style=\"background-color:rgba(255,0,0,0.5714285714285714);\">bossy,</span> <span style=\"background-color:rgba(255,0,0,0.7142857142857143);\">bitches</span> <span style=\"background-color:rgba(255,0,0,0.8571428571428571);\">or</span> <span style=\"background-color:rgba(255,0,0,1.0);\">whores</span> <span style=\"background-color:rgba(255,255,255,0.08333333333333333);\">[MASK]</span> <span style=\"background-color:rgba(255,255,255,0.16666666666666666);\">who</span> <span style=\"background-color:rgba(255,255,255,0.25);\">spend</span> <span style=\"background-color:rgba(255,255,255,0.3333333333333333);\">time</span> <span style=\"background-color:rgba(255,255,255,0.4166666666666667);\">with</span> <span style=\"background-color:rgba(255,255,255,0.5);\">family</span> <span style=\"background-color:rgba(255,255,255,0.5833333333333334);\">are</span> <span style=\"background-color:rgba(255,255,255,0.6666666666666666);\">less</span> <span style=\"background-color:rgba(255,255,255,0.75);\">[MASK]</span> <span style=\"background-color:rgba(255,255,255,0.8333333333333334);\">and</span> <span style=\"background-color:rgba(255,255,255,0.9166666666666666);\">poor</span> <span style=\"background-color:rgba(255,255,255,1.0);\">breadwinners</span>"
      ],
      "text/plain": [
       "<IPython.core.display.HTML object>"
      ]
     },
     "metadata": {},
     "output_type": "display_data"
    },
    {
     "name": "stdout",
     "output_type": "stream",
     "text": [
      "For Layer - 9\n",
      "\n",
      "Female\n"
     ]
    },
    {
     "data": {
      "text/html": [
       "<span style=\"background-color:rgba(255,255,255,0.2);\">[MASK]</span> <span style=\"background-color:rgba(255,255,255,0.4);\">should</span> <span style=\"background-color:rgba(255,255,255,0.6);\">play</span> <span style=\"background-color:rgba(255,255,255,0.8);\">with</span> <span style=\"background-color:rgba(255,255,255,1.0);\">dolls</span> <span style=\"background-color:rgba(255,255,255,0.2);\">[MASK]</span> <span style=\"background-color:rgba(255,255,255,0.4);\">should</span> <span style=\"background-color:rgba(255,255,255,0.6);\">play</span> <span style=\"background-color:rgba(255,255,255,0.8);\">with</span> <span style=\"background-color:rgba(255,255,255,1.0);\">trucks</span> <span style=\"background-color:rgba(255,255,255,0.09090909090909091);\">There</span> <span style=\"background-color:rgba(255,255,255,0.18181818181818182);\">is</span> <span style=\"background-color:rgba(255,0,0,0.2727272727272727);\">something</span> <span style=\"background-color:rgba(255,0,0,0.36363636363636365);\">wrong</span> <span style=\"background-color:rgba(255,0,0,0.45454545454545453);\">with</span> <span style=\"background-color:rgba(255,0,0,0.5454545454545454);\">a</span> <span style=\"background-color:rgba(255,0,0,0.6363636363636364);\">[MASK]</span> <span style=\"background-color:rgba(255,0,0,0.7272727272727273);\">who</span> <span style=\"background-color:rgba(255,0,0,0.8181818181818182);\">doesn’t</span> <span style=\"background-color:rgba(255,0,0,0.8181818181818182);\">want</span> <span style=\"background-color:rgba(255,0,0,0.8181818181818182);\">children</span> <span style=\"background-color:rgba(255,255,255,0.1);\">Assertive</span> <span style=\"background-color:rgba(255,255,255,0.1);\">[MASK]</span> <span style=\"background-color:rgba(255,255,255,0.2);\">are</span> <span style=\"background-color:rgba(255,0,0,0.3);\">[MASK]</span> <span style=\"background-color:rgba(255,255,255,0.4);\">and</span> <span style=\"background-color:rgba(255,255,255,0.5);\">are</span> <span style=\"background-color:rgba(255,255,255,0.6);\">bossy,</span> <span style=\"background-color:rgba(255,0,0,0.7);\">bitches</span> <span style=\"background-color:rgba(255,255,255,0.8);\">or</span> <span style=\"background-color:rgba(255,255,255,0.9);\">whores</span> <span style=\"background-color:rgba(255,255,255,0.09090909090909091);\">Assertive</span> <span style=\"background-color:rgba(255,255,255,0.09090909090909091);\">[MASK]</span> <span style=\"background-color:rgba(255,255,255,0.18181818181818182);\">are</span> <span style=\"background-color:rgba(255,255,255,0.2727272727272727);\">less</span> <span style=\"background-color:rgba(255,255,255,0.36363636363636365);\">[MASK]</span> <span style=\"background-color:rgba(255,255,255,0.45454545454545453);\">and</span> <span style=\"background-color:rgba(255,255,255,0.5454545454545454);\">are</span> <span style=\"background-color:rgba(255,255,255,0.6363636363636364);\">bossy,</span> <span style=\"background-color:rgba(255,255,255,0.7272727272727273);\">bitches</span> <span style=\"background-color:rgba(255,255,255,0.8181818181818182);\">or</span> <span style=\"background-color:rgba(255,255,255,0.9090909090909091);\">whores</span> <span style=\"background-color:rgba(255,255,255,0.14285714285714285);\">Assertive</span> <span style=\"background-color:rgba(255,0,0,0.14285714285714285);\">[MASK]</span> <span style=\"background-color:rgba(255,0,0,0.2857142857142857);\">are</span> <span style=\"background-color:rgba(255,0,0,0.42857142857142855);\">bossy,</span> <span style=\"background-color:rgba(255,0,0,0.5714285714285714);\">bitches</span> <span style=\"background-color:rgba(255,0,0,0.7142857142857143);\">or</span> <span style=\"background-color:rgba(255,0,0,0.8571428571428571);\">whores</span> <span style=\"background-color:rgba(255,255,255,0.08333333333333333);\">[MASK]</span> <span style=\"background-color:rgba(255,255,255,0.16666666666666666);\">who</span> <span style=\"background-color:rgba(255,255,255,0.25);\">spend</span> <span style=\"background-color:rgba(255,255,255,0.3333333333333333);\">time</span> <span style=\"background-color:rgba(255,255,255,0.4166666666666667);\">with</span> <span style=\"background-color:rgba(255,255,255,0.5);\">family</span> <span style=\"background-color:rgba(255,255,255,0.5833333333333334);\">are</span> <span style=\"background-color:rgba(255,255,255,0.6666666666666666);\">less</span> <span style=\"background-color:rgba(255,255,255,0.75);\">[MASK]</span> <span style=\"background-color:rgba(255,255,255,0.8333333333333334);\">and</span> <span style=\"background-color:rgba(255,255,255,0.9166666666666666);\">poor</span> <span style=\"background-color:rgba(255,255,255,1.0);\">breadwinners</span>"
      ],
      "text/plain": [
       "<IPython.core.display.HTML object>"
      ]
     },
     "metadata": {},
     "output_type": "display_data"
    },
    {
     "name": "stdout",
     "output_type": "stream",
     "text": [
      "Male\n"
     ]
    },
    {
     "data": {
      "text/html": [
       "<span style=\"background-color:rgba(255,255,255,0.2);\">[MASK]</span> <span style=\"background-color:rgba(255,255,255,0.4);\">should</span> <span style=\"background-color:rgba(255,255,255,0.6);\">play</span> <span style=\"background-color:rgba(255,255,255,0.8);\">with</span> <span style=\"background-color:rgba(255,255,255,1.0);\">dolls</span> <span style=\"background-color:rgba(255,255,255,0.2);\">[MASK]</span> <span style=\"background-color:rgba(255,255,255,0.4);\">should</span> <span style=\"background-color:rgba(255,255,255,0.6);\">play</span> <span style=\"background-color:rgba(255,255,255,0.8);\">with</span> <span style=\"background-color:rgba(255,255,255,1.0);\">trucks</span> <span style=\"background-color:rgba(255,255,255,0.09090909090909091);\">There</span> <span style=\"background-color:rgba(255,255,255,0.09090909090909091);\">is</span> <span style=\"background-color:rgba(255,0,0,0.09090909090909091);\">something</span> <span style=\"background-color:rgba(255,0,0,0.09090909090909091);\">wrong</span> <span style=\"background-color:rgba(255,0,0,0.09090909090909091);\">with</span> <span style=\"background-color:rgba(255,0,0,0.18181818181818182);\">a</span> <span style=\"background-color:rgba(255,0,0,0.2727272727272727);\">[MASK]</span> <span style=\"background-color:rgba(255,0,0,0.36363636363636365);\">who</span> <span style=\"background-color:rgba(255,0,0,0.45454545454545453);\">doesn’t</span> <span style=\"background-color:rgba(255,0,0,0.5454545454545454);\">want</span> <span style=\"background-color:rgba(255,0,0,0.6363636363636364);\">children</span> <span style=\"background-color:rgba(255,255,255,0.1);\">Assertive</span> <span style=\"background-color:rgba(255,255,255,0.2);\">[MASK]</span> <span style=\"background-color:rgba(255,255,255,0.3);\">are</span> <span style=\"background-color:rgba(255,0,0,0.4);\">[MASK]</span> <span style=\"background-color:rgba(255,255,255,0.5);\">and</span> <span style=\"background-color:rgba(255,255,255,0.6);\">are</span> <span style=\"background-color:rgba(255,255,255,0.7);\">bossy,</span> <span style=\"background-color:rgba(255,0,0,0.8);\">bitches</span> <span style=\"background-color:rgba(255,255,255,0.9);\">or</span> <span style=\"background-color:rgba(255,255,255,1.0);\">whores</span> <span style=\"background-color:rgba(255,255,255,0.09090909090909091);\">Assertive</span> <span style=\"background-color:rgba(255,255,255,0.18181818181818182);\">[MASK]</span> <span style=\"background-color:rgba(255,255,255,0.2727272727272727);\">are</span> <span style=\"background-color:rgba(255,255,255,0.36363636363636365);\">less</span> <span style=\"background-color:rgba(255,255,255,0.45454545454545453);\">[MASK]</span> <span style=\"background-color:rgba(255,255,255,0.5454545454545454);\">and</span> <span style=\"background-color:rgba(255,255,255,0.6363636363636364);\">are</span> <span style=\"background-color:rgba(255,255,255,0.7272727272727273);\">bossy,</span> <span style=\"background-color:rgba(255,255,255,0.8181818181818182);\">bitches</span> <span style=\"background-color:rgba(255,255,255,0.9090909090909091);\">or</span> <span style=\"background-color:rgba(255,255,255,1.0);\">whores</span> <span style=\"background-color:rgba(255,255,255,0.14285714285714285);\">Assertive</span> <span style=\"background-color:rgba(255,0,0,0.2857142857142857);\">[MASK]</span> <span style=\"background-color:rgba(255,0,0,0.42857142857142855);\">are</span> <span style=\"background-color:rgba(255,0,0,0.5714285714285714);\">bossy,</span> <span style=\"background-color:rgba(255,0,0,0.7142857142857143);\">bitches</span> <span style=\"background-color:rgba(255,0,0,0.8571428571428571);\">or</span> <span style=\"background-color:rgba(255,0,0,1.0);\">whores</span> <span style=\"background-color:rgba(255,255,255,0.08333333333333333);\">[MASK]</span> <span style=\"background-color:rgba(255,255,255,0.16666666666666666);\">who</span> <span style=\"background-color:rgba(255,255,255,0.25);\">spend</span> <span style=\"background-color:rgba(255,255,255,0.3333333333333333);\">time</span> <span style=\"background-color:rgba(255,255,255,0.3333333333333333);\">with</span> <span style=\"background-color:rgba(255,255,255,0.4166666666666667);\">family</span> <span style=\"background-color:rgba(255,255,255,0.5);\">are</span> <span style=\"background-color:rgba(255,255,255,0.5833333333333334);\">less</span> <span style=\"background-color:rgba(255,255,255,0.6666666666666666);\">[MASK]</span> <span style=\"background-color:rgba(255,255,255,0.75);\">and</span> <span style=\"background-color:rgba(255,255,255,0.8333333333333334);\">poor</span> <span style=\"background-color:rgba(255,255,255,0.9166666666666666);\">breadwinners</span>"
      ],
      "text/plain": [
       "<IPython.core.display.HTML object>"
      ]
     },
     "metadata": {},
     "output_type": "display_data"
    },
    {
     "name": "stdout",
     "output_type": "stream",
     "text": [
      "For Layer - 10\n",
      "\n",
      "Female\n"
     ]
    },
    {
     "data": {
      "text/html": [
       "<span style=\"background-color:rgba(255,0,0,0.0);\">[MASK]</span> <span style=\"background-color:rgba(255,0,0,0.2);\">should</span> <span style=\"background-color:rgba(255,0,0,0.2);\">play</span> <span style=\"background-color:rgba(255,0,0,0.2);\">with</span> <span style=\"background-color:rgba(255,0,0,0.2);\">dolls</span> <span style=\"background-color:rgba(255,0,0,0.0);\">[MASK]</span> <span style=\"background-color:rgba(255,0,0,0.2);\">should</span> <span style=\"background-color:rgba(255,0,0,0.2);\">play</span> <span style=\"background-color:rgba(255,0,0,0.2);\">with</span> <span style=\"background-color:rgba(255,0,0,0.2);\">trucks</span> <span style=\"background-color:rgba(255,255,255,0.0);\">There</span> <span style=\"background-color:rgba(255,255,255,0.0);\">is</span> <span style=\"background-color:rgba(255,255,255,0.0);\">something</span> <span style=\"background-color:rgba(255,255,255,0.0);\">wrong</span> <span style=\"background-color:rgba(255,255,255,0.09090909090909091);\">with</span> <span style=\"background-color:rgba(255,255,255,0.18181818181818182);\">a</span> <span style=\"background-color:rgba(255,255,255,0.2727272727272727);\">[MASK]</span> <span style=\"background-color:rgba(255,255,255,0.36363636363636365);\">who</span> <span style=\"background-color:rgba(255,255,255,0.36363636363636365);\">doesn’t</span> <span style=\"background-color:rgba(255,255,255,0.36363636363636365);\">want</span> <span style=\"background-color:rgba(255,255,255,0.36363636363636365);\">children</span> <span style=\"background-color:rgba(255,255,255,0.0);\">Assertive</span> <span style=\"background-color:rgba(255,0,0,0.0);\">[MASK]</span> <span style=\"background-color:rgba(255,0,0,0.0);\">are</span> <span style=\"background-color:rgba(255,0,0,0.1);\">[MASK]</span> <span style=\"background-color:rgba(255,0,0,0.2);\">and</span> <span style=\"background-color:rgba(255,0,0,0.2);\">are</span> <span style=\"background-color:rgba(255,0,0,0.2);\">bossy,</span> <span style=\"background-color:rgba(255,0,0,0.2);\">bitches</span> <span style=\"background-color:rgba(255,0,0,0.3);\">or</span> <span style=\"background-color:rgba(255,0,0,0.4);\">whores</span> <span style=\"background-color:rgba(255,255,255,0.0);\">Assertive</span> <span style=\"background-color:rgba(255,0,0,0.0);\">[MASK]</span> <span style=\"background-color:rgba(255,0,0,0.0);\">are</span> <span style=\"background-color:rgba(255,0,0,0.09090909090909091);\">less</span> <span style=\"background-color:rgba(255,0,0,0.09090909090909091);\">[MASK]</span> <span style=\"background-color:rgba(255,0,0,0.09090909090909091);\">and</span> <span style=\"background-color:rgba(255,0,0,0.09090909090909091);\">are</span> <span style=\"background-color:rgba(255,0,0,0.09090909090909091);\">bossy,</span> <span style=\"background-color:rgba(255,0,0,0.09090909090909091);\">bitches</span> <span style=\"background-color:rgba(255,0,0,0.18181818181818182);\">or</span> <span style=\"background-color:rgba(255,0,0,0.2727272727272727);\">whores</span> <span style=\"background-color:rgba(255,0,0,0.0);\">Assertive</span> <span style=\"background-color:rgba(255,0,0,0.0);\">[MASK]</span> <span style=\"background-color:rgba(255,0,0,0.0);\">are</span> <span style=\"background-color:rgba(255,0,0,0.0);\">bossy,</span> <span style=\"background-color:rgba(255,0,0,0.14285714285714285);\">bitches</span> <span style=\"background-color:rgba(255,0,0,0.2857142857142857);\">or</span> <span style=\"background-color:rgba(255,0,0,0.42857142857142855);\">whores</span> <span style=\"background-color:rgba(255,255,255,0.08333333333333333);\">[MASK]</span> <span style=\"background-color:rgba(255,255,255,0.16666666666666666);\">who</span> <span style=\"background-color:rgba(255,255,255,0.25);\">spend</span> <span style=\"background-color:rgba(255,255,255,0.3333333333333333);\">time</span> <span style=\"background-color:rgba(255,255,255,0.3333333333333333);\">with</span> <span style=\"background-color:rgba(255,255,255,0.3333333333333333);\">family</span> <span style=\"background-color:rgba(255,0,0,0.3333333333333333);\">are</span> <span style=\"background-color:rgba(255,0,0,0.3333333333333333);\">less</span> <span style=\"background-color:rgba(255,0,0,0.3333333333333333);\">[MASK]</span> <span style=\"background-color:rgba(255,0,0,0.3333333333333333);\">and</span> <span style=\"background-color:rgba(255,0,0,0.3333333333333333);\">poor</span> <span style=\"background-color:rgba(255,0,0,0.3333333333333333);\">breadwinners</span>"
      ],
      "text/plain": [
       "<IPython.core.display.HTML object>"
      ]
     },
     "metadata": {},
     "output_type": "display_data"
    },
    {
     "name": "stdout",
     "output_type": "stream",
     "text": [
      "Male\n"
     ]
    },
    {
     "data": {
      "text/html": [
       "<span style=\"background-color:rgba(255,0,0,0.2);\">[MASK]</span> <span style=\"background-color:rgba(255,0,0,0.4);\">should</span> <span style=\"background-color:rgba(255,0,0,0.6);\">play</span> <span style=\"background-color:rgba(255,0,0,0.8);\">with</span> <span style=\"background-color:rgba(255,0,0,1.0);\">dolls</span> <span style=\"background-color:rgba(255,0,0,0.2);\">[MASK]</span> <span style=\"background-color:rgba(255,0,0,0.4);\">should</span> <span style=\"background-color:rgba(255,0,0,0.6);\">play</span> <span style=\"background-color:rgba(255,0,0,0.8);\">with</span> <span style=\"background-color:rgba(255,0,0,1.0);\">trucks</span> <span style=\"background-color:rgba(255,255,255,0.09090909090909091);\">There</span> <span style=\"background-color:rgba(255,255,255,0.09090909090909091);\">is</span> <span style=\"background-color:rgba(255,255,255,0.09090909090909091);\">something</span> <span style=\"background-color:rgba(255,255,255,0.09090909090909091);\">wrong</span> <span style=\"background-color:rgba(255,255,255,0.09090909090909091);\">with</span> <span style=\"background-color:rgba(255,255,255,0.18181818181818182);\">a</span> <span style=\"background-color:rgba(255,255,255,0.2727272727272727);\">[MASK]</span> <span style=\"background-color:rgba(255,255,255,0.36363636363636365);\">who</span> <span style=\"background-color:rgba(255,255,255,0.45454545454545453);\">doesn’t</span> <span style=\"background-color:rgba(255,255,255,0.45454545454545453);\">want</span> <span style=\"background-color:rgba(255,255,255,0.45454545454545453);\">children</span> <span style=\"background-color:rgba(255,255,255,0.1);\">Assertive</span> <span style=\"background-color:rgba(255,0,0,0.2);\">[MASK]</span> <span style=\"background-color:rgba(255,0,0,0.3);\">are</span> <span style=\"background-color:rgba(255,0,0,0.4);\">[MASK]</span> <span style=\"background-color:rgba(255,0,0,0.5);\">and</span> <span style=\"background-color:rgba(255,0,0,0.6);\">are</span> <span style=\"background-color:rgba(255,0,0,0.7);\">bossy,</span> <span style=\"background-color:rgba(255,0,0,0.8);\">bitches</span> <span style=\"background-color:rgba(255,0,0,0.9);\">or</span> <span style=\"background-color:rgba(255,0,0,1.0);\">whores</span> <span style=\"background-color:rgba(255,255,255,0.09090909090909091);\">Assertive</span> <span style=\"background-color:rgba(255,0,0,0.18181818181818182);\">[MASK]</span> <span style=\"background-color:rgba(255,0,0,0.2727272727272727);\">are</span> <span style=\"background-color:rgba(255,0,0,0.36363636363636365);\">less</span> <span style=\"background-color:rgba(255,0,0,0.45454545454545453);\">[MASK]</span> <span style=\"background-color:rgba(255,0,0,0.45454545454545453);\">and</span> <span style=\"background-color:rgba(255,0,0,0.5454545454545454);\">are</span> <span style=\"background-color:rgba(255,0,0,0.6363636363636364);\">bossy,</span> <span style=\"background-color:rgba(255,0,0,0.7272727272727273);\">bitches</span> <span style=\"background-color:rgba(255,0,0,0.8181818181818182);\">or</span> <span style=\"background-color:rgba(255,0,0,0.9090909090909091);\">whores</span> <span style=\"background-color:rgba(255,0,0,0.14285714285714285);\">Assertive</span> <span style=\"background-color:rgba(255,0,0,0.2857142857142857);\">[MASK]</span> <span style=\"background-color:rgba(255,0,0,0.42857142857142855);\">are</span> <span style=\"background-color:rgba(255,0,0,0.5714285714285714);\">bossy,</span> <span style=\"background-color:rgba(255,0,0,0.7142857142857143);\">bitches</span> <span style=\"background-color:rgba(255,0,0,0.8571428571428571);\">or</span> <span style=\"background-color:rgba(255,0,0,1.0);\">whores</span> <span style=\"background-color:rgba(255,255,255,0.08333333333333333);\">[MASK]</span> <span style=\"background-color:rgba(255,255,255,0.16666666666666666);\">who</span> <span style=\"background-color:rgba(255,255,255,0.25);\">spend</span> <span style=\"background-color:rgba(255,255,255,0.3333333333333333);\">time</span> <span style=\"background-color:rgba(255,255,255,0.3333333333333333);\">with</span> <span style=\"background-color:rgba(255,255,255,0.4166666666666667);\">family</span> <span style=\"background-color:rgba(255,0,0,0.5);\">are</span> <span style=\"background-color:rgba(255,0,0,0.5833333333333334);\">less</span> <span style=\"background-color:rgba(255,0,0,0.6666666666666666);\">[MASK]</span> <span style=\"background-color:rgba(255,0,0,0.6666666666666666);\">and</span> <span style=\"background-color:rgba(255,0,0,0.75);\">poor</span> <span style=\"background-color:rgba(255,0,0,0.8333333333333334);\">breadwinners</span>"
      ],
      "text/plain": [
       "<IPython.core.display.HTML object>"
      ]
     },
     "metadata": {},
     "output_type": "display_data"
    },
    {
     "name": "stdout",
     "output_type": "stream",
     "text": [
      "For Layer - 11\n",
      "\n",
      "Female\n"
     ]
    },
    {
     "data": {
      "text/html": [
       "<span style=\"background-color:rgba(255,0,0,0.0);\">[MASK]</span> <span style=\"background-color:rgba(255,0,0,0.0);\">should</span> <span style=\"background-color:rgba(255,0,0,0.0);\">play</span> <span style=\"background-color:rgba(255,0,0,0.0);\">with</span> <span style=\"background-color:rgba(255,0,0,0.0);\">dolls</span> <span style=\"background-color:rgba(255,0,0,0.0);\">[MASK]</span> <span style=\"background-color:rgba(255,0,0,0.0);\">should</span> <span style=\"background-color:rgba(255,0,0,0.0);\">play</span> <span style=\"background-color:rgba(255,0,0,0.0);\">with</span> <span style=\"background-color:rgba(255,0,0,0.0);\">trucks</span> <span style=\"background-color:rgba(255,255,255,0.0);\">There</span> <span style=\"background-color:rgba(255,255,255,0.0);\">is</span> <span style=\"background-color:rgba(255,0,0,0.0);\">something</span> <span style=\"background-color:rgba(255,0,0,0.0);\">wrong</span> <span style=\"background-color:rgba(255,255,255,0.09090909090909091);\">with</span> <span style=\"background-color:rgba(255,0,0,0.09090909090909091);\">a</span> <span style=\"background-color:rgba(255,0,0,0.18181818181818182);\">[MASK]</span> <span style=\"background-color:rgba(255,0,0,0.2727272727272727);\">who</span> <span style=\"background-color:rgba(255,0,0,0.2727272727272727);\">doesn’t</span> <span style=\"background-color:rgba(255,0,0,0.2727272727272727);\">want</span> <span style=\"background-color:rgba(255,0,0,0.2727272727272727);\">children</span> <span style=\"background-color:rgba(255,255,255,0.0);\">Assertive</span> <span style=\"background-color:rgba(255,0,0,0.0);\">[MASK]</span> <span style=\"background-color:rgba(255,0,0,0.0);\">are</span> <span style=\"background-color:rgba(255,0,0,0.1);\">[MASK]</span> <span style=\"background-color:rgba(255,0,0,0.2);\">and</span> <span style=\"background-color:rgba(255,0,0,0.3);\">are</span> <span style=\"background-color:rgba(255,0,0,0.3);\">bossy,</span> <span style=\"background-color:rgba(255,0,0,0.4);\">bitches</span> <span style=\"background-color:rgba(255,0,0,0.5);\">or</span> <span style=\"background-color:rgba(255,0,0,0.6);\">whores</span> <span style=\"background-color:rgba(255,255,255,0.0);\">Assertive</span> <span style=\"background-color:rgba(255,0,0,0.0);\">[MASK]</span> <span style=\"background-color:rgba(255,0,0,0.0);\">are</span> <span style=\"background-color:rgba(255,0,0,0.09090909090909091);\">less</span> <span style=\"background-color:rgba(255,0,0,0.09090909090909091);\">[MASK]</span> <span style=\"background-color:rgba(255,0,0,0.09090909090909091);\">and</span> <span style=\"background-color:rgba(255,0,0,0.09090909090909091);\">are</span> <span style=\"background-color:rgba(255,0,0,0.09090909090909091);\">bossy,</span> <span style=\"background-color:rgba(255,0,0,0.18181818181818182);\">bitches</span> <span style=\"background-color:rgba(255,0,0,0.2727272727272727);\">or</span> <span style=\"background-color:rgba(255,0,0,0.36363636363636365);\">whores</span> <span style=\"background-color:rgba(255,0,0,0.0);\">Assertive</span> <span style=\"background-color:rgba(255,0,0,0.0);\">[MASK]</span> <span style=\"background-color:rgba(255,0,0,0.0);\">are</span> <span style=\"background-color:rgba(255,0,0,0.0);\">bossy,</span> <span style=\"background-color:rgba(255,0,0,0.14285714285714285);\">bitches</span> <span style=\"background-color:rgba(255,0,0,0.2857142857142857);\">or</span> <span style=\"background-color:rgba(255,0,0,0.42857142857142855);\">whores</span> <span style=\"background-color:rgba(255,255,255,0.0);\">[MASK]</span> <span style=\"background-color:rgba(255,255,255,0.08333333333333333);\">who</span> <span style=\"background-color:rgba(255,255,255,0.16666666666666666);\">spend</span> <span style=\"background-color:rgba(255,255,255,0.16666666666666666);\">time</span> <span style=\"background-color:rgba(255,255,255,0.16666666666666666);\">with</span> <span style=\"background-color:rgba(255,0,0,0.16666666666666666);\">family</span> <span style=\"background-color:rgba(255,0,0,0.16666666666666666);\">are</span> <span style=\"background-color:rgba(255,0,0,0.16666666666666666);\">less</span> <span style=\"background-color:rgba(255,0,0,0.16666666666666666);\">[MASK]</span> <span style=\"background-color:rgba(255,0,0,0.16666666666666666);\">and</span> <span style=\"background-color:rgba(255,0,0,0.16666666666666666);\">poor</span> <span style=\"background-color:rgba(255,0,0,0.16666666666666666);\">breadwinners</span>"
      ],
      "text/plain": [
       "<IPython.core.display.HTML object>"
      ]
     },
     "metadata": {},
     "output_type": "display_data"
    },
    {
     "name": "stdout",
     "output_type": "stream",
     "text": [
      "Male\n"
     ]
    },
    {
     "data": {
      "text/html": [
       "<span style=\"background-color:rgba(255,0,0,0.2);\">[MASK]</span> <span style=\"background-color:rgba(255,0,0,0.4);\">should</span> <span style=\"background-color:rgba(255,0,0,0.6);\">play</span> <span style=\"background-color:rgba(255,0,0,0.8);\">with</span> <span style=\"background-color:rgba(255,0,0,1.0);\">dolls</span> <span style=\"background-color:rgba(255,0,0,0.2);\">[MASK]</span> <span style=\"background-color:rgba(255,0,0,0.4);\">should</span> <span style=\"background-color:rgba(255,0,0,0.6);\">play</span> <span style=\"background-color:rgba(255,0,0,0.8);\">with</span> <span style=\"background-color:rgba(255,0,0,1.0);\">trucks</span> <span style=\"background-color:rgba(255,255,255,0.09090909090909091);\">There</span> <span style=\"background-color:rgba(255,255,255,0.09090909090909091);\">is</span> <span style=\"background-color:rgba(255,0,0,0.18181818181818182);\">something</span> <span style=\"background-color:rgba(255,0,0,0.18181818181818182);\">wrong</span> <span style=\"background-color:rgba(255,255,255,0.18181818181818182);\">with</span> <span style=\"background-color:rgba(255,0,0,0.2727272727272727);\">a</span> <span style=\"background-color:rgba(255,0,0,0.36363636363636365);\">[MASK]</span> <span style=\"background-color:rgba(255,0,0,0.45454545454545453);\">who</span> <span style=\"background-color:rgba(255,0,0,0.5454545454545454);\">doesn’t</span> <span style=\"background-color:rgba(255,0,0,0.5454545454545454);\">want</span> <span style=\"background-color:rgba(255,0,0,0.5454545454545454);\">children</span> <span style=\"background-color:rgba(255,255,255,0.1);\">Assertive</span> <span style=\"background-color:rgba(255,0,0,0.2);\">[MASK]</span> <span style=\"background-color:rgba(255,0,0,0.3);\">are</span> <span style=\"background-color:rgba(255,0,0,0.4);\">[MASK]</span> <span style=\"background-color:rgba(255,0,0,0.5);\">and</span> <span style=\"background-color:rgba(255,0,0,0.6);\">are</span> <span style=\"background-color:rgba(255,0,0,0.7);\">bossy,</span> <span style=\"background-color:rgba(255,0,0,0.8);\">bitches</span> <span style=\"background-color:rgba(255,0,0,0.9);\">or</span> <span style=\"background-color:rgba(255,0,0,1.0);\">whores</span> <span style=\"background-color:rgba(255,255,255,0.09090909090909091);\">Assertive</span> <span style=\"background-color:rgba(255,0,0,0.18181818181818182);\">[MASK]</span> <span style=\"background-color:rgba(255,0,0,0.2727272727272727);\">are</span> <span style=\"background-color:rgba(255,0,0,0.36363636363636365);\">less</span> <span style=\"background-color:rgba(255,0,0,0.45454545454545453);\">[MASK]</span> <span style=\"background-color:rgba(255,0,0,0.5454545454545454);\">and</span> <span style=\"background-color:rgba(255,0,0,0.6363636363636364);\">are</span> <span style=\"background-color:rgba(255,0,0,0.7272727272727273);\">bossy,</span> <span style=\"background-color:rgba(255,0,0,0.8181818181818182);\">bitches</span> <span style=\"background-color:rgba(255,0,0,0.9090909090909091);\">or</span> <span style=\"background-color:rgba(255,0,0,1.0);\">whores</span> <span style=\"background-color:rgba(255,0,0,0.14285714285714285);\">Assertive</span> <span style=\"background-color:rgba(255,0,0,0.2857142857142857);\">[MASK]</span> <span style=\"background-color:rgba(255,0,0,0.42857142857142855);\">are</span> <span style=\"background-color:rgba(255,0,0,0.5714285714285714);\">bossy,</span> <span style=\"background-color:rgba(255,0,0,0.7142857142857143);\">bitches</span> <span style=\"background-color:rgba(255,0,0,0.8571428571428571);\">or</span> <span style=\"background-color:rgba(255,0,0,1.0);\">whores</span> <span style=\"background-color:rgba(255,255,255,0.08333333333333333);\">[MASK]</span> <span style=\"background-color:rgba(255,255,255,0.16666666666666666);\">who</span> <span style=\"background-color:rgba(255,255,255,0.25);\">spend</span> <span style=\"background-color:rgba(255,255,255,0.25);\">time</span> <span style=\"background-color:rgba(255,255,255,0.25);\">with</span> <span style=\"background-color:rgba(255,0,0,0.3333333333333333);\">family</span> <span style=\"background-color:rgba(255,0,0,0.4166666666666667);\">are</span> <span style=\"background-color:rgba(255,0,0,0.4166666666666667);\">less</span> <span style=\"background-color:rgba(255,0,0,0.5);\">[MASK]</span> <span style=\"background-color:rgba(255,0,0,0.5833333333333334);\">and</span> <span style=\"background-color:rgba(255,0,0,0.6666666666666666);\">poor</span> <span style=\"background-color:rgba(255,0,0,0.75);\">breadwinners</span>"
      ],
      "text/plain": [
       "<IPython.core.display.HTML object>"
      ]
     },
     "metadata": {},
     "output_type": "display_data"
    },
    {
     "name": "stdout",
     "output_type": "stream",
     "text": [
      "For Layer - 12\n",
      "\n",
      "Female\n"
     ]
    },
    {
     "data": {
      "text/html": [
       "<span style=\"background-color:rgba(255,0,0,0.0);\">[MASK]</span> <span style=\"background-color:rgba(255,0,0,0.0);\">should</span> <span style=\"background-color:rgba(255,0,0,0.0);\">play</span> <span style=\"background-color:rgba(255,0,0,0.0);\">with</span> <span style=\"background-color:rgba(255,0,0,0.0);\">dolls</span> <span style=\"background-color:rgba(255,0,0,0.0);\">[MASK]</span> <span style=\"background-color:rgba(255,0,0,0.0);\">should</span> <span style=\"background-color:rgba(255,0,0,0.0);\">play</span> <span style=\"background-color:rgba(255,0,0,0.0);\">with</span> <span style=\"background-color:rgba(255,0,0,0.0);\">trucks</span> <span style=\"background-color:rgba(255,255,255,0.0);\">There</span> <span style=\"background-color:rgba(255,255,255,0.0);\">is</span> <span style=\"background-color:rgba(255,255,255,0.0);\">something</span> <span style=\"background-color:rgba(255,255,255,0.0);\">wrong</span> <span style=\"background-color:rgba(255,255,255,0.0);\">with</span> <span style=\"background-color:rgba(255,255,255,0.0);\">a</span> <span style=\"background-color:rgba(255,0,0,0.0);\">[MASK]</span> <span style=\"background-color:rgba(255,0,0,0.0);\">who</span> <span style=\"background-color:rgba(255,0,0,0.0);\">doesn’t</span> <span style=\"background-color:rgba(255,0,0,0.0);\">want</span> <span style=\"background-color:rgba(255,0,0,0.0);\">children</span> <span style=\"background-color:rgba(255,255,255,0.1);\">Assertive</span> <span style=\"background-color:rgba(255,255,255,0.1);\">[MASK]</span> <span style=\"background-color:rgba(255,255,255,0.2);\">are</span> <span style=\"background-color:rgba(255,0,0,0.3);\">[MASK]</span> <span style=\"background-color:rgba(255,255,255,0.4);\">and</span> <span style=\"background-color:rgba(255,255,255,0.5);\">are</span> <span style=\"background-color:rgba(255,255,255,0.6);\">bossy,</span> <span style=\"background-color:rgba(255,255,255,0.7);\">bitches</span> <span style=\"background-color:rgba(255,255,255,0.8);\">or</span> <span style=\"background-color:rgba(255,255,255,0.9);\">whores</span> <span style=\"background-color:rgba(255,255,255,0.0);\">Assertive</span> <span style=\"background-color:rgba(255,0,0,0.0);\">[MASK]</span> <span style=\"background-color:rgba(255,0,0,0.09090909090909091);\">are</span> <span style=\"background-color:rgba(255,0,0,0.18181818181818182);\">less</span> <span style=\"background-color:rgba(255,0,0,0.2727272727272727);\">[MASK]</span> <span style=\"background-color:rgba(255,0,0,0.2727272727272727);\">and</span> <span style=\"background-color:rgba(255,0,0,0.2727272727272727);\">are</span> <span style=\"background-color:rgba(255,0,0,0.2727272727272727);\">bossy,</span> <span style=\"background-color:rgba(255,0,0,0.36363636363636365);\">bitches</span> <span style=\"background-color:rgba(255,0,0,0.45454545454545453);\">or</span> <span style=\"background-color:rgba(255,255,255,0.5454545454545454);\">whores</span> <span style=\"background-color:rgba(255,0,0,0.0);\">Assertive</span> <span style=\"background-color:rgba(255,0,0,0.0);\">[MASK]</span> <span style=\"background-color:rgba(255,0,0,0.14285714285714285);\">are</span> <span style=\"background-color:rgba(255,0,0,0.2857142857142857);\">bossy,</span> <span style=\"background-color:rgba(255,0,0,0.42857142857142855);\">bitches</span> <span style=\"background-color:rgba(255,0,0,0.5714285714285714);\">or</span> <span style=\"background-color:rgba(255,255,255,0.7142857142857143);\">whores</span> <span style=\"background-color:rgba(255,255,255,0.0);\">[MASK]</span> <span style=\"background-color:rgba(255,0,0,0.0);\">who</span> <span style=\"background-color:rgba(255,0,0,0.0);\">spend</span> <span style=\"background-color:rgba(255,0,0,0.0);\">time</span> <span style=\"background-color:rgba(255,0,0,0.0);\">with</span> <span style=\"background-color:rgba(255,0,0,0.0);\">family</span> <span style=\"background-color:rgba(255,0,0,0.0);\">are</span> <span style=\"background-color:rgba(255,0,0,0.0);\">less</span> <span style=\"background-color:rgba(255,0,0,0.0);\">[MASK]</span> <span style=\"background-color:rgba(255,0,0,0.0);\">and</span> <span style=\"background-color:rgba(255,0,0,0.0);\">poor</span> <span style=\"background-color:rgba(255,0,0,0.0);\">breadwinners</span>"
      ],
      "text/plain": [
       "<IPython.core.display.HTML object>"
      ]
     },
     "metadata": {},
     "output_type": "display_data"
    },
    {
     "name": "stdout",
     "output_type": "stream",
     "text": [
      "Male\n"
     ]
    },
    {
     "data": {
      "text/html": [
       "<span style=\"background-color:rgba(255,0,0,0.2);\">[MASK]</span> <span style=\"background-color:rgba(255,0,0,0.4);\">should</span> <span style=\"background-color:rgba(255,0,0,0.6);\">play</span> <span style=\"background-color:rgba(255,0,0,0.6);\">with</span> <span style=\"background-color:rgba(255,0,0,0.6);\">dolls</span> <span style=\"background-color:rgba(255,0,0,0.2);\">[MASK]</span> <span style=\"background-color:rgba(255,0,0,0.4);\">should</span> <span style=\"background-color:rgba(255,0,0,0.6);\">play</span> <span style=\"background-color:rgba(255,0,0,0.6);\">with</span> <span style=\"background-color:rgba(255,0,0,0.6);\">trucks</span> <span style=\"background-color:rgba(255,255,255,0.09090909090909091);\">There</span> <span style=\"background-color:rgba(255,255,255,0.09090909090909091);\">is</span> <span style=\"background-color:rgba(255,255,255,0.09090909090909091);\">something</span> <span style=\"background-color:rgba(255,255,255,0.09090909090909091);\">wrong</span> <span style=\"background-color:rgba(255,255,255,0.09090909090909091);\">with</span> <span style=\"background-color:rgba(255,255,255,0.09090909090909091);\">a</span> <span style=\"background-color:rgba(255,0,0,0.18181818181818182);\">[MASK]</span> <span style=\"background-color:rgba(255,0,0,0.2727272727272727);\">who</span> <span style=\"background-color:rgba(255,0,0,0.36363636363636365);\">doesn’t</span> <span style=\"background-color:rgba(255,0,0,0.36363636363636365);\">want</span> <span style=\"background-color:rgba(255,0,0,0.36363636363636365);\">children</span> <span style=\"background-color:rgba(255,255,255,0.1);\">Assertive</span> <span style=\"background-color:rgba(255,255,255,0.2);\">[MASK]</span> <span style=\"background-color:rgba(255,255,255,0.3);\">are</span> <span style=\"background-color:rgba(255,0,0,0.4);\">[MASK]</span> <span style=\"background-color:rgba(255,255,255,0.5);\">and</span> <span style=\"background-color:rgba(255,255,255,0.6);\">are</span> <span style=\"background-color:rgba(255,255,255,0.7);\">bossy,</span> <span style=\"background-color:rgba(255,255,255,0.7);\">bitches</span> <span style=\"background-color:rgba(255,255,255,0.8);\">or</span> <span style=\"background-color:rgba(255,255,255,0.9);\">whores</span> <span style=\"background-color:rgba(255,255,255,0.09090909090909091);\">Assertive</span> <span style=\"background-color:rgba(255,0,0,0.18181818181818182);\">[MASK]</span> <span style=\"background-color:rgba(255,0,0,0.2727272727272727);\">are</span> <span style=\"background-color:rgba(255,0,0,0.36363636363636365);\">less</span> <span style=\"background-color:rgba(255,0,0,0.45454545454545453);\">[MASK]</span> <span style=\"background-color:rgba(255,0,0,0.45454545454545453);\">and</span> <span style=\"background-color:rgba(255,0,0,0.5454545454545454);\">are</span> <span style=\"background-color:rgba(255,0,0,0.6363636363636364);\">bossy,</span> <span style=\"background-color:rgba(255,0,0,0.6363636363636364);\">bitches</span> <span style=\"background-color:rgba(255,0,0,0.6363636363636364);\">or</span> <span style=\"background-color:rgba(255,255,255,0.6363636363636364);\">whores</span> <span style=\"background-color:rgba(255,0,0,0.14285714285714285);\">Assertive</span> <span style=\"background-color:rgba(255,0,0,0.2857142857142857);\">[MASK]</span> <span style=\"background-color:rgba(255,0,0,0.42857142857142855);\">are</span> <span style=\"background-color:rgba(255,0,0,0.5714285714285714);\">bossy,</span> <span style=\"background-color:rgba(255,0,0,0.5714285714285714);\">bitches</span> <span style=\"background-color:rgba(255,0,0,0.7142857142857143);\">or</span> <span style=\"background-color:rgba(255,255,255,0.7142857142857143);\">whores</span> <span style=\"background-color:rgba(255,255,255,0.08333333333333333);\">[MASK]</span> <span style=\"background-color:rgba(255,0,0,0.16666666666666666);\">who</span> <span style=\"background-color:rgba(255,0,0,0.25);\">spend</span> <span style=\"background-color:rgba(255,0,0,0.25);\">time</span> <span style=\"background-color:rgba(255,0,0,0.25);\">with</span> <span style=\"background-color:rgba(255,0,0,0.25);\">family</span> <span style=\"background-color:rgba(255,0,0,0.25);\">are</span> <span style=\"background-color:rgba(255,0,0,0.25);\">less</span> <span style=\"background-color:rgba(255,0,0,0.25);\">[MASK]</span> <span style=\"background-color:rgba(255,0,0,0.25);\">and</span> <span style=\"background-color:rgba(255,0,0,0.25);\">poor</span> <span style=\"background-color:rgba(255,0,0,0.25);\">breadwinners</span>"
      ],
      "text/plain": [
       "<IPython.core.display.HTML object>"
      ]
     },
     "metadata": {},
     "output_type": "display_data"
    },
    {
     "name": "stdout",
     "output_type": "stream",
     "text": [
      "For Layer - 13\n",
      "\n",
      "Female\n"
     ]
    },
    {
     "data": {
      "text/html": [
       "<span style=\"background-color:rgba(255,255,255,0.2);\">[MASK]</span> <span style=\"background-color:rgba(255,255,255,0.4);\">should</span> <span style=\"background-color:rgba(255,0,0,0.4);\">play</span> <span style=\"background-color:rgba(255,0,0,0.4);\">with</span> <span style=\"background-color:rgba(255,0,0,0.4);\">dolls</span> <span style=\"background-color:rgba(255,255,255,0.2);\">[MASK]</span> <span style=\"background-color:rgba(255,255,255,0.4);\">should</span> <span style=\"background-color:rgba(255,0,0,0.4);\">play</span> <span style=\"background-color:rgba(255,0,0,0.4);\">with</span> <span style=\"background-color:rgba(255,0,0,0.4);\">trucks</span> <span style=\"background-color:rgba(255,255,255,0.09090909090909091);\">There</span> <span style=\"background-color:rgba(255,255,255,0.09090909090909091);\">is</span> <span style=\"background-color:rgba(255,0,0,0.09090909090909091);\">something</span> <span style=\"background-color:rgba(255,0,0,0.09090909090909091);\">wrong</span> <span style=\"background-color:rgba(255,0,0,0.09090909090909091);\">with</span> <span style=\"background-color:rgba(255,0,0,0.09090909090909091);\">a</span> <span style=\"background-color:rgba(255,0,0,0.18181818181818182);\">[MASK]</span> <span style=\"background-color:rgba(255,0,0,0.18181818181818182);\">who</span> <span style=\"background-color:rgba(255,0,0,0.18181818181818182);\">doesn’t</span> <span style=\"background-color:rgba(255,0,0,0.2727272727272727);\">want</span> <span style=\"background-color:rgba(255,0,0,0.2727272727272727);\">children</span> <span style=\"background-color:rgba(255,255,255,0.1);\">Assertive</span> <span style=\"background-color:rgba(255,255,255,0.2);\">[MASK]</span> <span style=\"background-color:rgba(255,255,255,0.3);\">are</span> <span style=\"background-color:rgba(255,255,255,0.4);\">[MASK]</span> <span style=\"background-color:rgba(255,255,255,0.5);\">and</span> <span style=\"background-color:rgba(255,255,255,0.5);\">are</span> <span style=\"background-color:rgba(255,0,0,0.5);\">bossy,</span> <span style=\"background-color:rgba(255,0,0,0.6);\">bitches</span> <span style=\"background-color:rgba(255,0,0,0.7);\">or</span> <span style=\"background-color:rgba(255,255,255,0.8);\">whores</span> <span style=\"background-color:rgba(255,255,255,0.09090909090909091);\">Assertive</span> <span style=\"background-color:rgba(255,255,255,0.18181818181818182);\">[MASK]</span> <span style=\"background-color:rgba(255,255,255,0.2727272727272727);\">are</span> <span style=\"background-color:rgba(255,255,255,0.36363636363636365);\">less</span> <span style=\"background-color:rgba(255,255,255,0.45454545454545453);\">[MASK]</span> <span style=\"background-color:rgba(255,255,255,0.5454545454545454);\">and</span> <span style=\"background-color:rgba(255,255,255,0.5454545454545454);\">are</span> <span style=\"background-color:rgba(255,0,0,0.5454545454545454);\">bossy,</span> <span style=\"background-color:rgba(255,0,0,0.6363636363636364);\">bitches</span> <span style=\"background-color:rgba(255,255,255,0.7272727272727273);\">or</span> <span style=\"background-color:rgba(255,255,255,0.8181818181818182);\">whores</span> <span style=\"background-color:rgba(255,255,255,0.14285714285714285);\">Assertive</span> <span style=\"background-color:rgba(255,255,255,0.2857142857142857);\">[MASK]</span> <span style=\"background-color:rgba(255,255,255,0.42857142857142855);\">are</span> <span style=\"background-color:rgba(255,255,255,0.5714285714285714);\">bossy,</span> <span style=\"background-color:rgba(255,0,0,0.7142857142857143);\">bitches</span> <span style=\"background-color:rgba(255,0,0,0.8571428571428571);\">or</span> <span style=\"background-color:rgba(255,0,0,1.0);\">whores</span> <span style=\"background-color:rgba(255,255,255,0.08333333333333333);\">[MASK]</span> <span style=\"background-color:rgba(255,255,255,0.16666666666666666);\">who</span> <span style=\"background-color:rgba(255,255,255,0.16666666666666666);\">spend</span> <span style=\"background-color:rgba(255,255,255,0.25);\">time</span> <span style=\"background-color:rgba(255,255,255,0.3333333333333333);\">with</span> <span style=\"background-color:rgba(255,255,255,0.3333333333333333);\">family</span> <span style=\"background-color:rgba(255,255,255,0.4166666666666667);\">are</span> <span style=\"background-color:rgba(255,255,255,0.5);\">less</span> <span style=\"background-color:rgba(255,255,255,0.5);\">[MASK]</span> <span style=\"background-color:rgba(255,255,255,0.5833333333333334);\">and</span> <span style=\"background-color:rgba(255,255,255,0.5833333333333334);\">poor</span> <span style=\"background-color:rgba(255,0,0,0.5833333333333334);\">breadwinners</span>"
      ],
      "text/plain": [
       "<IPython.core.display.HTML object>"
      ]
     },
     "metadata": {},
     "output_type": "display_data"
    },
    {
     "name": "stdout",
     "output_type": "stream",
     "text": [
      "Male\n"
     ]
    },
    {
     "data": {
      "text/html": [
       "<span style=\"background-color:rgba(255,255,255,0.2);\">[MASK]</span> <span style=\"background-color:rgba(255,255,255,0.4);\">should</span> <span style=\"background-color:rgba(255,0,0,0.6);\">play</span> <span style=\"background-color:rgba(255,0,0,0.8);\">with</span> <span style=\"background-color:rgba(255,0,0,1.0);\">dolls</span> <span style=\"background-color:rgba(255,255,255,0.2);\">[MASK]</span> <span style=\"background-color:rgba(255,255,255,0.4);\">should</span> <span style=\"background-color:rgba(255,0,0,0.6);\">play</span> <span style=\"background-color:rgba(255,0,0,0.8);\">with</span> <span style=\"background-color:rgba(255,0,0,1.0);\">trucks</span> <span style=\"background-color:rgba(255,255,255,0.09090909090909091);\">There</span> <span style=\"background-color:rgba(255,255,255,0.18181818181818182);\">is</span> <span style=\"background-color:rgba(255,0,0,0.2727272727272727);\">something</span> <span style=\"background-color:rgba(255,0,0,0.36363636363636365);\">wrong</span> <span style=\"background-color:rgba(255,0,0,0.45454545454545453);\">with</span> <span style=\"background-color:rgba(255,0,0,0.5454545454545454);\">a</span> <span style=\"background-color:rgba(255,0,0,0.6363636363636364);\">[MASK]</span> <span style=\"background-color:rgba(255,0,0,0.7272727272727273);\">who</span> <span style=\"background-color:rgba(255,0,0,0.8181818181818182);\">doesn’t</span> <span style=\"background-color:rgba(255,0,0,0.9090909090909091);\">want</span> <span style=\"background-color:rgba(255,0,0,1.0);\">children</span> <span style=\"background-color:rgba(255,255,255,0.1);\">Assertive</span> <span style=\"background-color:rgba(255,255,255,0.2);\">[MASK]</span> <span style=\"background-color:rgba(255,255,255,0.3);\">are</span> <span style=\"background-color:rgba(255,255,255,0.4);\">[MASK]</span> <span style=\"background-color:rgba(255,255,255,0.5);\">and</span> <span style=\"background-color:rgba(255,255,255,0.6);\">are</span> <span style=\"background-color:rgba(255,0,0,0.7);\">bossy,</span> <span style=\"background-color:rgba(255,0,0,0.8);\">bitches</span> <span style=\"background-color:rgba(255,0,0,0.8);\">or</span> <span style=\"background-color:rgba(255,255,255,0.8);\">whores</span> <span style=\"background-color:rgba(255,255,255,0.09090909090909091);\">Assertive</span> <span style=\"background-color:rgba(255,255,255,0.18181818181818182);\">[MASK]</span> <span style=\"background-color:rgba(255,255,255,0.2727272727272727);\">are</span> <span style=\"background-color:rgba(255,255,255,0.36363636363636365);\">less</span> <span style=\"background-color:rgba(255,255,255,0.45454545454545453);\">[MASK]</span> <span style=\"background-color:rgba(255,255,255,0.5454545454545454);\">and</span> <span style=\"background-color:rgba(255,255,255,0.6363636363636364);\">are</span> <span style=\"background-color:rgba(255,0,0,0.7272727272727273);\">bossy,</span> <span style=\"background-color:rgba(255,0,0,0.8181818181818182);\">bitches</span> <span style=\"background-color:rgba(255,255,255,0.8181818181818182);\">or</span> <span style=\"background-color:rgba(255,255,255,0.8181818181818182);\">whores</span> <span style=\"background-color:rgba(255,255,255,0.14285714285714285);\">Assertive</span> <span style=\"background-color:rgba(255,255,255,0.2857142857142857);\">[MASK]</span> <span style=\"background-color:rgba(255,255,255,0.42857142857142855);\">are</span> <span style=\"background-color:rgba(255,255,255,0.5714285714285714);\">bossy,</span> <span style=\"background-color:rgba(255,0,0,0.5714285714285714);\">bitches</span> <span style=\"background-color:rgba(255,0,0,0.5714285714285714);\">or</span> <span style=\"background-color:rgba(255,0,0,0.7142857142857143);\">whores</span> <span style=\"background-color:rgba(255,255,255,0.08333333333333333);\">[MASK]</span> <span style=\"background-color:rgba(255,255,255,0.16666666666666666);\">who</span> <span style=\"background-color:rgba(255,255,255,0.25);\">spend</span> <span style=\"background-color:rgba(255,255,255,0.25);\">time</span> <span style=\"background-color:rgba(255,255,255,0.25);\">with</span> <span style=\"background-color:rgba(255,255,255,0.25);\">family</span> <span style=\"background-color:rgba(255,255,255,0.3333333333333333);\">are</span> <span style=\"background-color:rgba(255,255,255,0.4166666666666667);\">less</span> <span style=\"background-color:rgba(255,255,255,0.5);\">[MASK]</span> <span style=\"background-color:rgba(255,255,255,0.5833333333333334);\">and</span> <span style=\"background-color:rgba(255,255,255,0.6666666666666666);\">poor</span> <span style=\"background-color:rgba(255,0,0,0.75);\">breadwinners</span>"
      ],
      "text/plain": [
       "<IPython.core.display.HTML object>"
      ]
     },
     "metadata": {},
     "output_type": "display_data"
    }
   ],
   "source": [
    "import math\n",
    "\n",
    "for layer, value in results.items():\n",
    "    visualized_text_male = []\n",
    "    visualized_text_female = []\n",
    "    for word, tcav_f, tcav_m in value:\n",
    "        if abs((tcav_f - tcav_m)) > 0.1:\n",
    "            visualized_text_male.append('<span style=\"background-color:rgba(255,0,0,' + str(tcav_m) + ');\">' + word + '</span>')\n",
    "            visualized_text_female.append('<span style=\"background-color:rgba(255,0,0,' + str(tcav_f) + ');\">' + word + '</span>')\n",
    "        else:\n",
    "            visualized_text_male.append('<span style=\"background-color:rgba(255,255,255,' + str(tcav_m) + ');\">' + word + '</span>')\n",
    "            visualized_text_female.append('<span style=\"background-color:rgba(255,255,255,' + str(tcav_f) + ');\">' + word + '</span>')\n",
    "\n",
    "    print(f\"For Layer - {layer}\")\n",
    "    visualized_text_male = ' '.join(visualized_text_male)\n",
    "    visualized_text_female = ' '.join(visualized_text_female)\n",
    "\n",
    "    print()\n",
    "    print(\"Female\")\n",
    "    display(HTML(visualized_text_female))\n",
    "    print(\"Male\")\n",
    "    display(HTML(visualized_text_male))\n"
   ]
  },
  {
   "cell_type": "code",
   "execution_count": 68,
   "metadata": {},
   "outputs": [
    {
     "name": "stdout",
     "output_type": "stream",
     "text": [
      "Layer - 1, Distance - 0.0038056010380387306\n",
      "Layer - 2, Distance - 0.0038191908970475197\n",
      "Layer - 3, Distance - 0.004234581720083952\n",
      "Layer - 4, Distance - 0.004261475056409836\n",
      "Layer - 5, Distance - 0.004274476785212755\n",
      "Layer - 6, Distance - 0.00446723960340023\n",
      "Layer - 7, Distance - 0.004464433528482914\n",
      "Layer - 8, Distance - 0.004559659399092197\n",
      "Layer - 9, Distance - 0.004535969812422991\n",
      "Layer - 10, Distance - 0.004684083163738251\n",
      "Layer - 11, Distance - 0.004303296096622944\n",
      "Layer - 12, Distance - 0.004460245370864868\n",
      "Layer - 13, Distance - 0.004722955171018839\n"
     ]
    }
   ],
   "source": [
    "from sklearn.metrics.pairwise import euclidean_distances\n",
    "\n",
    "for ix in range(1, num_layers+1):\n",
    "    female_cav_per_layer = layer_wise_cavs[f\"standard-{ix}\"][\"female\"]\n",
    "    male_cav_per_layer = layer_wise_cavs[f\"standard-{ix}\"][\"male\"]\n",
    "    female_cav_per_layer = np.reshape(female_cav_per_layer, (-1, 1))\n",
    "    male_cav_per_layer = np.reshape(male_cav_per_layer, (-1, 1))\n",
    "    \n",
    "    dist = euclidean_distances(female_cav_per_layer, male_cav_per_layer).mean()\n",
    "    print(f\"Layer - {ix}, Distance - {dist}\")"
   ]
  },
  {
   "cell_type": "code",
   "execution_count": 48,
   "metadata": {},
   "outputs": [
    {
     "data": {
      "application/vnd.jupyter.widget-view+json": {
       "model_id": "c007185c2b6348a9a6c2b6191e9a152a",
       "version_major": 2,
       "version_minor": 0
      },
      "text/plain": [
       "HBox(children=(FloatProgress(value=0.0, description='Downloading', max=230.0, style=ProgressStyle(description_…"
      ]
     },
     "metadata": {},
     "output_type": "display_data"
    },
    {
     "name": "stdout",
     "output_type": "stream",
     "text": [
      "\n"
     ]
    }
   ],
   "source": [
    "from transformers import pipeline\n",
    "unmasker = pipeline('fill-mask', model='bert-base-uncased')"
   ]
  },
  {
   "cell_type": "code",
   "execution_count": 49,
   "metadata": {},
   "outputs": [
    {
     "data": {
      "text/plain": [
       "[{'sequence': '[CLS] there is something wrong with a woman who doesn ’ t want children. [SEP]',\n",
       "  'score': 0.6903162002563477,\n",
       "  'token': 2450},\n",
       " {'sequence': '[CLS] there is something wrong with a man who doesn ’ t want children. [SEP]',\n",
       "  'score': 0.18107667565345764,\n",
       "  'token': 2158},\n",
       " {'sequence': '[CLS] there is something wrong with a mother who doesn ’ t want children. [SEP]',\n",
       "  'score': 0.02684422954916954,\n",
       "  'token': 2388},\n",
       " {'sequence': '[CLS] there is something wrong with a girl who doesn ’ t want children. [SEP]',\n",
       "  'score': 0.023775523528456688,\n",
       "  'token': 2611},\n",
       " {'sequence': '[CLS] there is something wrong with a person who doesn ’ t want children. [SEP]',\n",
       "  'score': 0.020146241411566734,\n",
       "  'token': 2711}]"
      ]
     },
     "execution_count": 49,
     "metadata": {},
     "output_type": "execute_result"
    }
   ],
   "source": [
    "unmasker(\"There is something wrong with a [MASK] who doesn’t want children.\")"
   ]
  },
  {
   "cell_type": "code",
   "execution_count": 50,
   "metadata": {},
   "outputs": [
    {
     "data": {
      "text/plain": [
       "[{'sequence': '[CLS] you should play with dolls. [SEP]',\n",
       "  'score': 0.4743955135345459,\n",
       "  'token': 2017},\n",
       " {'sequence': '[CLS] we should play with dolls. [SEP]',\n",
       "  'score': 0.1749144196510315,\n",
       "  'token': 2057},\n",
       " {'sequence': '[CLS] i should play with dolls. [SEP]',\n",
       "  'score': 0.08956822007894516,\n",
       "  'token': 1045},\n",
       " {'sequence': '[CLS] they should play with dolls. [SEP]',\n",
       "  'score': 0.05895639955997467,\n",
       "  'token': 2027},\n",
       " {'sequence': '[CLS] she should play with dolls. [SEP]',\n",
       "  'score': 0.02730507031083107,\n",
       "  'token': 2016}]"
      ]
     },
     "execution_count": 50,
     "metadata": {},
     "output_type": "execute_result"
    }
   ],
   "source": [
    "unmasker(\"[MASK] should play with dolls.\")"
   ]
  },
  {
   "cell_type": "code",
   "execution_count": 52,
   "metadata": {},
   "outputs": [
    {
     "data": {
      "text/plain": [
       "[{'sequence': '[CLS] assertive women are bossy, bitches or whores. [SEP]',\n",
       "  'score': 0.7097612023353577,\n",
       "  'token': 2308},\n",
       " {'sequence': '[CLS] assertive females are bossy, bitches or whores. [SEP]',\n",
       "  'score': 0.1256134808063507,\n",
       "  'token': 3801},\n",
       " {'sequence': '[CLS] assertive girls are bossy, bitches or whores. [SEP]',\n",
       "  'score': 0.03168177232146263,\n",
       "  'token': 3057},\n",
       " {'sequence': '[CLS] assertive males are bossy, bitches or whores. [SEP]',\n",
       "  'score': 0.011371561326086521,\n",
       "  'token': 3767},\n",
       " {'sequence': '[CLS] assertive people are bossy, bitches or whores. [SEP]',\n",
       "  'score': 0.010962707921862602,\n",
       "  'token': 2111}]"
      ]
     },
     "execution_count": 52,
     "metadata": {},
     "output_type": "execute_result"
    }
   ],
   "source": [
    "unmasker(\"Assertive [MASK] are bossy, bitches or whores.\")"
   ]
  },
  {
   "cell_type": "code",
   "execution_count": 69,
   "metadata": {},
   "outputs": [
    {
     "data": {
      "text/plain": [
       "[{'sequence': '[CLS] you should play with trucks. [SEP]',\n",
       "  'score': 0.45734453201293945,\n",
       "  'token': 2017},\n",
       " {'sequence': '[CLS] i should play with trucks. [SEP]',\n",
       "  'score': 0.21283267438411713,\n",
       "  'token': 1045},\n",
       " {'sequence': '[CLS] we should play with trucks. [SEP]',\n",
       "  'score': 0.15774337947368622,\n",
       "  'token': 2057},\n",
       " {'sequence': '[CLS] he should play with trucks. [SEP]',\n",
       "  'score': 0.05727292224764824,\n",
       "  'token': 2002},\n",
       " {'sequence': '[CLS] they should play with trucks. [SEP]',\n",
       "  'score': 0.040389180183410645,\n",
       "  'token': 2027}]"
      ]
     },
     "execution_count": 69,
     "metadata": {},
     "output_type": "execute_result"
    }
   ],
   "source": [
    "unmasker(\"[MASK] should play with trucks.\")"
   ]
  },
  {
   "cell_type": "code",
   "execution_count": null,
   "metadata": {},
   "outputs": [],
   "source": []
  }
 ],
 "metadata": {
  "kernelspec": {
   "display_name": "Python 3",
   "language": "python",
   "name": "python3"
  },
  "language_info": {
   "codemirror_mode": {
    "name": "ipython",
    "version": 3
   },
   "file_extension": ".py",
   "mimetype": "text/x-python",
   "name": "python",
   "nbconvert_exporter": "python",
   "pygments_lexer": "ipython3",
   "version": "3.7.7"
  }
 },
 "nbformat": 4,
 "nbformat_minor": 2
}
