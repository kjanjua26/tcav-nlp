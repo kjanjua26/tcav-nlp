{
 "cells": [
  {
   "cell_type": "code",
   "execution_count": 1,
   "metadata": {},
   "outputs": [],
   "source": [
    "import h5py\n",
    "from tqdm import tqdm\n",
    "import numpy as np\n",
    "import torch\n",
    "import json\n",
    "import os, sys\n",
    "from sklearn import linear_model\n",
    "\n",
    "sys.path.append(\"/Users/Janjua/Desktop/QCRI/Work/aux_classifier/\")\n",
    "import aux_classifier.extraction as extraction\n",
    "import aux_classifier.data_loader as data_loader\n",
    "import aux_classifier.utils as utils"
   ]
  },
  {
   "cell_type": "code",
   "execution_count": 2,
   "metadata": {},
   "outputs": [],
   "source": [
    "# concept data loading\n",
    "base_data_path = \"/Users/Janjua/Desktop/QCRI/Work/data/\"\n",
    "acts = os.path.join(base_data_path, \"subsample_concept_acts.json\")\n",
    "concept_sents = os.path.join(base_data_path, \"subsample.in\")\n",
    "concept_labels = os.path.join(base_data_path, \"subsample_label.in\")\n",
    "base_acts_path = os.path.join(base_data_path, \"extractions-professions-mask.json\")\n",
    "base_sents = os.path.join(base_data_path, \"masks.txt\")\n",
    "male = str(1)\n",
    "female = str(0)"
   ]
  },
  {
   "cell_type": "code",
   "execution_count": 3,
   "metadata": {},
   "outputs": [
    {
     "name": "stdout",
     "output_type": "stream",
     "text": [
      "Loading json activations from /Users/Janjua/Desktop/QCRI/Work/data/subsample_concept_acts.json...\n",
      "1000 13.0\n"
     ]
    }
   ],
   "source": [
    "activations, num_layers = data_loader.load_activations(acts, 768)"
   ]
  },
  {
   "cell_type": "code",
   "execution_count": 4,
   "metadata": {},
   "outputs": [
    {
     "name": "stdout",
     "output_type": "stream",
     "text": [
      "Loading json activations from /Users/Janjua/Desktop/QCRI/Work/data/extractions-professions-mask.json...\n",
      "194 13.0\n"
     ]
    }
   ],
   "source": [
    "base_acts, base_num_layers = data_loader.load_activations(base_acts_path, 768)"
   ]
  },
  {
   "cell_type": "code",
   "execution_count": 5,
   "metadata": {},
   "outputs": [
    {
     "name": "stdout",
     "output_type": "stream",
     "text": [
      "(14, 9984) (10, 9984)\n",
      "Num Layers:  13  Acts Len:  1000\n"
     ]
    }
   ],
   "source": [
    "print(activations[0].shape, activations[1].shape)\n",
    "print('Num Layers: ', num_layers, ' Acts Len: ', len(activations))"
   ]
  },
  {
   "cell_type": "code",
   "execution_count": 6,
   "metadata": {},
   "outputs": [
    {
     "name": "stdout",
     "output_type": "stream",
     "text": [
      "Skipping line:  4\n",
      "A: 17, S: 16, T: 17\n",
      "Skipping line:  633\n",
      "A: 11, S: 10, T: 11\n",
      "Skipping line:  842\n",
      "A: 8, S: 9, T: 8\n",
      "Deleting line 4: 17 activations, 16 source, 17 target\n",
      "Deleting line 632: 11 activations, 10 source, 11 target\n",
      "Deleting line 840: 8 activations, 9 source, 8 target\n"
     ]
    }
   ],
   "source": [
    "tokens = data_loader.load_data(concept_sents,\n",
    "                               concept_labels,\n",
    "                               activations,\n",
    "                               512)"
   ]
  },
  {
   "cell_type": "code",
   "execution_count": 7,
   "metadata": {},
   "outputs": [],
   "source": [
    "def parse_concepts(concept_files):\n",
    "    \"\"\"Parses the concepts and stores in memory for lookup.\"\"\"\n",
    "    concepts = {}\n",
    "    for ix, file in enumerate(concept_files):\n",
    "        with open(file, 'r') as fp:\n",
    "            lines = fp.readlines()\n",
    "            concepts[ix] = []\n",
    "            for line in lines:\n",
    "                line = line.strip()\n",
    "                concepts[ix].append(line)\n",
    "    return concepts"
   ]
  },
  {
   "cell_type": "code",
   "execution_count": 8,
   "metadata": {},
   "outputs": [],
   "source": [
    "concept_dict = parse_concepts([\"/Users/Janjua/Desktop/QCRI/Work/tcav-nlp/code/pipeline/gender_f.txt\", \n",
    "                               \"/Users/Janjua/Desktop/QCRI/Work/tcav-nlp/code/pipeline/gender_m.txt\"])"
   ]
  },
  {
   "cell_type": "code",
   "execution_count": 9,
   "metadata": {},
   "outputs": [],
   "source": [
    "def modify_labels_according_to_concept(tokens, idx):\n",
    "    \"\"\"\n",
    "    It can be either 0 (female) or 1 (male).\n",
    "    idx (str): either 0 for female or 1 for male.\n",
    "    tokens (dict): source (words), targets (labels)\n",
    "    activations (list): the activations extracted.\n",
    "    \n",
    "    If male is required, all the other labels will be changed to UNK.\n",
    "    For any concept, this modifies the entire label vector accordingly.\n",
    "    This will be used to train separate models - binary (male vs others (including female)).\n",
    "    \"\"\"\n",
    "    source = tokens[\"source\"]\n",
    "    targets = tokens[\"target\"]\n",
    "    \n",
    "    tokens_up = {\"source\": [], \"target\": []}\n",
    "    \n",
    "    assert (len(source) == len(targets) == len(activations))\n",
    "    \n",
    "    for ix, sentence in enumerate(source):\n",
    "        labels = targets[ix]\n",
    "        labels = [idx if x == idx else 'UNK' for x in labels ]\n",
    "        tokens_up[\"source\"].append(sentence)\n",
    "        tokens_up[\"target\"].append(labels)\n",
    "        \n",
    "    return (tokens_up, [])\n",
    "\n",
    "def get_relevant_concept_activations(tokens, activations, idx):\n",
    "    \"\"\"Get the relevant concept activations.\n",
    "    It can be either 0 (female) or 1 (male).\n",
    "    idx (list): the list of two labels (0 and 1 in this case)\n",
    "    tokens (dict): source (words), targets (labels)\n",
    "    activations (list): the activations extracted.\n",
    "    \n",
    "    Only retains the required labels, tokens and activations and gets rid of all the others.\n",
    "    This will used to train a mix of 2 concepts and remove all the others (male vs female).\n",
    "    This test is one category vs the other category only.\n",
    "    \"\"\"\n",
    "    source = tokens[\"source\"]\n",
    "    targets = tokens[\"target\"]\n",
    "    \n",
    "    tokens_up = {'source': [], 'target': []}\n",
    "    acts_up = []\n",
    "    \n",
    "    assert (len(source) == len(targets) == len(activations))\n",
    "    \n",
    "    for ix, sentence in enumerate(source):\n",
    "        labels = targets[ix]\n",
    "        acts = activations[ix]\n",
    "        indexes = [labels.index(x) for x in labels if x in idx] # get the indexes from the label list where the gold label is matched.\n",
    "        \n",
    "        for index in indexes:\n",
    "            label = labels[index]\n",
    "            act = np.array(acts[index])\n",
    "            word = sentence[index]\n",
    "            tokens_up['source'].append(word)\n",
    "            tokens_up['target'].append(label)\n",
    "            acts_up.append(act)\n",
    "            \n",
    "    return (tokens_up, acts_up)\n"
   ]
  },
  {
   "cell_type": "code",
   "execution_count": 10,
   "metadata": {},
   "outputs": [],
   "source": [
    "def option(opts, concept_label, label_list=[\"0\", \"1\"]):\n",
    "    \n",
    "    if opts == \"concept-vs-other\":\n",
    "        toks, acts = get_relevant_concept_activations(tokens, activations, label_list)\n",
    "    elif opts == \"concept-vs-random\":\n",
    "        toks, acts = modify_labels_according_to_concept(tokens, concept_label)\n",
    "    else:\n",
    "        # this is multi label\n",
    "        pass\n",
    "    \n",
    "    return toks, acts"
   ]
  },
  {
   "cell_type": "code",
   "execution_count": 26,
   "metadata": {},
   "outputs": [],
   "source": [
    "concepts = [\"male\", \"female\"]\n",
    "\n",
    "def get_cavs(x, y):\n",
    "    lm = linear_model.LogisticRegression(solver='lbfgs', class_weight='balanced', max_iter=10000)\n",
    "    lm.fit(x, y)\n",
    "\n",
    "    if len(lm.coef_) == 1:\n",
    "        cavs = [-1 * lm.coef_[0], lm.coef_[0]]\n",
    "    else:\n",
    "        cavs = [c for c in lm.coef_]\n",
    "        \n",
    "    return cavs\n",
    "\n",
    "def get_direction(cavs, concept):\n",
    "    return cavs[concept] #cavs[concepts.index(concept)]\n",
    "\n",
    "def compute_direc_derivative(x, y):\n",
    "    a = np.dot(x, y)\n",
    "    return a < 0"
   ]
  },
  {
   "cell_type": "code",
   "execution_count": 31,
   "metadata": {},
   "outputs": [],
   "source": [
    "lbls2class = {\"0\": \"female\", \n",
    "              \"1\": \"male\"}\n",
    "\n",
    "def main():\n",
    "    for opts in [\"concept-vs-other\", \"concept-vs-random\"]:\n",
    "        for concept_label in [\"0\", \"1\"]:\n",
    "            print(f\"Method: {opts}, Concept: {lbls2class[concept_label]}\")\n",
    "            toks, acts = option(opts, concept_label)\n",
    "            if len(acts) != 0:\n",
    "                try:\n",
    "                    X, y, _ = utils.create_tensors(toks, acts, male) # male or female doesn't matter since data is mix, this is a mix.\n",
    "                except:\n",
    "                    X = np.array(acts)\n",
    "                    y = np.array(toks['target'])\n",
    "            else:\n",
    "                X, y, _ = utils.create_tensors(toks, activations, male) # male or female doesn't matter since data is mix, this is a mix.\n",
    "\n",
    "            cavs = get_cavs(X, y)\n",
    "            \n",
    "            tcav_dict_positional = {}\n",
    "            count = 0\n",
    "            for ix, act in enumerate(base_acts):\n",
    "                local_count = 0\n",
    "                local_tcavs_lst = []\n",
    "\n",
    "                cav = get_direction(cavs, int(concept_label))\n",
    "                #mask = act[3] # activation of the MASK\n",
    "                for ft in act:\n",
    "                    dydx = compute_direc_derivative(ft, cav)\n",
    "                    if dydx: \n",
    "                        count += 1\n",
    "                        \n",
    "            tcav = float(count)/float(len(base_acts)*len(act))\n",
    "            print(f\"TCAV - {tcav}\")\n",
    "            print(\"=\"*50)\n",
    "            "
   ]
  },
  {
   "cell_type": "code",
   "execution_count": 35,
   "metadata": {},
   "outputs": [
    {
     "name": "stdout",
     "output_type": "stream",
     "text": [
      "Method: concept-vs-other, Concept: female\n",
      "Number of tokens:  1067\n",
      "TCAV - 0.8845360824742268\n",
      "==================================================\n",
      "Method: concept-vs-other, Concept: male\n",
      "Number of tokens:  1067\n",
      "TCAV - 0.1154639175257732\n",
      "==================================================\n",
      "Method: concept-vs-random, Concept: female\n",
      "Number of tokens:  10773\n",
      "length of source dictionary:  2954\n",
      "length of target dictionary:  2\n",
      "TCAV - 0.7278350515463917\n",
      "==================================================\n",
      "Method: concept-vs-random, Concept: male\n",
      "Number of tokens:  10773\n",
      "length of source dictionary:  2954\n",
      "length of target dictionary:  2\n",
      "TCAV - 0.8938144329896908\n",
      "==================================================\n"
     ]
    }
   ],
   "source": [
    "# need to re-run this.\n",
    "main()"
   ]
  },
  {
   "cell_type": "markdown",
   "metadata": {},
   "source": [
    "## Derivative with [MASK] Word\n",
    "\n",
    "### Analysis - 1\n",
    "\n",
    "##### Order: \n",
    "    concepts = [\"female\", \"male\"]\n",
    "\n",
    "##### Scores:\n",
    "\n",
    "Method: concept-vs-other\n",
    "1. Concept: female\n",
    "2. TCAV - 0.9329896907216495\n",
    "\n",
    "Method: concept-vs-other\n",
    "1. Concept: male\n",
    "2. TCAV - 0.06701030927835051\n",
    "\n",
    "Method: concept-vs-random\n",
    "1. Concept: female\n",
    "2. TCAV - 0.0\n",
    "\n",
    "Method: concept-vs-random\n",
    "1. Concept: male\n",
    "2. TCAV - 0.5103092783505154\n",
    "\n",
    "### Analysis - 2\n",
    "\n",
    "##### Order: \n",
    "    concepts = [\"male\", \"female\"]\n",
    "\n",
    "##### Scores:\n",
    "\n",
    "Method: concept-vs-other\n",
    "1. Concept: female\n",
    "2. TCAV - 0.9329896907216495\n",
    "\n",
    "Method: concept-vs-other\n",
    "1. Concept: male\n",
    "2. TCAV - 0.06701030927835051\n",
    "\n",
    "Method: concept-vs-random\n",
    "1. Concept: female\n",
    "2. TCAV - 0.0\n",
    "\n",
    "Method: concept-vs-random\n",
    "1. Concept: male\n",
    "2. TCAV - 0.5103092783505154"
   ]
  },
  {
   "cell_type": "markdown",
   "metadata": {},
   "source": [
    "## Derivative with each Word in Sentence\n",
    "\n",
    "##### Scores:\n",
    "\n",
    "Method: concept-vs-other\n",
    "1. Concept: female\n",
    "2. TCAV - 0.8845360824742268\n",
    "\n",
    "Method: concept-vs-other\n",
    "1. Concept: male\n",
    "2. TCAV - 0.1154639175257732\n",
    "\n",
    "Method: concept-vs-random\n",
    "1. Concept: female\n",
    "2. TCAV - 0.7278350515463917\n",
    "\n",
    "Method: concept-vs-random\n",
    "1. Concept: male\n",
    "2. TCAV - 0.8938144329896908"
   ]
  },
  {
   "cell_type": "code",
   "execution_count": null,
   "metadata": {},
   "outputs": [],
   "source": []
  }
 ],
 "metadata": {
  "kernelspec": {
   "display_name": "Python 3",
   "language": "python",
   "name": "python3"
  },
  "language_info": {
   "codemirror_mode": {
    "name": "ipython",
    "version": 3
   },
   "file_extension": ".py",
   "mimetype": "text/x-python",
   "name": "python",
   "nbconvert_exporter": "python",
   "pygments_lexer": "ipython3",
   "version": "3.7.7"
  }
 },
 "nbformat": 4,
 "nbformat_minor": 2
}
